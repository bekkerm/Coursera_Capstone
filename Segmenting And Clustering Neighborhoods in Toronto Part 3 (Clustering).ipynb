{
 "cells": [
  {
   "cell_type": "markdown",
   "metadata": {},
   "source": [
    "#### Import libraries"
   ]
  },
  {
   "cell_type": "code",
   "execution_count": 1,
   "metadata": {
    "scrolled": true
   },
   "outputs": [],
   "source": [
    "import pandas as pd\n",
    "import numpy as np\n",
    "import requests\n",
    "import warnings\n",
    "warnings.filterwarnings('ignore')\n",
    "import geopy\n",
    "from geopy.geocoders import Nominatim\n",
    "import geocoder\n",
    "import folium\n",
    "from sklearn.cluster import KMeans\n",
    "import matplotlib.cm as cm\n",
    "import matplotlib.colors as colors"
   ]
  },
  {
   "cell_type": "markdown",
   "metadata": {},
   "source": [
    "#### Set the url to table location and get the content of the page in variable"
   ]
  },
  {
   "cell_type": "code",
   "execution_count": 2,
   "metadata": {},
   "outputs": [],
   "source": [
    "url = 'https://en.wikipedia.org/wiki/List_of_postal_codes_of_Canada:_M'\n",
    "page = requests.get(url).content"
   ]
  },
  {
   "cell_type": "markdown",
   "metadata": {},
   "source": [
    "#### Use the pandas read_html function to read the table. In this case the first table on the page ([0])"
   ]
  },
  {
   "cell_type": "code",
   "execution_count": 3,
   "metadata": {},
   "outputs": [],
   "source": [
    "df_raw = pd.read_html(page,header=0)[0]"
   ]
  },
  {
   "cell_type": "code",
   "execution_count": 4,
   "metadata": {},
   "outputs": [
    {
     "data": {
      "text/html": [
       "<div>\n",
       "<style scoped>\n",
       "    .dataframe tbody tr th:only-of-type {\n",
       "        vertical-align: middle;\n",
       "    }\n",
       "\n",
       "    .dataframe tbody tr th {\n",
       "        vertical-align: top;\n",
       "    }\n",
       "\n",
       "    .dataframe thead th {\n",
       "        text-align: right;\n",
       "    }\n",
       "</style>\n",
       "<table border=\"1\" class=\"dataframe\">\n",
       "  <thead>\n",
       "    <tr style=\"text-align: right;\">\n",
       "      <th></th>\n",
       "      <th>Postcode</th>\n",
       "      <th>Borough</th>\n",
       "      <th>Neighbourhood</th>\n",
       "    </tr>\n",
       "  </thead>\n",
       "  <tbody>\n",
       "    <tr>\n",
       "      <th>0</th>\n",
       "      <td>M1A</td>\n",
       "      <td>Not assigned</td>\n",
       "      <td>Not assigned</td>\n",
       "    </tr>\n",
       "    <tr>\n",
       "      <th>1</th>\n",
       "      <td>M2A</td>\n",
       "      <td>Not assigned</td>\n",
       "      <td>Not assigned</td>\n",
       "    </tr>\n",
       "    <tr>\n",
       "      <th>2</th>\n",
       "      <td>M3A</td>\n",
       "      <td>North York</td>\n",
       "      <td>Parkwoods</td>\n",
       "    </tr>\n",
       "    <tr>\n",
       "      <th>3</th>\n",
       "      <td>M4A</td>\n",
       "      <td>North York</td>\n",
       "      <td>Victoria Village</td>\n",
       "    </tr>\n",
       "    <tr>\n",
       "      <th>4</th>\n",
       "      <td>M5A</td>\n",
       "      <td>Downtown Toronto</td>\n",
       "      <td>Harbourfront</td>\n",
       "    </tr>\n",
       "  </tbody>\n",
       "</table>\n",
       "</div>"
      ],
      "text/plain": [
       "  Postcode           Borough     Neighbourhood\n",
       "0      M1A      Not assigned      Not assigned\n",
       "1      M2A      Not assigned      Not assigned\n",
       "2      M3A        North York         Parkwoods\n",
       "3      M4A        North York  Victoria Village\n",
       "4      M5A  Downtown Toronto      Harbourfront"
      ]
     },
     "execution_count": 4,
     "metadata": {},
     "output_type": "execute_result"
    }
   ],
   "source": [
    "df_raw.head()"
   ]
  },
  {
   "cell_type": "markdown",
   "metadata": {},
   "source": [
    "#### Let's clean up the dataset according to specifications, filtering and replacing values"
   ]
  },
  {
   "cell_type": "code",
   "execution_count": 5,
   "metadata": {},
   "outputs": [],
   "source": [
    "df = df_raw[df_raw['Borough'] != 'Not assigned'] #filter\n",
    "df.columns = ['PostalCode','Borough','Neighborhood'] #set columns\n",
    "df.loc[df['Neighborhood'] == 'Not assigned',['Neighborhood']] = df['Borough'] #replace Neigborhood with Borough if Neigborhood = 'Not assigned'"
   ]
  },
  {
   "cell_type": "markdown",
   "metadata": {},
   "source": [
    "#### Group the dataframe and apply the string concatenation"
   ]
  },
  {
   "cell_type": "code",
   "execution_count": 6,
   "metadata": {},
   "outputs": [],
   "source": [
    "df = df.groupby(by=['PostalCode','Borough']).agg(lambda x: ', '.join(set(x))).reset_index()"
   ]
  },
  {
   "cell_type": "markdown",
   "metadata": {},
   "source": [
    "#### Finally let's show the final frame (103 records with 3 columns)"
   ]
  },
  {
   "cell_type": "code",
   "execution_count": 7,
   "metadata": {},
   "outputs": [
    {
     "data": {
      "text/plain": [
       "(103, 3)"
      ]
     },
     "execution_count": 7,
     "metadata": {},
     "output_type": "execute_result"
    }
   ],
   "source": [
    "df.shape"
   ]
  },
  {
   "cell_type": "markdown",
   "metadata": {},
   "source": [
    "#### We have the dataframe setup, now let's find the longitude and latitude. I'm using the provided csv as the geocoder is malfunctioning"
   ]
  },
  {
   "cell_type": "code",
   "execution_count": 8,
   "metadata": {},
   "outputs": [],
   "source": [
    "file = 'Geospatial_Coordinates.csv'\n",
    "df_geo = pd.read_csv(file)\n",
    "df_geo.rename(columns = {'Postal Code':'PostalCode'}, inplace = True)"
   ]
  },
  {
   "cell_type": "markdown",
   "metadata": {},
   "source": [
    "#### We now have the location data per postalcode so now it will be joined together with the Toronto dataframe"
   ]
  },
  {
   "cell_type": "code",
   "execution_count": 9,
   "metadata": {},
   "outputs": [],
   "source": [
    "df_toronto = pd.merge(df,df_geo, on='PostalCode',how='left')"
   ]
  },
  {
   "cell_type": "markdown",
   "metadata": {},
   "source": [
    "#### This leaves with clean appended dataframe incl lat and long"
   ]
  },
  {
   "cell_type": "code",
   "execution_count": 10,
   "metadata": {},
   "outputs": [
    {
     "data": {
      "text/html": [
       "<div>\n",
       "<style scoped>\n",
       "    .dataframe tbody tr th:only-of-type {\n",
       "        vertical-align: middle;\n",
       "    }\n",
       "\n",
       "    .dataframe tbody tr th {\n",
       "        vertical-align: top;\n",
       "    }\n",
       "\n",
       "    .dataframe thead th {\n",
       "        text-align: right;\n",
       "    }\n",
       "</style>\n",
       "<table border=\"1\" class=\"dataframe\">\n",
       "  <thead>\n",
       "    <tr style=\"text-align: right;\">\n",
       "      <th></th>\n",
       "      <th>PostalCode</th>\n",
       "      <th>Borough</th>\n",
       "      <th>Neighborhood</th>\n",
       "      <th>Latitude</th>\n",
       "      <th>Longitude</th>\n",
       "    </tr>\n",
       "  </thead>\n",
       "  <tbody>\n",
       "    <tr>\n",
       "      <th>0</th>\n",
       "      <td>M1B</td>\n",
       "      <td>Scarborough</td>\n",
       "      <td>Rouge, Malvern</td>\n",
       "      <td>43.806686</td>\n",
       "      <td>-79.194353</td>\n",
       "    </tr>\n",
       "    <tr>\n",
       "      <th>1</th>\n",
       "      <td>M1C</td>\n",
       "      <td>Scarborough</td>\n",
       "      <td>Rouge Hill, Highland Creek, Port Union</td>\n",
       "      <td>43.784535</td>\n",
       "      <td>-79.160497</td>\n",
       "    </tr>\n",
       "    <tr>\n",
       "      <th>2</th>\n",
       "      <td>M1E</td>\n",
       "      <td>Scarborough</td>\n",
       "      <td>Morningside, West Hill, Guildwood</td>\n",
       "      <td>43.763573</td>\n",
       "      <td>-79.188711</td>\n",
       "    </tr>\n",
       "    <tr>\n",
       "      <th>3</th>\n",
       "      <td>M1G</td>\n",
       "      <td>Scarborough</td>\n",
       "      <td>Woburn</td>\n",
       "      <td>43.770992</td>\n",
       "      <td>-79.216917</td>\n",
       "    </tr>\n",
       "    <tr>\n",
       "      <th>4</th>\n",
       "      <td>M1H</td>\n",
       "      <td>Scarborough</td>\n",
       "      <td>Cedarbrae</td>\n",
       "      <td>43.773136</td>\n",
       "      <td>-79.239476</td>\n",
       "    </tr>\n",
       "  </tbody>\n",
       "</table>\n",
       "</div>"
      ],
      "text/plain": [
       "  PostalCode      Borough                            Neighborhood   Latitude  \\\n",
       "0        M1B  Scarborough                          Rouge, Malvern  43.806686   \n",
       "1        M1C  Scarborough  Rouge Hill, Highland Creek, Port Union  43.784535   \n",
       "2        M1E  Scarborough       Morningside, West Hill, Guildwood  43.763573   \n",
       "3        M1G  Scarborough                                  Woburn  43.770992   \n",
       "4        M1H  Scarborough                               Cedarbrae  43.773136   \n",
       "\n",
       "   Longitude  \n",
       "0 -79.194353  \n",
       "1 -79.160497  \n",
       "2 -79.188711  \n",
       "3 -79.216917  \n",
       "4 -79.239476  "
      ]
     },
     "execution_count": 10,
     "metadata": {},
     "output_type": "execute_result"
    }
   ],
   "source": [
    "df_toronto.head()"
   ]
  },
  {
   "cell_type": "markdown",
   "metadata": {},
   "source": [
    "#### Let's start with our first map and plot the locations on the Toronto map"
   ]
  },
  {
   "cell_type": "code",
   "execution_count": 11,
   "metadata": {},
   "outputs": [
    {
     "name": "stdout",
     "output_type": "stream",
     "text": [
      "The geograpical coordinates of Toronto are 43.653963, -79.387207.\n"
     ]
    }
   ],
   "source": [
    "address = 'Toronto, Ontario'\n",
    "\n",
    "geolocator = Nominatim(user_agent=\"ny_explorer\")\n",
    "location = geolocator.geocode(address)\n",
    "latitude = location.latitude\n",
    "longitude = location.longitude\n",
    "print('The geograpical coordinates of Toronto are {}, {}.'.format(latitude, longitude))"
   ]
  },
  {
   "cell_type": "markdown",
   "metadata": {},
   "source": [
    "#### We'll define the start zoom location of the folium map with the address and geolocator to get the latitude and longitude"
   ]
  },
  {
   "cell_type": "markdown",
   "metadata": {},
   "source": [
    "#### Now we plot the areas onto the Toronto map"
   ]
  },
  {
   "cell_type": "code",
   "execution_count": 12,
   "metadata": {},
   "outputs": [
    {
     "data": {
      "text/html": [
       "<div style=\"width:100%;\"><div style=\"position:relative;width:100%;height:0;padding-bottom:60%;\"><iframe src=\"data:text/html;charset=utf-8;base64,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\" style=\"position:absolute;width:100%;height:100%;left:0;top:0;border:none !important;\" allowfullscreen webkitallowfullscreen mozallowfullscreen></iframe></div></div>"
      ],
      "text/plain": [
       "<folium.folium.Map at 0x7f99babf39e8>"
      ]
     },
     "execution_count": 12,
     "metadata": {},
     "output_type": "execute_result"
    }
   ],
   "source": [
    "# create map of New York using latitude and longitude values\n",
    "map_toronto = folium.Map(location=[latitude, longitude], zoom_start=10)\n",
    "\n",
    "# add markers to map\n",
    "for lat, lng, borough, neighborhood in zip(df_toronto['Latitude'], df_toronto['Longitude'], df_toronto['Borough'], df_toronto['Neighborhood']):\n",
    "    label = '{}, {}'.format(neighborhood, borough)\n",
    "    label = folium.Popup(label, parse_html=True)\n",
    "    folium.CircleMarker(\n",
    "        [lat, lng],\n",
    "        radius=5,\n",
    "        popup=label,\n",
    "        color='blue',\n",
    "        fill=True,\n",
    "        fill_color='#3186cc',\n",
    "        fill_opacity=0.7,\n",
    "        parse_html=False).add_to(map_toronto)  \n",
    "    \n",
    "map_toronto"
   ]
  },
  {
   "cell_type": "markdown",
   "metadata": {},
   "source": [
    "#### Now we have the initial map setup we continue with clustering. We will start with limiting the dataset as now we have 103 points on the map. We'll limit the set to only show locations for Borough's with the name Toronto in it"
   ]
  },
  {
   "cell_type": "code",
   "execution_count": 13,
   "metadata": {},
   "outputs": [
    {
     "data": {
      "text/plain": [
       "(38, 5)"
      ]
     },
     "execution_count": 13,
     "metadata": {},
     "output_type": "execute_result"
    }
   ],
   "source": [
    "toronto_data = df_toronto[df_toronto.Borough.str.contains('Toronto')].reset_index(drop=True)\n",
    "toronto_data.shape"
   ]
  },
  {
   "cell_type": "markdown",
   "metadata": {},
   "source": [
    "#### This leaves us with 38 Boroughs we wil continue to work with. Let's map them again"
   ]
  },
  {
   "cell_type": "code",
   "execution_count": 37,
   "metadata": {},
   "outputs": [
    {
     "data": {
      "text/html": [
       "<div style=\"width:100%;\"><div style=\"position:relative;width:100%;height:0;padding-bottom:60%;\"><iframe src=\"data:text/html;charset=utf-8;base64,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\" style=\"position:absolute;width:100%;height:100%;left:0;top:0;border:none !important;\" allowfullscreen webkitallowfullscreen mozallowfullscreen></iframe></div></div>"
      ],
      "text/plain": [
       "<folium.folium.Map at 0x7f99b8367710>"
      ]
     },
     "execution_count": 37,
     "metadata": {},
     "output_type": "execute_result"
    }
   ],
   "source": [
    "# create map of New York using latitude and longitude values\n",
    "map_toronto_filtered = folium.Map(location=[latitude, longitude], zoom_start=11)\n",
    "\n",
    "# add markers to map\n",
    "for lat, lng, borough, neighborhood in zip(toronto_data['Latitude'], toronto_data['Longitude'], toronto_data['Borough'], toronto_data['Neighborhood']):\n",
    "    label = '{}, {}'.format(neighborhood, borough)\n",
    "    label = folium.Popup(label, parse_html=True)\n",
    "    folium.CircleMarker(\n",
    "        [lat, lng],\n",
    "        radius=5,\n",
    "        popup=label,\n",
    "        color='blue',\n",
    "        fill=True,\n",
    "        fill_color='#3186cc',\n",
    "        fill_opacity=0.7,\n",
    "        parse_html=False).add_to(map_toronto_filtered)  \n",
    "    \n",
    "map_toronto_filtered"
   ]
  },
  {
   "cell_type": "markdown",
   "metadata": {},
   "source": [
    "#### Let's look at venues with foursquare to the locations we have"
   ]
  },
  {
   "cell_type": "code",
   "execution_count": 15,
   "metadata": {},
   "outputs": [],
   "source": [
    "# @hidden cell\n",
    "CLIENT_ID = '5LAMV3DNDHBER3VMUROMJNYRCJ5S35VSIB5BTJKJW2KHVG55' # your Foursquare ID\n",
    "CLIENT_SECRET = '3D5FLKFOOA41T5XPDDIZTLLWTPIJWAMVQIU3AS5POKUEV1BW' # your Foursquare Secret\n",
    "VERSION = '20180605' # Foursquare API version"
   ]
  },
  {
   "cell_type": "code",
   "execution_count": 16,
   "metadata": {},
   "outputs": [],
   "source": [
    "# some variables we need for the below functions\n",
    "\n",
    "LIMIT = 100 # limit of number of venues returned by Foursquare API\n",
    "radius = 500 # define radius"
   ]
  },
  {
   "cell_type": "markdown",
   "metadata": {},
   "source": [
    "#### Function to get venues to process all the neighborhoods in Toronto"
   ]
  },
  {
   "cell_type": "code",
   "execution_count": 17,
   "metadata": {},
   "outputs": [],
   "source": [
    "def getNearbyVenues(names, latitudes, longitudes, radius=500):\n",
    "    \n",
    "    venues_list=[]\n",
    "    for name, lat, lng in zip(names, latitudes, longitudes):\n",
    "        print(name)\n",
    "            \n",
    "        # create the API request URL\n",
    "        url = 'https://api.foursquare.com/v2/venues/explore?&client_id={}&client_secret={}&v={}&ll={},{}&radius={}&limit={}'.format(\n",
    "            CLIENT_ID, \n",
    "            CLIENT_SECRET, \n",
    "            VERSION, \n",
    "            lat, \n",
    "            lng, \n",
    "            radius, \n",
    "            LIMIT)\n",
    "            \n",
    "        # make the GET request\n",
    "        results = requests.get(url).json()[\"response\"]['groups'][0]['items']\n",
    "        \n",
    "        # return only relevant information for each nearby venue\n",
    "        venues_list.append([(\n",
    "            name, \n",
    "            lat, \n",
    "            lng, \n",
    "            v['venue']['name'], \n",
    "            v['venue']['location']['lat'], \n",
    "            v['venue']['location']['lng'],  \n",
    "            v['venue']['categories'][0]['name']) for v in results])\n",
    "\n",
    "    nearby_venues = pd.DataFrame([item for venue_list in venues_list for item in venue_list])\n",
    "    nearby_venues.columns = ['Neighborhood', \n",
    "                  'Neighborhood Latitude', \n",
    "                  'Neighborhood Longitude', \n",
    "                  'Venue', \n",
    "                  'Venue Latitude', \n",
    "                  'Venue Longitude', \n",
    "                  'Venue Category']\n",
    "    \n",
    "    return(nearby_venues)"
   ]
  },
  {
   "cell_type": "code",
   "execution_count": 18,
   "metadata": {
    "collapsed": true
   },
   "outputs": [
    {
     "name": "stdout",
     "output_type": "stream",
     "text": [
      "The Beaches\n",
      "Riverdale, The Danforth West\n",
      "The Beaches West, India Bazaar\n",
      "Studio District\n",
      "Lawrence Park\n",
      "Davisville North\n",
      "North Toronto West\n",
      "Davisville\n",
      "Summerhill East, Moore Park\n",
      "Forest Hill SE, Rathnelly, South Hill, Summerhill West, Deer Park\n",
      "Rosedale\n",
      "St. James Town, Cabbagetown\n",
      "Church and Wellesley\n",
      "Harbourfront, Regent Park\n",
      "Garden District, Ryerson\n",
      "St. James Town\n",
      "Berczy Park\n",
      "Central Bay Street\n",
      "Adelaide, Richmond, King\n",
      "Harbourfront East, Union Station, Toronto Islands\n",
      "Toronto Dominion Centre, Design Exchange\n",
      "Victoria Hotel, Commerce Court\n",
      "Roselawn\n",
      "Forest Hill North, Forest Hill West\n",
      "Yorkville, The Annex, North Midtown\n",
      "Harbord, University of Toronto\n",
      "Kensington Market, Grange Park, Chinatown\n",
      "Island airport, South Niagara, CN Tower, Railway Lands, Harbourfront West, Bathurst Quay, King and Spadina\n",
      "Stn A PO Boxes 25 The Esplanade\n",
      "First Canadian Place, Underground city\n",
      "Christie\n",
      "Dovercourt Village, Dufferin\n",
      "Trinity, Little Portugal\n",
      "Brockton, Parkdale Village, Exhibition Place\n",
      "High Park, The Junction South\n",
      "Roncesvalles, Parkdale\n",
      "Runnymede, Swansea\n",
      "Business Reply Mail Processing Centre 969 Eastern\n"
     ]
    }
   ],
   "source": [
    "#Apply the function\n",
    "toronto_venues = getNearbyVenues(names=toronto_data ['Neighborhood'],\n",
    "                                   latitudes=toronto_data ['Latitude'],\n",
    "                                   longitudes=toronto_data['Longitude'])"
   ]
  },
  {
   "cell_type": "markdown",
   "metadata": {},
   "source": [
    "#### So we got 1700 records returned with 7 columns"
   ]
  },
  {
   "cell_type": "code",
   "execution_count": 19,
   "metadata": {},
   "outputs": [
    {
     "name": "stdout",
     "output_type": "stream",
     "text": [
      "(1705, 7)\n"
     ]
    },
    {
     "data": {
      "text/html": [
       "<div>\n",
       "<style scoped>\n",
       "    .dataframe tbody tr th:only-of-type {\n",
       "        vertical-align: middle;\n",
       "    }\n",
       "\n",
       "    .dataframe tbody tr th {\n",
       "        vertical-align: top;\n",
       "    }\n",
       "\n",
       "    .dataframe thead th {\n",
       "        text-align: right;\n",
       "    }\n",
       "</style>\n",
       "<table border=\"1\" class=\"dataframe\">\n",
       "  <thead>\n",
       "    <tr style=\"text-align: right;\">\n",
       "      <th></th>\n",
       "      <th>Neighborhood</th>\n",
       "      <th>Neighborhood Latitude</th>\n",
       "      <th>Neighborhood Longitude</th>\n",
       "      <th>Venue</th>\n",
       "      <th>Venue Latitude</th>\n",
       "      <th>Venue Longitude</th>\n",
       "      <th>Venue Category</th>\n",
       "    </tr>\n",
       "  </thead>\n",
       "  <tbody>\n",
       "    <tr>\n",
       "      <th>0</th>\n",
       "      <td>The Beaches</td>\n",
       "      <td>43.676357</td>\n",
       "      <td>-79.293031</td>\n",
       "      <td>Glen Manor Ravine</td>\n",
       "      <td>43.676821</td>\n",
       "      <td>-79.293942</td>\n",
       "      <td>Trail</td>\n",
       "    </tr>\n",
       "    <tr>\n",
       "      <th>1</th>\n",
       "      <td>The Beaches</td>\n",
       "      <td>43.676357</td>\n",
       "      <td>-79.293031</td>\n",
       "      <td>The Big Carrot Natural Food Market</td>\n",
       "      <td>43.678879</td>\n",
       "      <td>-79.297734</td>\n",
       "      <td>Health Food Store</td>\n",
       "    </tr>\n",
       "    <tr>\n",
       "      <th>2</th>\n",
       "      <td>The Beaches</td>\n",
       "      <td>43.676357</td>\n",
       "      <td>-79.293031</td>\n",
       "      <td>Grover Pub and Grub</td>\n",
       "      <td>43.679181</td>\n",
       "      <td>-79.297215</td>\n",
       "      <td>Pub</td>\n",
       "    </tr>\n",
       "    <tr>\n",
       "      <th>3</th>\n",
       "      <td>The Beaches</td>\n",
       "      <td>43.676357</td>\n",
       "      <td>-79.293031</td>\n",
       "      <td>Upper Beaches</td>\n",
       "      <td>43.680563</td>\n",
       "      <td>-79.292869</td>\n",
       "      <td>Neighborhood</td>\n",
       "    </tr>\n",
       "    <tr>\n",
       "      <th>4</th>\n",
       "      <td>Riverdale, The Danforth West</td>\n",
       "      <td>43.679557</td>\n",
       "      <td>-79.352188</td>\n",
       "      <td>Pantheon</td>\n",
       "      <td>43.677621</td>\n",
       "      <td>-79.351434</td>\n",
       "      <td>Greek Restaurant</td>\n",
       "    </tr>\n",
       "  </tbody>\n",
       "</table>\n",
       "</div>"
      ],
      "text/plain": [
       "                   Neighborhood  Neighborhood Latitude  \\\n",
       "0                   The Beaches              43.676357   \n",
       "1                   The Beaches              43.676357   \n",
       "2                   The Beaches              43.676357   \n",
       "3                   The Beaches              43.676357   \n",
       "4  Riverdale, The Danforth West              43.679557   \n",
       "\n",
       "   Neighborhood Longitude                               Venue  Venue Latitude  \\\n",
       "0              -79.293031                   Glen Manor Ravine       43.676821   \n",
       "1              -79.293031  The Big Carrot Natural Food Market       43.678879   \n",
       "2              -79.293031                 Grover Pub and Grub       43.679181   \n",
       "3              -79.293031                       Upper Beaches       43.680563   \n",
       "4              -79.352188                            Pantheon       43.677621   \n",
       "\n",
       "   Venue Longitude     Venue Category  \n",
       "0       -79.293942              Trail  \n",
       "1       -79.297734  Health Food Store  \n",
       "2       -79.297215                Pub  \n",
       "3       -79.292869       Neighborhood  \n",
       "4       -79.351434   Greek Restaurant  "
      ]
     },
     "execution_count": 19,
     "metadata": {},
     "output_type": "execute_result"
    }
   ],
   "source": [
    "print(toronto_venues.shape)\n",
    "toronto_venues.head()"
   ]
  },
  {
   "cell_type": "markdown",
   "metadata": {},
   "source": [
    "#### We continue to analyse the neighborhoods"
   ]
  },
  {
   "cell_type": "code",
   "execution_count": 20,
   "metadata": {},
   "outputs": [
    {
     "data": {
      "text/html": [
       "<div>\n",
       "<style scoped>\n",
       "    .dataframe tbody tr th:only-of-type {\n",
       "        vertical-align: middle;\n",
       "    }\n",
       "\n",
       "    .dataframe tbody tr th {\n",
       "        vertical-align: top;\n",
       "    }\n",
       "\n",
       "    .dataframe thead th {\n",
       "        text-align: right;\n",
       "    }\n",
       "</style>\n",
       "<table border=\"1\" class=\"dataframe\">\n",
       "  <thead>\n",
       "    <tr style=\"text-align: right;\">\n",
       "      <th></th>\n",
       "      <th>Yoga Studio</th>\n",
       "      <th>Afghan Restaurant</th>\n",
       "      <th>Airport</th>\n",
       "      <th>Airport Food Court</th>\n",
       "      <th>Airport Gate</th>\n",
       "      <th>Airport Lounge</th>\n",
       "      <th>Airport Service</th>\n",
       "      <th>Airport Terminal</th>\n",
       "      <th>American Restaurant</th>\n",
       "      <th>Antique Shop</th>\n",
       "      <th>...</th>\n",
       "      <th>Theme Restaurant</th>\n",
       "      <th>Thrift / Vintage Store</th>\n",
       "      <th>Toy / Game Store</th>\n",
       "      <th>Trail</th>\n",
       "      <th>Train Station</th>\n",
       "      <th>Vegetarian / Vegan Restaurant</th>\n",
       "      <th>Video Game Store</th>\n",
       "      <th>Vietnamese Restaurant</th>\n",
       "      <th>Wine Bar</th>\n",
       "      <th>Wings Joint</th>\n",
       "    </tr>\n",
       "  </thead>\n",
       "  <tbody>\n",
       "    <tr>\n",
       "      <th>0</th>\n",
       "      <td>0</td>\n",
       "      <td>0</td>\n",
       "      <td>0</td>\n",
       "      <td>0</td>\n",
       "      <td>0</td>\n",
       "      <td>0</td>\n",
       "      <td>0</td>\n",
       "      <td>0</td>\n",
       "      <td>0</td>\n",
       "      <td>0</td>\n",
       "      <td>...</td>\n",
       "      <td>0</td>\n",
       "      <td>0</td>\n",
       "      <td>0</td>\n",
       "      <td>1</td>\n",
       "      <td>0</td>\n",
       "      <td>0</td>\n",
       "      <td>0</td>\n",
       "      <td>0</td>\n",
       "      <td>0</td>\n",
       "      <td>0</td>\n",
       "    </tr>\n",
       "    <tr>\n",
       "      <th>1</th>\n",
       "      <td>0</td>\n",
       "      <td>0</td>\n",
       "      <td>0</td>\n",
       "      <td>0</td>\n",
       "      <td>0</td>\n",
       "      <td>0</td>\n",
       "      <td>0</td>\n",
       "      <td>0</td>\n",
       "      <td>0</td>\n",
       "      <td>0</td>\n",
       "      <td>...</td>\n",
       "      <td>0</td>\n",
       "      <td>0</td>\n",
       "      <td>0</td>\n",
       "      <td>0</td>\n",
       "      <td>0</td>\n",
       "      <td>0</td>\n",
       "      <td>0</td>\n",
       "      <td>0</td>\n",
       "      <td>0</td>\n",
       "      <td>0</td>\n",
       "    </tr>\n",
       "    <tr>\n",
       "      <th>2</th>\n",
       "      <td>0</td>\n",
       "      <td>0</td>\n",
       "      <td>0</td>\n",
       "      <td>0</td>\n",
       "      <td>0</td>\n",
       "      <td>0</td>\n",
       "      <td>0</td>\n",
       "      <td>0</td>\n",
       "      <td>0</td>\n",
       "      <td>0</td>\n",
       "      <td>...</td>\n",
       "      <td>0</td>\n",
       "      <td>0</td>\n",
       "      <td>0</td>\n",
       "      <td>0</td>\n",
       "      <td>0</td>\n",
       "      <td>0</td>\n",
       "      <td>0</td>\n",
       "      <td>0</td>\n",
       "      <td>0</td>\n",
       "      <td>0</td>\n",
       "    </tr>\n",
       "    <tr>\n",
       "      <th>3</th>\n",
       "      <td>0</td>\n",
       "      <td>0</td>\n",
       "      <td>0</td>\n",
       "      <td>0</td>\n",
       "      <td>0</td>\n",
       "      <td>0</td>\n",
       "      <td>0</td>\n",
       "      <td>0</td>\n",
       "      <td>0</td>\n",
       "      <td>0</td>\n",
       "      <td>...</td>\n",
       "      <td>0</td>\n",
       "      <td>0</td>\n",
       "      <td>0</td>\n",
       "      <td>0</td>\n",
       "      <td>0</td>\n",
       "      <td>0</td>\n",
       "      <td>0</td>\n",
       "      <td>0</td>\n",
       "      <td>0</td>\n",
       "      <td>0</td>\n",
       "    </tr>\n",
       "    <tr>\n",
       "      <th>4</th>\n",
       "      <td>0</td>\n",
       "      <td>0</td>\n",
       "      <td>0</td>\n",
       "      <td>0</td>\n",
       "      <td>0</td>\n",
       "      <td>0</td>\n",
       "      <td>0</td>\n",
       "      <td>0</td>\n",
       "      <td>0</td>\n",
       "      <td>0</td>\n",
       "      <td>...</td>\n",
       "      <td>0</td>\n",
       "      <td>0</td>\n",
       "      <td>0</td>\n",
       "      <td>0</td>\n",
       "      <td>0</td>\n",
       "      <td>0</td>\n",
       "      <td>0</td>\n",
       "      <td>0</td>\n",
       "      <td>0</td>\n",
       "      <td>0</td>\n",
       "    </tr>\n",
       "  </tbody>\n",
       "</table>\n",
       "<p>5 rows × 234 columns</p>\n",
       "</div>"
      ],
      "text/plain": [
       "   Yoga Studio  Afghan Restaurant  Airport  Airport Food Court  Airport Gate  \\\n",
       "0            0                  0        0                   0             0   \n",
       "1            0                  0        0                   0             0   \n",
       "2            0                  0        0                   0             0   \n",
       "3            0                  0        0                   0             0   \n",
       "4            0                  0        0                   0             0   \n",
       "\n",
       "   Airport Lounge  Airport Service  Airport Terminal  American Restaurant  \\\n",
       "0               0                0                 0                    0   \n",
       "1               0                0                 0                    0   \n",
       "2               0                0                 0                    0   \n",
       "3               0                0                 0                    0   \n",
       "4               0                0                 0                    0   \n",
       "\n",
       "   Antique Shop  ...  Theme Restaurant  Thrift / Vintage Store  \\\n",
       "0             0  ...                 0                       0   \n",
       "1             0  ...                 0                       0   \n",
       "2             0  ...                 0                       0   \n",
       "3             0  ...                 0                       0   \n",
       "4             0  ...                 0                       0   \n",
       "\n",
       "   Toy / Game Store  Trail  Train Station  Vegetarian / Vegan Restaurant  \\\n",
       "0                 0      1              0                              0   \n",
       "1                 0      0              0                              0   \n",
       "2                 0      0              0                              0   \n",
       "3                 0      0              0                              0   \n",
       "4                 0      0              0                              0   \n",
       "\n",
       "   Video Game Store  Vietnamese Restaurant  Wine Bar  Wings Joint  \n",
       "0                 0                      0         0            0  \n",
       "1                 0                      0         0            0  \n",
       "2                 0                      0         0            0  \n",
       "3                 0                      0         0            0  \n",
       "4                 0                      0         0            0  \n",
       "\n",
       "[5 rows x 234 columns]"
      ]
     },
     "execution_count": 20,
     "metadata": {},
     "output_type": "execute_result"
    }
   ],
   "source": [
    "# one hot encoding\n",
    "toronto_onehot = pd.get_dummies(toronto_venues[['Venue Category']], prefix=\"\", prefix_sep=\"\")\n",
    "\n",
    "# add neighborhood column back to dataframe\n",
    "toronto_onehot['Neighborhood'] = toronto_venues['Neighborhood'] \n",
    "\n",
    "# move neighborhood column to the first column\n",
    "fixed_columns = [toronto_onehot.columns[-1]] + list(toronto_onehot.columns[:-1])\n",
    "toronto_onehot = toronto_onehot[fixed_columns]\n",
    "\n",
    "toronto_onehot.head()"
   ]
  },
  {
   "cell_type": "code",
   "execution_count": 21,
   "metadata": {},
   "outputs": [
    {
     "data": {
      "text/plain": [
       "(1705, 234)"
      ]
     },
     "execution_count": 21,
     "metadata": {},
     "output_type": "execute_result"
    }
   ],
   "source": [
    "toronto_onehot.shape"
   ]
  },
  {
   "cell_type": "markdown",
   "metadata": {},
   "source": [
    "#### So got the categories converted to numerical values and transposed them into columns. We have 1700 records with 234 Venues categories\n",
    "\n",
    "##### We group them by Neigborhood  and that will leave us with 38 neighborhoods with 234 venue categories"
   ]
  },
  {
   "cell_type": "code",
   "execution_count": 22,
   "metadata": {},
   "outputs": [
    {
     "data": {
      "text/plain": [
       "(38, 234)"
      ]
     },
     "execution_count": 22,
     "metadata": {},
     "output_type": "execute_result"
    }
   ],
   "source": [
    "toronto_grouped = toronto_onehot.groupby('Neighborhood').mean().reset_index()\n",
    "toronto_grouped.shape"
   ]
  },
  {
   "cell_type": "markdown",
   "metadata": {},
   "source": [
    "#### That is a lot to process so we will get the top 10 venues for each neighborhood"
   ]
  },
  {
   "cell_type": "code",
   "execution_count": 23,
   "metadata": {},
   "outputs": [],
   "source": [
    "def return_most_common_venues(row, num_top_venues):\n",
    "    row_categories = row.iloc[1:]\n",
    "    row_categories_sorted = row_categories.sort_values(ascending=False)\n",
    "    return row_categories_sorted.index.values[0:num_top_venues]"
   ]
  },
  {
   "cell_type": "code",
   "execution_count": 24,
   "metadata": {},
   "outputs": [
    {
     "data": {
      "text/html": [
       "<div>\n",
       "<style scoped>\n",
       "    .dataframe tbody tr th:only-of-type {\n",
       "        vertical-align: middle;\n",
       "    }\n",
       "\n",
       "    .dataframe tbody tr th {\n",
       "        vertical-align: top;\n",
       "    }\n",
       "\n",
       "    .dataframe thead th {\n",
       "        text-align: right;\n",
       "    }\n",
       "</style>\n",
       "<table border=\"1\" class=\"dataframe\">\n",
       "  <thead>\n",
       "    <tr style=\"text-align: right;\">\n",
       "      <th></th>\n",
       "      <th>Neighborhood</th>\n",
       "      <th>1st Most Common Venue</th>\n",
       "      <th>2nd Most Common Venue</th>\n",
       "      <th>3rd Most Common Venue</th>\n",
       "      <th>4th Most Common Venue</th>\n",
       "      <th>5th Most Common Venue</th>\n",
       "      <th>6th Most Common Venue</th>\n",
       "      <th>7th Most Common Venue</th>\n",
       "      <th>8th Most Common Venue</th>\n",
       "      <th>9th Most Common Venue</th>\n",
       "      <th>10th Most Common Venue</th>\n",
       "    </tr>\n",
       "  </thead>\n",
       "  <tbody>\n",
       "    <tr>\n",
       "      <th>0</th>\n",
       "      <td>Adelaide, Richmond, King</td>\n",
       "      <td>Coffee Shop</td>\n",
       "      <td>Café</td>\n",
       "      <td>Bar</td>\n",
       "      <td>Steakhouse</td>\n",
       "      <td>Cosmetics Shop</td>\n",
       "      <td>Thai Restaurant</td>\n",
       "      <td>Restaurant</td>\n",
       "      <td>Hotel</td>\n",
       "      <td>Burger Joint</td>\n",
       "      <td>Asian Restaurant</td>\n",
       "    </tr>\n",
       "    <tr>\n",
       "      <th>1</th>\n",
       "      <td>Berczy Park</td>\n",
       "      <td>Coffee Shop</td>\n",
       "      <td>Cocktail Bar</td>\n",
       "      <td>Farmers Market</td>\n",
       "      <td>Beer Bar</td>\n",
       "      <td>Bakery</td>\n",
       "      <td>Steakhouse</td>\n",
       "      <td>Cheese Shop</td>\n",
       "      <td>Café</td>\n",
       "      <td>Seafood Restaurant</td>\n",
       "      <td>Italian Restaurant</td>\n",
       "    </tr>\n",
       "    <tr>\n",
       "      <th>2</th>\n",
       "      <td>Brockton, Parkdale Village, Exhibition Place</td>\n",
       "      <td>Coffee Shop</td>\n",
       "      <td>Café</td>\n",
       "      <td>Breakfast Spot</td>\n",
       "      <td>Grocery Store</td>\n",
       "      <td>Intersection</td>\n",
       "      <td>Convenience Store</td>\n",
       "      <td>Pet Store</td>\n",
       "      <td>Gym</td>\n",
       "      <td>Climbing Gym</td>\n",
       "      <td>Caribbean Restaurant</td>\n",
       "    </tr>\n",
       "  </tbody>\n",
       "</table>\n",
       "</div>"
      ],
      "text/plain": [
       "                                   Neighborhood 1st Most Common Venue  \\\n",
       "0                      Adelaide, Richmond, King           Coffee Shop   \n",
       "1                                   Berczy Park           Coffee Shop   \n",
       "2  Brockton, Parkdale Village, Exhibition Place           Coffee Shop   \n",
       "\n",
       "  2nd Most Common Venue 3rd Most Common Venue 4th Most Common Venue  \\\n",
       "0                  Café                   Bar            Steakhouse   \n",
       "1          Cocktail Bar        Farmers Market              Beer Bar   \n",
       "2                  Café        Breakfast Spot         Grocery Store   \n",
       "\n",
       "  5th Most Common Venue 6th Most Common Venue 7th Most Common Venue  \\\n",
       "0        Cosmetics Shop       Thai Restaurant            Restaurant   \n",
       "1                Bakery            Steakhouse           Cheese Shop   \n",
       "2          Intersection     Convenience Store             Pet Store   \n",
       "\n",
       "  8th Most Common Venue 9th Most Common Venue 10th Most Common Venue  \n",
       "0                 Hotel          Burger Joint       Asian Restaurant  \n",
       "1                  Café    Seafood Restaurant     Italian Restaurant  \n",
       "2                   Gym          Climbing Gym   Caribbean Restaurant  "
      ]
     },
     "execution_count": 24,
     "metadata": {},
     "output_type": "execute_result"
    }
   ],
   "source": [
    "num_top_venues = 10\n",
    "\n",
    "indicators = ['st', 'nd', 'rd']\n",
    "\n",
    "# create columns according to number of top venues\n",
    "columns = ['Neighborhood']\n",
    "for ind in np.arange(num_top_venues):\n",
    "    try:\n",
    "        columns.append('{}{} Most Common Venue'.format(ind+1, indicators[ind]))\n",
    "    except:\n",
    "        columns.append('{}th Most Common Venue'.format(ind+1))\n",
    "\n",
    "# create a new dataframe\n",
    "neighborhoods_venues_sorted = pd.DataFrame(columns=columns)\n",
    "neighborhoods_venues_sorted['Neighborhood'] = toronto_grouped['Neighborhood']\n",
    "\n",
    "for ind in np.arange(toronto_grouped.shape[0]):\n",
    "    neighborhoods_venues_sorted.iloc[ind, 1:] = return_most_common_venues(toronto_grouped.iloc[ind, :], num_top_venues)\n",
    "\n",
    "neighborhoods_venues_sorted.head(3)"
   ]
  },
  {
   "cell_type": "markdown",
   "metadata": {},
   "source": [
    "#### We will now cluster the neighborhood with *k*-means into 5 clusters"
   ]
  },
  {
   "cell_type": "code",
   "execution_count": 25,
   "metadata": {},
   "outputs": [
    {
     "data": {
      "text/plain": [
       "array([0, 0, 0, 0, 0, 0, 0, 0, 0, 0], dtype=int32)"
      ]
     },
     "execution_count": 25,
     "metadata": {},
     "output_type": "execute_result"
    }
   ],
   "source": [
    "# set number of clusters\n",
    "kclusters = 5\n",
    "\n",
    "toronto_grouped_clustering = toronto_grouped.drop('Neighborhood', 1)\n",
    "\n",
    "# run k-means clustering\n",
    "kmeans = KMeans(n_clusters=kclusters, random_state=0).fit(toronto_grouped_clustering)\n",
    "\n",
    "# check cluster labels generated for each row in the dataframe\n",
    "kmeans.labels_[0:10] "
   ]
  },
  {
   "cell_type": "code",
   "execution_count": 26,
   "metadata": {},
   "outputs": [],
   "source": [
    "kmeans_labels = kmeans.labels_"
   ]
  },
  {
   "cell_type": "markdown",
   "metadata": {},
   "source": [
    "#### Let's add the clusters back to the neighborhoods and venues"
   ]
  },
  {
   "cell_type": "code",
   "execution_count": 27,
   "metadata": {},
   "outputs": [
    {
     "data": {
      "text/html": [
       "<div>\n",
       "<style scoped>\n",
       "    .dataframe tbody tr th:only-of-type {\n",
       "        vertical-align: middle;\n",
       "    }\n",
       "\n",
       "    .dataframe tbody tr th {\n",
       "        vertical-align: top;\n",
       "    }\n",
       "\n",
       "    .dataframe thead th {\n",
       "        text-align: right;\n",
       "    }\n",
       "</style>\n",
       "<table border=\"1\" class=\"dataframe\">\n",
       "  <thead>\n",
       "    <tr style=\"text-align: right;\">\n",
       "      <th></th>\n",
       "      <th>PostalCode</th>\n",
       "      <th>Borough</th>\n",
       "      <th>Neighborhood</th>\n",
       "      <th>Latitude</th>\n",
       "      <th>Longitude</th>\n",
       "      <th>Cluster Labels</th>\n",
       "      <th>1st Most Common Venue</th>\n",
       "      <th>2nd Most Common Venue</th>\n",
       "      <th>3rd Most Common Venue</th>\n",
       "      <th>4th Most Common Venue</th>\n",
       "      <th>5th Most Common Venue</th>\n",
       "      <th>6th Most Common Venue</th>\n",
       "      <th>7th Most Common Venue</th>\n",
       "      <th>8th Most Common Venue</th>\n",
       "      <th>9th Most Common Venue</th>\n",
       "      <th>10th Most Common Venue</th>\n",
       "    </tr>\n",
       "  </thead>\n",
       "  <tbody>\n",
       "    <tr>\n",
       "      <th>0</th>\n",
       "      <td>M4E</td>\n",
       "      <td>East Toronto</td>\n",
       "      <td>The Beaches</td>\n",
       "      <td>43.676357</td>\n",
       "      <td>-79.293031</td>\n",
       "      <td>0</td>\n",
       "      <td>Health Food Store</td>\n",
       "      <td>Trail</td>\n",
       "      <td>Pub</td>\n",
       "      <td>Dessert Shop</td>\n",
       "      <td>Falafel Restaurant</td>\n",
       "      <td>Event Space</td>\n",
       "      <td>Ethiopian Restaurant</td>\n",
       "      <td>Electronics Store</td>\n",
       "      <td>Eastern European Restaurant</td>\n",
       "      <td>Dumpling Restaurant</td>\n",
       "    </tr>\n",
       "    <tr>\n",
       "      <th>1</th>\n",
       "      <td>M4K</td>\n",
       "      <td>East Toronto</td>\n",
       "      <td>Riverdale, The Danforth West</td>\n",
       "      <td>43.679557</td>\n",
       "      <td>-79.352188</td>\n",
       "      <td>0</td>\n",
       "      <td>Greek Restaurant</td>\n",
       "      <td>Coffee Shop</td>\n",
       "      <td>Italian Restaurant</td>\n",
       "      <td>Furniture / Home Store</td>\n",
       "      <td>Ice Cream Shop</td>\n",
       "      <td>Caribbean Restaurant</td>\n",
       "      <td>Bookstore</td>\n",
       "      <td>Brewery</td>\n",
       "      <td>Bubble Tea Shop</td>\n",
       "      <td>Burger Joint</td>\n",
       "    </tr>\n",
       "    <tr>\n",
       "      <th>2</th>\n",
       "      <td>M4L</td>\n",
       "      <td>East Toronto</td>\n",
       "      <td>The Beaches West, India Bazaar</td>\n",
       "      <td>43.668999</td>\n",
       "      <td>-79.315572</td>\n",
       "      <td>0</td>\n",
       "      <td>Park</td>\n",
       "      <td>Movie Theater</td>\n",
       "      <td>Liquor Store</td>\n",
       "      <td>Board Shop</td>\n",
       "      <td>Sandwich Place</td>\n",
       "      <td>Burger Joint</td>\n",
       "      <td>Fast Food Restaurant</td>\n",
       "      <td>Burrito Place</td>\n",
       "      <td>Fish &amp; Chips Shop</td>\n",
       "      <td>Steakhouse</td>\n",
       "    </tr>\n",
       "    <tr>\n",
       "      <th>3</th>\n",
       "      <td>M4M</td>\n",
       "      <td>East Toronto</td>\n",
       "      <td>Studio District</td>\n",
       "      <td>43.659526</td>\n",
       "      <td>-79.340923</td>\n",
       "      <td>0</td>\n",
       "      <td>Café</td>\n",
       "      <td>Coffee Shop</td>\n",
       "      <td>American Restaurant</td>\n",
       "      <td>Italian Restaurant</td>\n",
       "      <td>Bakery</td>\n",
       "      <td>Seafood Restaurant</td>\n",
       "      <td>Latin American Restaurant</td>\n",
       "      <td>Coworking Space</td>\n",
       "      <td>Bookstore</td>\n",
       "      <td>Diner</td>\n",
       "    </tr>\n",
       "    <tr>\n",
       "      <th>4</th>\n",
       "      <td>M4N</td>\n",
       "      <td>Central Toronto</td>\n",
       "      <td>Lawrence Park</td>\n",
       "      <td>43.728020</td>\n",
       "      <td>-79.388790</td>\n",
       "      <td>4</td>\n",
       "      <td>Park</td>\n",
       "      <td>Jewelry Store</td>\n",
       "      <td>Swim School</td>\n",
       "      <td>Bus Line</td>\n",
       "      <td>Wings Joint</td>\n",
       "      <td>Discount Store</td>\n",
       "      <td>Falafel Restaurant</td>\n",
       "      <td>Event Space</td>\n",
       "      <td>Ethiopian Restaurant</td>\n",
       "      <td>Electronics Store</td>\n",
       "    </tr>\n",
       "  </tbody>\n",
       "</table>\n",
       "</div>"
      ],
      "text/plain": [
       "  PostalCode          Borough                    Neighborhood   Latitude  \\\n",
       "0        M4E     East Toronto                     The Beaches  43.676357   \n",
       "1        M4K     East Toronto    Riverdale, The Danforth West  43.679557   \n",
       "2        M4L     East Toronto  The Beaches West, India Bazaar  43.668999   \n",
       "3        M4M     East Toronto                 Studio District  43.659526   \n",
       "4        M4N  Central Toronto                   Lawrence Park  43.728020   \n",
       "\n",
       "   Longitude  Cluster Labels 1st Most Common Venue 2nd Most Common Venue  \\\n",
       "0 -79.293031               0     Health Food Store                 Trail   \n",
       "1 -79.352188               0      Greek Restaurant           Coffee Shop   \n",
       "2 -79.315572               0                  Park         Movie Theater   \n",
       "3 -79.340923               0                  Café           Coffee Shop   \n",
       "4 -79.388790               4                  Park         Jewelry Store   \n",
       "\n",
       "  3rd Most Common Venue   4th Most Common Venue 5th Most Common Venue  \\\n",
       "0                   Pub            Dessert Shop    Falafel Restaurant   \n",
       "1    Italian Restaurant  Furniture / Home Store        Ice Cream Shop   \n",
       "2          Liquor Store              Board Shop        Sandwich Place   \n",
       "3   American Restaurant      Italian Restaurant                Bakery   \n",
       "4           Swim School                Bus Line           Wings Joint   \n",
       "\n",
       "  6th Most Common Venue      7th Most Common Venue 8th Most Common Venue  \\\n",
       "0           Event Space       Ethiopian Restaurant     Electronics Store   \n",
       "1  Caribbean Restaurant                  Bookstore               Brewery   \n",
       "2          Burger Joint       Fast Food Restaurant         Burrito Place   \n",
       "3    Seafood Restaurant  Latin American Restaurant       Coworking Space   \n",
       "4        Discount Store         Falafel Restaurant           Event Space   \n",
       "\n",
       "         9th Most Common Venue 10th Most Common Venue  \n",
       "0  Eastern European Restaurant    Dumpling Restaurant  \n",
       "1              Bubble Tea Shop           Burger Joint  \n",
       "2            Fish & Chips Shop             Steakhouse  \n",
       "3                    Bookstore                  Diner  \n",
       "4         Ethiopian Restaurant      Electronics Store  "
      ]
     },
     "execution_count": 27,
     "metadata": {},
     "output_type": "execute_result"
    }
   ],
   "source": [
    "# add clustering labels\n",
    "neighborhoods_venues_sorted.insert(0, 'Cluster Labels', kmeans_labels)\n",
    "\n",
    "toronto_merged = toronto_data\n",
    "\n",
    "# merge toronto_grouped with toronto_data to add latitude/longitude for each neighborhood\n",
    "toronto_merged = toronto_merged.join(neighborhoods_venues_sorted.set_index('Neighborhood'), on='Neighborhood')\n",
    "\n",
    "toronto_merged.head()"
   ]
  },
  {
   "cell_type": "markdown",
   "metadata": {},
   "source": [
    "##### Finally, let's visualize the resulting clusters"
   ]
  },
  {
   "cell_type": "code",
   "execution_count": 28,
   "metadata": {},
   "outputs": [
    {
     "data": {
      "text/html": [
       "<div style=\"width:100%;\"><div style=\"position:relative;width:100%;height:0;padding-bottom:60%;\"><iframe src=\"data:text/html;charset=utf-8;base64,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\" style=\"position:absolute;width:100%;height:100%;left:0;top:0;border:none !important;\" allowfullscreen webkitallowfullscreen mozallowfullscreen></iframe></div></div>"
      ],
      "text/plain": [
       "<folium.folium.Map at 0x7f99b995cfd0>"
      ]
     },
     "execution_count": 28,
     "metadata": {},
     "output_type": "execute_result"
    }
   ],
   "source": [
    "# create map\n",
    "map_clusters = folium.Map(location=[latitude, longitude], zoom_start=12)\n",
    "\n",
    "# set color scheme for the clusters\n",
    "x = np.arange(kclusters)\n",
    "ys = [i + x + (i*x)**2 for i in range(kclusters)]\n",
    "colors_array = cm.rainbow(np.linspace(0, 1, len(ys)))\n",
    "rainbow = [colors.rgb2hex(i) for i in colors_array]\n",
    "\n",
    "# add markers to the map\n",
    "markers_colors = []\n",
    "for lat, lon, poi, cluster in zip(toronto_merged['Latitude'], toronto_merged['Longitude'], toronto_merged['Neighborhood'], toronto_merged['Cluster Labels']):\n",
    "    label = folium.Popup(str(poi) + ' Cluster ' + str(cluster), parse_html=True)\n",
    "    folium.CircleMarker(\n",
    "        [lat, lon],\n",
    "        radius=5,\n",
    "        popup=label,\n",
    "        color=rainbow[cluster-1],\n",
    "        fill=True,\n",
    "        fill_color=rainbow[cluster-1],\n",
    "        fill_opacity=0.7).add_to(map_clusters)\n",
    "       \n",
    "map_clusters"
   ]
  },
  {
   "cell_type": "markdown",
   "metadata": {},
   "source": [
    "#### The question then is what do the clusters represent. What is in those various clusters so we can name them better than Cluster 0-4\n",
    "\n",
    "##### We will filter the toronto_merged frame into their respective variable so we analyse further"
   ]
  },
  {
   "cell_type": "code",
   "execution_count": 29,
   "metadata": {},
   "outputs": [],
   "source": [
    "label_0 = toronto_merged.loc[toronto_merged['Cluster Labels'] == 0, toronto_merged.columns[[1] + list(range(5, toronto_merged.shape[1]))]]\n",
    "label_1 = toronto_merged.loc[toronto_merged['Cluster Labels'] == 1, toronto_merged.columns[[1] + list(range(5, toronto_merged.shape[1]))]]\n",
    "label_2 = toronto_merged.loc[toronto_merged['Cluster Labels'] == 2, toronto_merged.columns[[1] + list(range(5, toronto_merged.shape[1]))]]\n",
    "label_3 = toronto_merged.loc[toronto_merged['Cluster Labels'] == 3, toronto_merged.columns[[1] + list(range(5, toronto_merged.shape[1]))]]\n",
    "label_4 = toronto_merged.loc[toronto_merged['Cluster Labels'] == 4, toronto_merged.columns[[1] + list(range(5, toronto_merged.shape[1]))]]"
   ]
  },
  {
   "cell_type": "markdown",
   "metadata": {},
   "source": [
    "#### I'm not exactly sure how to find the common ground in the various clusters"
   ]
  },
  {
   "cell_type": "code",
   "execution_count": 30,
   "metadata": {},
   "outputs": [],
   "source": [
    "venues_columns = neighborhoods_venues_sorted.columns\n",
    "venues_columns = venues_columns.drop(['Cluster Labels','Neighborhood'])"
   ]
  },
  {
   "cell_type": "code",
   "execution_count": 39,
   "metadata": {},
   "outputs": [
    {
     "data": {
      "text/html": [
       "<div>\n",
       "<style scoped>\n",
       "    .dataframe tbody tr th:only-of-type {\n",
       "        vertical-align: middle;\n",
       "    }\n",
       "\n",
       "    .dataframe tbody tr th {\n",
       "        vertical-align: top;\n",
       "    }\n",
       "\n",
       "    .dataframe thead th {\n",
       "        text-align: right;\n",
       "    }\n",
       "</style>\n",
       "<table border=\"1\" class=\"dataframe\">\n",
       "  <thead>\n",
       "    <tr style=\"text-align: right;\">\n",
       "      <th></th>\n",
       "      <th>Borough</th>\n",
       "      <th>Cluster Labels</th>\n",
       "      <th>1st Most Common Venue</th>\n",
       "      <th>2nd Most Common Venue</th>\n",
       "      <th>3rd Most Common Venue</th>\n",
       "      <th>4th Most Common Venue</th>\n",
       "      <th>5th Most Common Venue</th>\n",
       "      <th>6th Most Common Venue</th>\n",
       "      <th>7th Most Common Venue</th>\n",
       "      <th>8th Most Common Venue</th>\n",
       "      <th>9th Most Common Venue</th>\n",
       "      <th>10th Most Common Venue</th>\n",
       "    </tr>\n",
       "  </thead>\n",
       "  <tbody>\n",
       "    <tr>\n",
       "      <th>22</th>\n",
       "      <td>Central Toronto</td>\n",
       "      <td>1</td>\n",
       "      <td>Garden</td>\n",
       "      <td>Dessert Shop</td>\n",
       "      <td>Falafel Restaurant</td>\n",
       "      <td>Event Space</td>\n",
       "      <td>Ethiopian Restaurant</td>\n",
       "      <td>Electronics Store</td>\n",
       "      <td>Eastern European Restaurant</td>\n",
       "      <td>Dumpling Restaurant</td>\n",
       "      <td>Donut Shop</td>\n",
       "      <td>Doner Restaurant</td>\n",
       "    </tr>\n",
       "  </tbody>\n",
       "</table>\n",
       "</div>"
      ],
      "text/plain": [
       "            Borough  Cluster Labels 1st Most Common Venue  \\\n",
       "22  Central Toronto               1                Garden   \n",
       "\n",
       "   2nd Most Common Venue 3rd Most Common Venue 4th Most Common Venue  \\\n",
       "22          Dessert Shop    Falafel Restaurant           Event Space   \n",
       "\n",
       "   5th Most Common Venue 6th Most Common Venue        7th Most Common Venue  \\\n",
       "22  Ethiopian Restaurant     Electronics Store  Eastern European Restaurant   \n",
       "\n",
       "   8th Most Common Venue 9th Most Common Venue 10th Most Common Venue  \n",
       "22   Dumpling Restaurant            Donut Shop       Doner Restaurant  "
      ]
     },
     "execution_count": 39,
     "metadata": {},
     "output_type": "execute_result"
    }
   ],
   "source": [
    "label_1.head()"
   ]
  },
  {
   "cell_type": "code",
   "execution_count": 40,
   "metadata": {},
   "outputs": [
    {
     "data": {
      "text/html": [
       "<div>\n",
       "<style scoped>\n",
       "    .dataframe tbody tr th:only-of-type {\n",
       "        vertical-align: middle;\n",
       "    }\n",
       "\n",
       "    .dataframe tbody tr th {\n",
       "        vertical-align: top;\n",
       "    }\n",
       "\n",
       "    .dataframe thead th {\n",
       "        text-align: right;\n",
       "    }\n",
       "</style>\n",
       "<table border=\"1\" class=\"dataframe\">\n",
       "  <thead>\n",
       "    <tr style=\"text-align: right;\">\n",
       "      <th></th>\n",
       "      <th>Borough</th>\n",
       "      <th>Cluster Labels</th>\n",
       "      <th>1st Most Common Venue</th>\n",
       "      <th>2nd Most Common Venue</th>\n",
       "      <th>3rd Most Common Venue</th>\n",
       "      <th>4th Most Common Venue</th>\n",
       "      <th>5th Most Common Venue</th>\n",
       "      <th>6th Most Common Venue</th>\n",
       "      <th>7th Most Common Venue</th>\n",
       "      <th>8th Most Common Venue</th>\n",
       "      <th>9th Most Common Venue</th>\n",
       "      <th>10th Most Common Venue</th>\n",
       "    </tr>\n",
       "  </thead>\n",
       "  <tbody>\n",
       "    <tr>\n",
       "      <th>4</th>\n",
       "      <td>Central Toronto</td>\n",
       "      <td>4</td>\n",
       "      <td>Park</td>\n",
       "      <td>Jewelry Store</td>\n",
       "      <td>Swim School</td>\n",
       "      <td>Bus Line</td>\n",
       "      <td>Wings Joint</td>\n",
       "      <td>Discount Store</td>\n",
       "      <td>Falafel Restaurant</td>\n",
       "      <td>Event Space</td>\n",
       "      <td>Ethiopian Restaurant</td>\n",
       "      <td>Electronics Store</td>\n",
       "    </tr>\n",
       "  </tbody>\n",
       "</table>\n",
       "</div>"
      ],
      "text/plain": [
       "           Borough  Cluster Labels 1st Most Common Venue  \\\n",
       "4  Central Toronto               4                  Park   \n",
       "\n",
       "  2nd Most Common Venue 3rd Most Common Venue 4th Most Common Venue  \\\n",
       "4         Jewelry Store           Swim School              Bus Line   \n",
       "\n",
       "  5th Most Common Venue 6th Most Common Venue 7th Most Common Venue  \\\n",
       "4           Wings Joint        Discount Store    Falafel Restaurant   \n",
       "\n",
       "  8th Most Common Venue 9th Most Common Venue 10th Most Common Venue  \n",
       "4           Event Space  Ethiopian Restaurant      Electronics Store  "
      ]
     },
     "execution_count": 40,
     "metadata": {},
     "output_type": "execute_result"
    }
   ],
   "source": [
    "label_4 # park"
   ]
  },
  {
   "cell_type": "code",
   "execution_count": null,
   "metadata": {},
   "outputs": [],
   "source": []
  }
 ],
 "metadata": {
  "kernelspec": {
   "display_name": "Python 3",
   "language": "python",
   "name": "python3"
  },
  "language_info": {
   "codemirror_mode": {
    "name": "ipython",
    "version": 3
   },
   "file_extension": ".py",
   "mimetype": "text/x-python",
   "name": "python",
   "nbconvert_exporter": "python",
   "pygments_lexer": "ipython3",
   "version": "3.7.3"
  }
 },
 "nbformat": 4,
 "nbformat_minor": 2
}
