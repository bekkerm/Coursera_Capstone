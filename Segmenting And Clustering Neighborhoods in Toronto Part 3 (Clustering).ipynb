{
 "cells": [
  {
   "cell_type": "markdown",
   "metadata": {},
   "source": [
    "#### Import libraries"
   ]
  },
  {
   "cell_type": "code",
   "execution_count": 58,
   "metadata": {
    "scrolled": true
   },
   "outputs": [],
   "source": [
    "import pandas as pd\n",
    "import numpy as np\n",
    "import requests\n",
    "import warnings\n",
    "warnings.filterwarnings('ignore')\n",
    "import geopy\n",
    "from geopy.geocoders import Nominatim\n",
    "import geocoder\n",
    "import folium\n",
    "from sklearn.cluster import KMeans\n",
    "import matplotlib.cm as cm\n",
    "import matplotlib.colors as colors\n",
    "from IPython.display import HTML, display"
   ]
  },
  {
   "cell_type": "markdown",
   "metadata": {},
   "source": [
    "#### Set the url to table location and get the content of the page in variable"
   ]
  },
  {
   "cell_type": "code",
   "execution_count": 2,
   "metadata": {},
   "outputs": [],
   "source": [
    "url = 'https://en.wikipedia.org/wiki/List_of_postal_codes_of_Canada:_M'\n",
    "page = requests.get(url).content"
   ]
  },
  {
   "cell_type": "markdown",
   "metadata": {},
   "source": [
    "#### Use the pandas read_html function to read the table. In this case the first table on the page ([0])"
   ]
  },
  {
   "cell_type": "code",
   "execution_count": 3,
   "metadata": {},
   "outputs": [],
   "source": [
    "df_raw = pd.read_html(page,header=0)[0]"
   ]
  },
  {
   "cell_type": "code",
   "execution_count": 4,
   "metadata": {},
   "outputs": [
    {
     "data": {
      "text/html": [
       "<div>\n",
       "<style scoped>\n",
       "    .dataframe tbody tr th:only-of-type {\n",
       "        vertical-align: middle;\n",
       "    }\n",
       "\n",
       "    .dataframe tbody tr th {\n",
       "        vertical-align: top;\n",
       "    }\n",
       "\n",
       "    .dataframe thead th {\n",
       "        text-align: right;\n",
       "    }\n",
       "</style>\n",
       "<table border=\"1\" class=\"dataframe\">\n",
       "  <thead>\n",
       "    <tr style=\"text-align: right;\">\n",
       "      <th></th>\n",
       "      <th>Postcode</th>\n",
       "      <th>Borough</th>\n",
       "      <th>Neighbourhood</th>\n",
       "    </tr>\n",
       "  </thead>\n",
       "  <tbody>\n",
       "    <tr>\n",
       "      <th>0</th>\n",
       "      <td>M1A</td>\n",
       "      <td>Not assigned</td>\n",
       "      <td>Not assigned</td>\n",
       "    </tr>\n",
       "    <tr>\n",
       "      <th>1</th>\n",
       "      <td>M2A</td>\n",
       "      <td>Not assigned</td>\n",
       "      <td>Not assigned</td>\n",
       "    </tr>\n",
       "    <tr>\n",
       "      <th>2</th>\n",
       "      <td>M3A</td>\n",
       "      <td>North York</td>\n",
       "      <td>Parkwoods</td>\n",
       "    </tr>\n",
       "    <tr>\n",
       "      <th>3</th>\n",
       "      <td>M4A</td>\n",
       "      <td>North York</td>\n",
       "      <td>Victoria Village</td>\n",
       "    </tr>\n",
       "    <tr>\n",
       "      <th>4</th>\n",
       "      <td>M5A</td>\n",
       "      <td>Downtown Toronto</td>\n",
       "      <td>Harbourfront</td>\n",
       "    </tr>\n",
       "  </tbody>\n",
       "</table>\n",
       "</div>"
      ],
      "text/plain": [
       "  Postcode           Borough     Neighbourhood\n",
       "0      M1A      Not assigned      Not assigned\n",
       "1      M2A      Not assigned      Not assigned\n",
       "2      M3A        North York         Parkwoods\n",
       "3      M4A        North York  Victoria Village\n",
       "4      M5A  Downtown Toronto      Harbourfront"
      ]
     },
     "execution_count": 4,
     "metadata": {},
     "output_type": "execute_result"
    }
   ],
   "source": [
    "df_raw.head()"
   ]
  },
  {
   "cell_type": "markdown",
   "metadata": {},
   "source": [
    "#### Let's clean up the dataset according to specifications, filtering and replacing values"
   ]
  },
  {
   "cell_type": "code",
   "execution_count": 5,
   "metadata": {},
   "outputs": [],
   "source": [
    "df = df_raw[df_raw['Borough'] != 'Not assigned'] #filter\n",
    "df.columns = ['PostalCode','Borough','Neighborhood'] #set columns\n",
    "df.loc[df['Neighborhood'] == 'Not assigned',['Neighborhood']] = df['Borough'] #replace Neigborhood with Borough if Neigborhood = 'Not assigned'"
   ]
  },
  {
   "cell_type": "markdown",
   "metadata": {},
   "source": [
    "#### Group the dataframe and apply the string concatenation"
   ]
  },
  {
   "cell_type": "code",
   "execution_count": 6,
   "metadata": {},
   "outputs": [],
   "source": [
    "df = df.groupby(by=['PostalCode','Borough']).agg(lambda x: ', '.join(set(x))).reset_index()"
   ]
  },
  {
   "cell_type": "markdown",
   "metadata": {},
   "source": [
    "#### Finally let's show the final frame (103 records with 3 columns)"
   ]
  },
  {
   "cell_type": "code",
   "execution_count": 7,
   "metadata": {},
   "outputs": [
    {
     "data": {
      "text/plain": [
       "(103, 3)"
      ]
     },
     "execution_count": 7,
     "metadata": {},
     "output_type": "execute_result"
    }
   ],
   "source": [
    "df.shape"
   ]
  },
  {
   "cell_type": "markdown",
   "metadata": {},
   "source": [
    "#### We have the dataframe setup, now let's find the longitude and latitude. I'm using the provided csv as the geocoder is malfunctioning"
   ]
  },
  {
   "cell_type": "code",
   "execution_count": 8,
   "metadata": {},
   "outputs": [],
   "source": [
    "file = 'Geospatial_Coordinates.csv'\n",
    "df_geo = pd.read_csv(file)\n",
    "df_geo.rename(columns = {'Postal Code':'PostalCode'}, inplace = True)"
   ]
  },
  {
   "cell_type": "markdown",
   "metadata": {},
   "source": [
    "#### We now have the location data per postalcode so now it will be joined together with the Toronto dataframe"
   ]
  },
  {
   "cell_type": "code",
   "execution_count": 9,
   "metadata": {},
   "outputs": [],
   "source": [
    "df_toronto = pd.merge(df,df_geo, on='PostalCode',how='left')"
   ]
  },
  {
   "cell_type": "markdown",
   "metadata": {},
   "source": [
    "#### This leaves with clean appended dataframe incl lat and long"
   ]
  },
  {
   "cell_type": "code",
   "execution_count": 10,
   "metadata": {},
   "outputs": [
    {
     "data": {
      "text/html": [
       "<div>\n",
       "<style scoped>\n",
       "    .dataframe tbody tr th:only-of-type {\n",
       "        vertical-align: middle;\n",
       "    }\n",
       "\n",
       "    .dataframe tbody tr th {\n",
       "        vertical-align: top;\n",
       "    }\n",
       "\n",
       "    .dataframe thead th {\n",
       "        text-align: right;\n",
       "    }\n",
       "</style>\n",
       "<table border=\"1\" class=\"dataframe\">\n",
       "  <thead>\n",
       "    <tr style=\"text-align: right;\">\n",
       "      <th></th>\n",
       "      <th>PostalCode</th>\n",
       "      <th>Borough</th>\n",
       "      <th>Neighborhood</th>\n",
       "      <th>Latitude</th>\n",
       "      <th>Longitude</th>\n",
       "    </tr>\n",
       "  </thead>\n",
       "  <tbody>\n",
       "    <tr>\n",
       "      <th>0</th>\n",
       "      <td>M1B</td>\n",
       "      <td>Scarborough</td>\n",
       "      <td>Rouge, Malvern</td>\n",
       "      <td>43.806686</td>\n",
       "      <td>-79.194353</td>\n",
       "    </tr>\n",
       "    <tr>\n",
       "      <th>1</th>\n",
       "      <td>M1C</td>\n",
       "      <td>Scarborough</td>\n",
       "      <td>Rouge Hill, Highland Creek, Port Union</td>\n",
       "      <td>43.784535</td>\n",
       "      <td>-79.160497</td>\n",
       "    </tr>\n",
       "    <tr>\n",
       "      <th>2</th>\n",
       "      <td>M1E</td>\n",
       "      <td>Scarborough</td>\n",
       "      <td>Morningside, West Hill, Guildwood</td>\n",
       "      <td>43.763573</td>\n",
       "      <td>-79.188711</td>\n",
       "    </tr>\n",
       "    <tr>\n",
       "      <th>3</th>\n",
       "      <td>M1G</td>\n",
       "      <td>Scarborough</td>\n",
       "      <td>Woburn</td>\n",
       "      <td>43.770992</td>\n",
       "      <td>-79.216917</td>\n",
       "    </tr>\n",
       "    <tr>\n",
       "      <th>4</th>\n",
       "      <td>M1H</td>\n",
       "      <td>Scarborough</td>\n",
       "      <td>Cedarbrae</td>\n",
       "      <td>43.773136</td>\n",
       "      <td>-79.239476</td>\n",
       "    </tr>\n",
       "  </tbody>\n",
       "</table>\n",
       "</div>"
      ],
      "text/plain": [
       "  PostalCode      Borough                            Neighborhood   Latitude  \\\n",
       "0        M1B  Scarborough                          Rouge, Malvern  43.806686   \n",
       "1        M1C  Scarborough  Rouge Hill, Highland Creek, Port Union  43.784535   \n",
       "2        M1E  Scarborough       Morningside, West Hill, Guildwood  43.763573   \n",
       "3        M1G  Scarborough                                  Woburn  43.770992   \n",
       "4        M1H  Scarborough                               Cedarbrae  43.773136   \n",
       "\n",
       "   Longitude  \n",
       "0 -79.194353  \n",
       "1 -79.160497  \n",
       "2 -79.188711  \n",
       "3 -79.216917  \n",
       "4 -79.239476  "
      ]
     },
     "execution_count": 10,
     "metadata": {},
     "output_type": "execute_result"
    }
   ],
   "source": [
    "df_toronto.head()"
   ]
  },
  {
   "cell_type": "markdown",
   "metadata": {},
   "source": [
    "#### Let's start with our first map and plot the locations on the Toronto map"
   ]
  },
  {
   "cell_type": "markdown",
   "metadata": {},
   "source": [
    "##### We'll define the start zoom location of the folium map with the address and geolocator to get the latitude and longitude"
   ]
  },
  {
   "cell_type": "code",
   "execution_count": 11,
   "metadata": {},
   "outputs": [
    {
     "name": "stdout",
     "output_type": "stream",
     "text": [
      "The geograpical coordinates of Toronto are 43.653963, -79.387207.\n"
     ]
    }
   ],
   "source": [
    "address = 'Toronto, Ontario'\n",
    "\n",
    "geolocator = Nominatim(user_agent=\"ny_explorer\")\n",
    "location = geolocator.geocode(address)\n",
    "latitude = location.latitude\n",
    "longitude = location.longitude\n",
    "print('The geograpical coordinates of Toronto are {}, {}.'.format(latitude, longitude))"
   ]
  },
  {
   "cell_type": "markdown",
   "metadata": {},
   "source": [
    "#### Now we plot the areas onto the Toronto map"
   ]
  },
  {
   "cell_type": "code",
   "execution_count": 51,
   "metadata": {},
   "outputs": [],
   "source": [
    "# Function required to show folium maps inline"
   ]
  },
  {
   "cell_type": "code",
   "execution_count": 59,
   "metadata": {},
   "outputs": [
    {
     "data": {
      "text/html": [
       "<div style=\"width:100%;\"><div style=\"position:relative;width:100%;height:0;padding-bottom:60%;\"><iframe src=\"data:text/html;charset=utf-8;base64,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\" style=\"position:absolute;width:100%;height:100%;left:0;top:0;border:none !important;\" allowfullscreen webkitallowfullscreen mozallowfullscreen></iframe></div></div>"
      ],
      "text/plain": [
       "<folium.folium.Map at 0x7f99b043bb38>"
      ]
     },
     "metadata": {},
     "output_type": "display_data"
    }
   ],
   "source": [
    "# create map of New York using latitude and longitude values\n",
    "map_toronto = folium.Map(location=[latitude, longitude], zoom_start=10)\n",
    "\n",
    "# add markers to map\n",
    "for lat, lng, borough, neighborhood in zip(df_toronto['Latitude'], df_toronto['Longitude'], df_toronto['Borough'], df_toronto['Neighborhood']):\n",
    "    label = '{}, {}'.format(neighborhood, borough)\n",
    "    label = folium.Popup(label, parse_html=True)\n",
    "    folium.CircleMarker(\n",
    "        [lat, lng],\n",
    "        radius=5,\n",
    "        popup=label,\n",
    "        color='blue',\n",
    "        fill=True,\n",
    "        fill_color='#3186cc',\n",
    "        fill_opacity=0.7,\n",
    "        parse_html=True).add_to(map_toronto)  \n",
    "    \n",
    "display(map_toronto)"
   ]
  },
  {
   "cell_type": "markdown",
   "metadata": {},
   "source": [
    "#### Now we have the initial map setup we continue with clustering. We will start with limiting the dataset as now we have 103 points on the map. We'll limit the set to only show locations for Borough's with the name Toronto in it"
   ]
  },
  {
   "cell_type": "code",
   "execution_count": 13,
   "metadata": {},
   "outputs": [
    {
     "data": {
      "text/plain": [
       "(38, 5)"
      ]
     },
     "execution_count": 13,
     "metadata": {},
     "output_type": "execute_result"
    }
   ],
   "source": [
    "toronto_data = df_toronto[df_toronto.Borough.str.contains('Toronto')].reset_index(drop=True)\n",
    "toronto_data.shape"
   ]
  },
  {
   "cell_type": "markdown",
   "metadata": {},
   "source": [
    "#### This leaves us with 38 Boroughs we wil continue to work with. Let's map them again"
   ]
  },
  {
   "cell_type": "code",
   "execution_count": 37,
   "metadata": {},
   "outputs": [
    {
     "data": {
      "text/html": [
       "<div style=\"width:100%;\"><div style=\"position:relative;width:100%;height:0;padding-bottom:60%;\"><iframe src=\"data:text/html;charset=utf-8;base64,PCFET0NUWVBFIGh0bWw+CjxoZWFkPiAgICAKICAgIDxtZXRhIGh0dHAtZXF1aXY9ImNvbnRlbnQtdHlwZSIgY29udGVudD0idGV4dC9odG1sOyBjaGFyc2V0PVVURi04IiAvPgogICAgCiAgICAgICAgPHNjcmlwdD4KICAgICAgICAgICAgTF9OT19UT1VDSCA9IGZhbHNlOwogICAgICAgICAgICBMX0RJU0FCTEVfM0QgPSBmYWxzZTsKICAgICAgICA8L3NjcmlwdD4KICAgIAogICAgPHNjcmlwdCBzcmM9Imh0dHBzOi8vY2RuLmpzZGVsaXZyLm5ldC9ucG0vbGVhZmxldEAxLjUuMS9kaXN0L2xlYWZsZXQuanMiPjwvc2NyaXB0PgogICAgPHNjcmlwdCBzcmM9Imh0dHBzOi8vY29kZS5qcXVlcnkuY29tL2pxdWVyeS0xLjEyLjQubWluLmpzIj48L3NjcmlwdD4KICAgIDxzY3JpcHQgc3JjPSJodHRwczovL21heGNkbi5ib290c3RyYXBjZG4uY29tL2Jvb3RzdHJhcC8zLjIuMC9qcy9ib290c3RyYXAubWluLmpzIj48L3NjcmlwdD4KICAgIDxzY3JpcHQgc3JjPSJodHRwczovL2NkbmpzLmNsb3VkZmxhcmUuY29tL2FqYXgvbGlicy9MZWFmbGV0LmF3ZXNvbWUtbWFya2Vycy8yLjAuMi9sZWFmbGV0LmF3ZXNvbWUtbWFya2Vycy5qcyI+PC9zY3JpcHQ+CiAgICA8bGluayByZWw9InN0eWxlc2hlZXQiIGhyZWY9Imh0dHBzOi8vY2RuLmpzZGVsaXZyLm5ldC9ucG0vbGVhZmxldEAxLjUuMS9kaXN0L2xlYWZsZXQuY3NzIi8+CiAgICA8bGluayByZWw9InN0eWxlc2hlZXQiIGhyZWY9Imh0dHBzOi8vbWF4Y2RuLmJvb3RzdHJhcGNkbi5jb20vYm9vdHN0cmFwLzMuMi4wL2Nzcy9ib290c3RyYXAubWluLmNzcyIvPgogICAgPGxpbmsgcmVsPSJzdHlsZXNoZWV0IiBocmVmPSJodHRwczovL21heGNkbi5ib290c3RyYXBjZG4uY29tL2Jvb3RzdHJhcC8zLjIuMC9jc3MvYm9vdHN0cmFwLXRoZW1lLm1pbi5jc3MiLz4KICAgIDxsaW5rIHJlbD0ic3R5bGVzaGVldCIgaHJlZj0iaHR0cHM6Ly9tYXhjZG4uYm9vdHN0cmFwY2RuLmNvbS9mb250LWF3ZXNvbWUvNC42LjMvY3NzL2ZvbnQtYXdlc29tZS5taW4uY3NzIi8+CiAgICA8bGluayByZWw9InN0eWxlc2hlZXQiIGhyZWY9Imh0dHBzOi8vY2RuanMuY2xvdWRmbGFyZS5jb20vYWpheC9saWJzL0xlYWZsZXQuYXdlc29tZS1tYXJrZXJzLzIuMC4yL2xlYWZsZXQuYXdlc29tZS1tYXJrZXJzLmNzcyIvPgogICAgPGxpbmsgcmVsPSJzdHlsZXNoZWV0IiBocmVmPSJodHRwczovL3Jhd2Nkbi5naXRoYWNrLmNvbS9weXRob24tdmlzdWFsaXphdGlvbi9mb2xpdW0vbWFzdGVyL2ZvbGl1bS90ZW1wbGF0ZXMvbGVhZmxldC5hd2Vzb21lLnJvdGF0ZS5jc3MiLz4KICAgIDxzdHlsZT5odG1sLCBib2R5IHt3aWR0aDogMTAwJTtoZWlnaHQ6IDEwMCU7bWFyZ2luOiAwO3BhZGRpbmc6IDA7fTwvc3R5bGU+CiAgICA8c3R5bGU+I21hcCB7cG9zaXRpb246YWJzb2x1dGU7dG9wOjA7Ym90dG9tOjA7cmlnaHQ6MDtsZWZ0OjA7fTwvc3R5bGU+CiAgICAKICAgICAgICAgICAgPG1ldGEgbmFtZT0idmlld3BvcnQiIGNvbnRlbnQ9IndpZHRoPWRldmljZS13aWR0aCwKICAgICAgICAgICAgICAgIGluaXRpYWwtc2NhbGU9MS4wLCBtYXhpbXVtLXNjYWxlPTEuMCwgdXNlci1zY2FsYWJsZT1ubyIgLz4KICAgICAgICAgICAgPHN0eWxlPgogICAgICAgICAgICAgICAgI21hcF85NDliZTdmZmMwZGE0NDYzYjBmODU0NWI1N2QzODdiMiB7CiAgICAgICAgICAgICAgICAgICAgcG9zaXRpb246IHJlbGF0aXZlOwogICAgICAgICAgICAgICAgICAgIHdpZHRoOiAxMDAuMCU7CiAgICAgICAgICAgICAgICAgICAgaGVpZ2h0OiAxMDAuMCU7CiAgICAgICAgICAgICAgICAgICAgbGVmdDogMC4wJTsKICAgICAgICAgICAgICAgICAgICB0b3A6IDAuMCU7CiAgICAgICAgICAgICAgICB9CiAgICAgICAgICAgIDwvc3R5bGU+CiAgICAgICAgCjwvaGVhZD4KPGJvZHk+ICAgIAogICAgCiAgICAgICAgICAgIDxkaXYgY2xhc3M9ImZvbGl1bS1tYXAiIGlkPSJtYXBfOTQ5YmU3ZmZjMGRhNDQ2M2IwZjg1NDViNTdkMzg3YjIiID48L2Rpdj4KICAgICAgICAKPC9ib2R5Pgo8c2NyaXB0PiAgICAKICAgIAogICAgICAgICAgICB2YXIgbWFwXzk0OWJlN2ZmYzBkYTQ0NjNiMGY4NTQ1YjU3ZDM4N2IyID0gTC5tYXAoCiAgICAgICAgICAgICAgICAibWFwXzk0OWJlN2ZmYzBkYTQ0NjNiMGY4NTQ1YjU3ZDM4N2IyIiwKICAgICAgICAgICAgICAgIHsKICAgICAgICAgICAgICAgICAgICBjZW50ZXI6IFs0My42NTM5NjMsIC03OS4zODcyMDddLAogICAgICAgICAgICAgICAgICAgIGNyczogTC5DUlMuRVBTRzM4NTcsCiAgICAgICAgICAgICAgICAgICAgem9vbTogMTEsCiAgICAgICAgICAgICAgICAgICAgem9vbUNvbnRyb2w6IHRydWUsCiAgICAgICAgICAgICAgICAgICAgcHJlZmVyQ2FudmFzOiBmYWxzZSwKICAgICAgICAgICAgICAgIH0KICAgICAgICAgICAgKTsKCiAgICAgICAgICAgIAoKICAgICAgICAKICAgIAogICAgICAgICAgICB2YXIgdGlsZV9sYXllcl83OTY5MzA1NmFiOWM0YmY5YjEzYjZhY2EyNjRjM2U2NCA9IEwudGlsZUxheWVyKAogICAgICAgICAgICAgICAgImh0dHBzOi8ve3N9LnRpbGUub3BlbnN0cmVldG1hcC5vcmcve3p9L3t4fS97eX0ucG5nIiwKICAgICAgICAgICAgICAgIHsiYXR0cmlidXRpb24iOiAiRGF0YSBieSBcdTAwMjZjb3B5OyBcdTAwM2NhIGhyZWY9XCJodHRwOi8vb3BlbnN0cmVldG1hcC5vcmdcIlx1MDAzZU9wZW5TdHJlZXRNYXBcdTAwM2MvYVx1MDAzZSwgdW5kZXIgXHUwMDNjYSBocmVmPVwiaHR0cDovL3d3dy5vcGVuc3RyZWV0bWFwLm9yZy9jb3B5cmlnaHRcIlx1MDAzZU9EYkxcdTAwM2MvYVx1MDAzZS4iLCAiZGV0ZWN0UmV0aW5hIjogZmFsc2UsICJtYXhOYXRpdmVab29tIjogMTgsICJtYXhab29tIjogMTgsICJtaW5ab29tIjogMCwgIm5vV3JhcCI6IGZhbHNlLCAib3BhY2l0eSI6IDEsICJzdWJkb21haW5zIjogImFiYyIsICJ0bXMiOiBmYWxzZX0KICAgICAgICAgICAgKS5hZGRUbyhtYXBfOTQ5YmU3ZmZjMGRhNDQ2M2IwZjg1NDViNTdkMzg3YjIpOwogICAgICAgIAogICAgCiAgICAgICAgICAgIHZhciBjaXJjbGVfbWFya2VyXzEzMTUxM2ExZDdjNTRkMjBiOWU1OTIwZWFjYWNjYWE3ID0gTC5jaXJjbGVNYXJrZXIoCiAgICAgICAgICAgICAgICBbNDMuNjc2MzU3Mzk5OTk5OTksIC03OS4yOTMwMzEyXSwKICAgICAgICAgICAgICAgIHsiYnViYmxpbmdNb3VzZUV2ZW50cyI6IHRydWUsICJjb2xvciI6ICJibHVlIiwgImRhc2hBcnJheSI6IG51bGwsICJkYXNoT2Zmc2V0IjogbnVsbCwgImZpbGwiOiB0cnVlLCAiZmlsbENvbG9yIjogIiMzMTg2Y2MiLCAiZmlsbE9wYWNpdHkiOiAwLjcsICJmaWxsUnVsZSI6ICJldmVub2RkIiwgImxpbmVDYXAiOiAicm91bmQiLCAibGluZUpvaW4iOiAicm91bmQiLCAib3BhY2l0eSI6IDEuMCwgInJhZGl1cyI6IDUsICJzdHJva2UiOiB0cnVlLCAid2VpZ2h0IjogM30KICAgICAgICAgICAgKS5hZGRUbyhtYXBfOTQ5YmU3ZmZjMGRhNDQ2M2IwZjg1NDViNTdkMzg3YjIpOwogICAgICAgIAogICAgCiAgICAgICAgdmFyIHBvcHVwXzYxYWYwMzNhMjU0MTQwYjhhNjlmMjY2NWY1Mjk1MGQyID0gTC5wb3B1cCh7Im1heFdpZHRoIjogIjEwMCUifSk7CgogICAgICAgIAogICAgICAgICAgICB2YXIgaHRtbF9iN2ZkOTk3ZDBiNDM0NjI2YTQ1ZGIzYTUyMGY5ODA1NCA9ICQoYDxkaXYgaWQ9Imh0bWxfYjdmZDk5N2QwYjQzNDYyNmE0NWRiM2E1MjBmOTgwNTQiIHN0eWxlPSJ3aWR0aDogMTAwLjAlOyBoZWlnaHQ6IDEwMC4wJTsiPlRoZSBCZWFjaGVzLCBFYXN0IFRvcm9udG88L2Rpdj5gKVswXTsKICAgICAgICAgICAgcG9wdXBfNjFhZjAzM2EyNTQxNDBiOGE2OWYyNjY1ZjUyOTUwZDIuc2V0Q29udGVudChodG1sX2I3ZmQ5OTdkMGI0MzQ2MjZhNDVkYjNhNTIwZjk4MDU0KTsKICAgICAgICAKCiAgICAgICAgY2lyY2xlX21hcmtlcl8xMzE1MTNhMWQ3YzU0ZDIwYjllNTkyMGVhY2FjY2FhNy5iaW5kUG9wdXAocG9wdXBfNjFhZjAzM2EyNTQxNDBiOGE2OWYyNjY1ZjUyOTUwZDIpCiAgICAgICAgOwoKICAgICAgICAKICAgIAogICAgCiAgICAgICAgICAgIHZhciBjaXJjbGVfbWFya2VyX2IyMjY3MDY5ZTkwYTRiYzU4Nzg3ZDY5OTQ5NTg4NWE5ID0gTC5jaXJjbGVNYXJrZXIoCiAgICAgICAgICAgICAgICBbNDMuNjc5NTU3MSwgLTc5LjM1MjE4OF0sCiAgICAgICAgICAgICAgICB7ImJ1YmJsaW5nTW91c2VFdmVudHMiOiB0cnVlLCAiY29sb3IiOiAiYmx1ZSIsICJkYXNoQXJyYXkiOiBudWxsLCAiZGFzaE9mZnNldCI6IG51bGwsICJmaWxsIjogdHJ1ZSwgImZpbGxDb2xvciI6ICIjMzE4NmNjIiwgImZpbGxPcGFjaXR5IjogMC43LCAiZmlsbFJ1bGUiOiAiZXZlbm9kZCIsICJsaW5lQ2FwIjogInJvdW5kIiwgImxpbmVKb2luIjogInJvdW5kIiwgIm9wYWNpdHkiOiAxLjAsICJyYWRpdXMiOiA1LCAic3Ryb2tlIjogdHJ1ZSwgIndlaWdodCI6IDN9CiAgICAgICAgICAgICkuYWRkVG8obWFwXzk0OWJlN2ZmYzBkYTQ0NjNiMGY4NTQ1YjU3ZDM4N2IyKTsKICAgICAgICAKICAgIAogICAgICAgIHZhciBwb3B1cF9lODM1MDFhODNhMDI0MzQ3OWJmMzFlM2NjMjIxMDkyNiA9IEwucG9wdXAoeyJtYXhXaWR0aCI6ICIxMDAlIn0pOwoKICAgICAgICAKICAgICAgICAgICAgdmFyIGh0bWxfZTRkNjg0MmMyYjgyNDEyNmEzOTViNzEyMzA5MTMzNmEgPSAkKGA8ZGl2IGlkPSJodG1sX2U0ZDY4NDJjMmI4MjQxMjZhMzk1YjcxMjMwOTEzMzZhIiBzdHlsZT0id2lkdGg6IDEwMC4wJTsgaGVpZ2h0OiAxMDAuMCU7Ij5SaXZlcmRhbGUsIFRoZSBEYW5mb3J0aCBXZXN0LCBFYXN0IFRvcm9udG88L2Rpdj5gKVswXTsKICAgICAgICAgICAgcG9wdXBfZTgzNTAxYTgzYTAyNDM0NzliZjMxZTNjYzIyMTA5MjYuc2V0Q29udGVudChodG1sX2U0ZDY4NDJjMmI4MjQxMjZhMzk1YjcxMjMwOTEzMzZhKTsKICAgICAgICAKCiAgICAgICAgY2lyY2xlX21hcmtlcl9iMjI2NzA2OWU5MGE0YmM1ODc4N2Q2OTk0OTU4ODVhOS5iaW5kUG9wdXAocG9wdXBfZTgzNTAxYTgzYTAyNDM0NzliZjMxZTNjYzIyMTA5MjYpCiAgICAgICAgOwoKICAgICAgICAKICAgIAogICAgCiAgICAgICAgICAgIHZhciBjaXJjbGVfbWFya2VyXzJiNjc3MzU0YWQ5ZjRjM2M5N2E3ZDgzYjRkMDgwYmRhID0gTC5jaXJjbGVNYXJrZXIoCiAgICAgICAgICAgICAgICBbNDMuNjY4OTk4NSwgLTc5LjMxNTU3MTU5OTk5OTk4XSwKICAgICAgICAgICAgICAgIHsiYnViYmxpbmdNb3VzZUV2ZW50cyI6IHRydWUsICJjb2xvciI6ICJibHVlIiwgImRhc2hBcnJheSI6IG51bGwsICJkYXNoT2Zmc2V0IjogbnVsbCwgImZpbGwiOiB0cnVlLCAiZmlsbENvbG9yIjogIiMzMTg2Y2MiLCAiZmlsbE9wYWNpdHkiOiAwLjcsICJmaWxsUnVsZSI6ICJldmVub2RkIiwgImxpbmVDYXAiOiAicm91bmQiLCAibGluZUpvaW4iOiAicm91bmQiLCAib3BhY2l0eSI6IDEuMCwgInJhZGl1cyI6IDUsICJzdHJva2UiOiB0cnVlLCAid2VpZ2h0IjogM30KICAgICAgICAgICAgKS5hZGRUbyhtYXBfOTQ5YmU3ZmZjMGRhNDQ2M2IwZjg1NDViNTdkMzg3YjIpOwogICAgICAgIAogICAgCiAgICAgICAgdmFyIHBvcHVwXzYwZDJlOGE3NjE2YzRkMTFiZWNmMWJiZDAwMDIxOTllID0gTC5wb3B1cCh7Im1heFdpZHRoIjogIjEwMCUifSk7CgogICAgICAgIAogICAgICAgICAgICB2YXIgaHRtbF8wNzQzZjI4M2JkOTA0OTA1ODgxNzA2ZWRmYTNiM2Y2ZSA9ICQoYDxkaXYgaWQ9Imh0bWxfMDc0M2YyODNiZDkwNDkwNTg4MTcwNmVkZmEzYjNmNmUiIHN0eWxlPSJ3aWR0aDogMTAwLjAlOyBoZWlnaHQ6IDEwMC4wJTsiPlRoZSBCZWFjaGVzIFdlc3QsIEluZGlhIEJhemFhciwgRWFzdCBUb3JvbnRvPC9kaXY+YClbMF07CiAgICAgICAgICAgIHBvcHVwXzYwZDJlOGE3NjE2YzRkMTFiZWNmMWJiZDAwMDIxOTllLnNldENvbnRlbnQoaHRtbF8wNzQzZjI4M2JkOTA0OTA1ODgxNzA2ZWRmYTNiM2Y2ZSk7CiAgICAgICAgCgogICAgICAgIGNpcmNsZV9tYXJrZXJfMmI2NzczNTRhZDlmNGMzYzk3YTdkODNiNGQwODBiZGEuYmluZFBvcHVwKHBvcHVwXzYwZDJlOGE3NjE2YzRkMTFiZWNmMWJiZDAwMDIxOTllKQogICAgICAgIDsKCiAgICAgICAgCiAgICAKICAgIAogICAgICAgICAgICB2YXIgY2lyY2xlX21hcmtlcl9mZTkwZTlhYjEyYTc0MTliYjE5NWEyYjc5ZGZlYTgzZiA9IEwuY2lyY2xlTWFya2VyKAogICAgICAgICAgICAgICAgWzQzLjY1OTUyNTUsIC03OS4zNDA5MjNdLAogICAgICAgICAgICAgICAgeyJidWJibGluZ01vdXNlRXZlbnRzIjogdHJ1ZSwgImNvbG9yIjogImJsdWUiLCAiZGFzaEFycmF5IjogbnVsbCwgImRhc2hPZmZzZXQiOiBudWxsLCAiZmlsbCI6IHRydWUsICJmaWxsQ29sb3IiOiAiIzMxODZjYyIsICJmaWxsT3BhY2l0eSI6IDAuNywgImZpbGxSdWxlIjogImV2ZW5vZGQiLCAibGluZUNhcCI6ICJyb3VuZCIsICJsaW5lSm9pbiI6ICJyb3VuZCIsICJvcGFjaXR5IjogMS4wLCAicmFkaXVzIjogNSwgInN0cm9rZSI6IHRydWUsICJ3ZWlnaHQiOiAzfQogICAgICAgICAgICApLmFkZFRvKG1hcF85NDliZTdmZmMwZGE0NDYzYjBmODU0NWI1N2QzODdiMik7CiAgICAgICAgCiAgICAKICAgICAgICB2YXIgcG9wdXBfZmZiN2NmOWIwZjA3NDVhOGEyZTk0ZDU4M2IyYzdiMDkgPSBMLnBvcHVwKHsibWF4V2lkdGgiOiAiMTAwJSJ9KTsKCiAgICAgICAgCiAgICAgICAgICAgIHZhciBodG1sXzQzOGFiNTE2Y2M5YTRjNmI4ZDhlMWU3MmJiMWU1ZTUzID0gJChgPGRpdiBpZD0iaHRtbF80MzhhYjUxNmNjOWE0YzZiOGQ4ZTFlNzJiYjFlNWU1MyIgc3R5bGU9IndpZHRoOiAxMDAuMCU7IGhlaWdodDogMTAwLjAlOyI+U3R1ZGlvIERpc3RyaWN0LCBFYXN0IFRvcm9udG88L2Rpdj5gKVswXTsKICAgICAgICAgICAgcG9wdXBfZmZiN2NmOWIwZjA3NDVhOGEyZTk0ZDU4M2IyYzdiMDkuc2V0Q29udGVudChodG1sXzQzOGFiNTE2Y2M5YTRjNmI4ZDhlMWU3MmJiMWU1ZTUzKTsKICAgICAgICAKCiAgICAgICAgY2lyY2xlX21hcmtlcl9mZTkwZTlhYjEyYTc0MTliYjE5NWEyYjc5ZGZlYTgzZi5iaW5kUG9wdXAocG9wdXBfZmZiN2NmOWIwZjA3NDVhOGEyZTk0ZDU4M2IyYzdiMDkpCiAgICAgICAgOwoKICAgICAgICAKICAgIAogICAgCiAgICAgICAgICAgIHZhciBjaXJjbGVfbWFya2VyX2YxMTgzZTgxMzg0YzRkNDBhMTFiMTdjNjFiNDU1Y2M3ID0gTC5jaXJjbGVNYXJrZXIoCiAgICAgICAgICAgICAgICBbNDMuNzI4MDIwNSwgLTc5LjM4ODc5MDFdLAogICAgICAgICAgICAgICAgeyJidWJibGluZ01vdXNlRXZlbnRzIjogdHJ1ZSwgImNvbG9yIjogImJsdWUiLCAiZGFzaEFycmF5IjogbnVsbCwgImRhc2hPZmZzZXQiOiBudWxsLCAiZmlsbCI6IHRydWUsICJmaWxsQ29sb3IiOiAiIzMxODZjYyIsICJmaWxsT3BhY2l0eSI6IDAuNywgImZpbGxSdWxlIjogImV2ZW5vZGQiLCAibGluZUNhcCI6ICJyb3VuZCIsICJsaW5lSm9pbiI6ICJyb3VuZCIsICJvcGFjaXR5IjogMS4wLCAicmFkaXVzIjogNSwgInN0cm9rZSI6IHRydWUsICJ3ZWlnaHQiOiAzfQogICAgICAgICAgICApLmFkZFRvKG1hcF85NDliZTdmZmMwZGE0NDYzYjBmODU0NWI1N2QzODdiMik7CiAgICAgICAgCiAgICAKICAgICAgICB2YXIgcG9wdXBfNDM2ZTllYTFlZjEzNGU1NThmMTIzYzNiZDg3NTQ0ZGQgPSBMLnBvcHVwKHsibWF4V2lkdGgiOiAiMTAwJSJ9KTsKCiAgICAgICAgCiAgICAgICAgICAgIHZhciBodG1sXzU1NmM5MDIxYjlmMzQ4NTRiODkzY2Q5MWNlOWFmMzMwID0gJChgPGRpdiBpZD0iaHRtbF81NTZjOTAyMWI5ZjM0ODU0Yjg5M2NkOTFjZTlhZjMzMCIgc3R5bGU9IndpZHRoOiAxMDAuMCU7IGhlaWdodDogMTAwLjAlOyI+TGF3cmVuY2UgUGFyaywgQ2VudHJhbCBUb3JvbnRvPC9kaXY+YClbMF07CiAgICAgICAgICAgIHBvcHVwXzQzNmU5ZWExZWYxMzRlNTU4ZjEyM2MzYmQ4NzU0NGRkLnNldENvbnRlbnQoaHRtbF81NTZjOTAyMWI5ZjM0ODU0Yjg5M2NkOTFjZTlhZjMzMCk7CiAgICAgICAgCgogICAgICAgIGNpcmNsZV9tYXJrZXJfZjExODNlODEzODRjNGQ0MGExMWIxN2M2MWI0NTVjYzcuYmluZFBvcHVwKHBvcHVwXzQzNmU5ZWExZWYxMzRlNTU4ZjEyM2MzYmQ4NzU0NGRkKQogICAgICAgIDsKCiAgICAgICAgCiAgICAKICAgIAogICAgICAgICAgICB2YXIgY2lyY2xlX21hcmtlcl80YzEwYTU3YzAyY2Y0MzgxODUxOTFmZjUzZGM4MzZhZSA9IEwuY2lyY2xlTWFya2VyKAogICAgICAgICAgICAgICAgWzQzLjcxMjc1MTEsIC03OS4zOTAxOTc1XSwKICAgICAgICAgICAgICAgIHsiYnViYmxpbmdNb3VzZUV2ZW50cyI6IHRydWUsICJjb2xvciI6ICJibHVlIiwgImRhc2hBcnJheSI6IG51bGwsICJkYXNoT2Zmc2V0IjogbnVsbCwgImZpbGwiOiB0cnVlLCAiZmlsbENvbG9yIjogIiMzMTg2Y2MiLCAiZmlsbE9wYWNpdHkiOiAwLjcsICJmaWxsUnVsZSI6ICJldmVub2RkIiwgImxpbmVDYXAiOiAicm91bmQiLCAibGluZUpvaW4iOiAicm91bmQiLCAib3BhY2l0eSI6IDEuMCwgInJhZGl1cyI6IDUsICJzdHJva2UiOiB0cnVlLCAid2VpZ2h0IjogM30KICAgICAgICAgICAgKS5hZGRUbyhtYXBfOTQ5YmU3ZmZjMGRhNDQ2M2IwZjg1NDViNTdkMzg3YjIpOwogICAgICAgIAogICAgCiAgICAgICAgdmFyIHBvcHVwX2YwMDI0ZjdkNDc5MDQ1MTI5MDFiMzUxMmQ2OGUxZDE2ID0gTC5wb3B1cCh7Im1heFdpZHRoIjogIjEwMCUifSk7CgogICAgICAgIAogICAgICAgICAgICB2YXIgaHRtbF9lOTEwOWQwODIyMjQ0NDkwYWNmY2ExMzIyZjg1YzdiOSA9ICQoYDxkaXYgaWQ9Imh0bWxfZTkxMDlkMDgyMjI0NDQ5MGFjZmNhMTMyMmY4NWM3YjkiIHN0eWxlPSJ3aWR0aDogMTAwLjAlOyBoZWlnaHQ6IDEwMC4wJTsiPkRhdmlzdmlsbGUgTm9ydGgsIENlbnRyYWwgVG9yb250bzwvZGl2PmApWzBdOwogICAgICAgICAgICBwb3B1cF9mMDAyNGY3ZDQ3OTA0NTEyOTAxYjM1MTJkNjhlMWQxNi5zZXRDb250ZW50KGh0bWxfZTkxMDlkMDgyMjI0NDQ5MGFjZmNhMTMyMmY4NWM3YjkpOwogICAgICAgIAoKICAgICAgICBjaXJjbGVfbWFya2VyXzRjMTBhNTdjMDJjZjQzODE4NTE5MWZmNTNkYzgzNmFlLmJpbmRQb3B1cChwb3B1cF9mMDAyNGY3ZDQ3OTA0NTEyOTAxYjM1MTJkNjhlMWQxNikKICAgICAgICA7CgogICAgICAgIAogICAgCiAgICAKICAgICAgICAgICAgdmFyIGNpcmNsZV9tYXJrZXJfM2E4ZGNkMGViYjJmNDQ5MTg0NDk1YWEzMjI1MGIzYTEgPSBMLmNpcmNsZU1hcmtlcigKICAgICAgICAgICAgICAgIFs0My43MTUzODM0LCAtNzkuNDA1Njc4NDAwMDAwMDFdLAogICAgICAgICAgICAgICAgeyJidWJibGluZ01vdXNlRXZlbnRzIjogdHJ1ZSwgImNvbG9yIjogImJsdWUiLCAiZGFzaEFycmF5IjogbnVsbCwgImRhc2hPZmZzZXQiOiBudWxsLCAiZmlsbCI6IHRydWUsICJmaWxsQ29sb3IiOiAiIzMxODZjYyIsICJmaWxsT3BhY2l0eSI6IDAuNywgImZpbGxSdWxlIjogImV2ZW5vZGQiLCAibGluZUNhcCI6ICJyb3VuZCIsICJsaW5lSm9pbiI6ICJyb3VuZCIsICJvcGFjaXR5IjogMS4wLCAicmFkaXVzIjogNSwgInN0cm9rZSI6IHRydWUsICJ3ZWlnaHQiOiAzfQogICAgICAgICAgICApLmFkZFRvKG1hcF85NDliZTdmZmMwZGE0NDYzYjBmODU0NWI1N2QzODdiMik7CiAgICAgICAgCiAgICAKICAgICAgICB2YXIgcG9wdXBfZWUzNGQ2ZjNlYmU2NDcyYzkzODVjZTg1NzcyOTUzMDcgPSBMLnBvcHVwKHsibWF4V2lkdGgiOiAiMTAwJSJ9KTsKCiAgICAgICAgCiAgICAgICAgICAgIHZhciBodG1sX2JmMzU4MDlkYWRmNzQwMmY4NDQ4OGQxZjBiOTFjZDQxID0gJChgPGRpdiBpZD0iaHRtbF9iZjM1ODA5ZGFkZjc0MDJmODQ0ODhkMWYwYjkxY2Q0MSIgc3R5bGU9IndpZHRoOiAxMDAuMCU7IGhlaWdodDogMTAwLjAlOyI+Tm9ydGggVG9yb250byBXZXN0LCBDZW50cmFsIFRvcm9udG88L2Rpdj5gKVswXTsKICAgICAgICAgICAgcG9wdXBfZWUzNGQ2ZjNlYmU2NDcyYzkzODVjZTg1NzcyOTUzMDcuc2V0Q29udGVudChodG1sX2JmMzU4MDlkYWRmNzQwMmY4NDQ4OGQxZjBiOTFjZDQxKTsKICAgICAgICAKCiAgICAgICAgY2lyY2xlX21hcmtlcl8zYThkY2QwZWJiMmY0NDkxODQ0OTVhYTMyMjUwYjNhMS5iaW5kUG9wdXAocG9wdXBfZWUzNGQ2ZjNlYmU2NDcyYzkzODVjZTg1NzcyOTUzMDcpCiAgICAgICAgOwoKICAgICAgICAKICAgIAogICAgCiAgICAgICAgICAgIHZhciBjaXJjbGVfbWFya2VyXzQzYmJkODcxNjNhNTRhMjZhMWUwZTBlMjg0ODY1YjlmID0gTC5jaXJjbGVNYXJrZXIoCiAgICAgICAgICAgICAgICBbNDMuNzA0MzI0NCwgLTc5LjM4ODc5MDFdLAogICAgICAgICAgICAgICAgeyJidWJibGluZ01vdXNlRXZlbnRzIjogdHJ1ZSwgImNvbG9yIjogImJsdWUiLCAiZGFzaEFycmF5IjogbnVsbCwgImRhc2hPZmZzZXQiOiBudWxsLCAiZmlsbCI6IHRydWUsICJmaWxsQ29sb3IiOiAiIzMxODZjYyIsICJmaWxsT3BhY2l0eSI6IDAuNywgImZpbGxSdWxlIjogImV2ZW5vZGQiLCAibGluZUNhcCI6ICJyb3VuZCIsICJsaW5lSm9pbiI6ICJyb3VuZCIsICJvcGFjaXR5IjogMS4wLCAicmFkaXVzIjogNSwgInN0cm9rZSI6IHRydWUsICJ3ZWlnaHQiOiAzfQogICAgICAgICAgICApLmFkZFRvKG1hcF85NDliZTdmZmMwZGE0NDYzYjBmODU0NWI1N2QzODdiMik7CiAgICAgICAgCiAgICAKICAgICAgICB2YXIgcG9wdXBfYjFlZjQ2MjdmMTZjNDE0ZDg4ZGIzNzkwNjE1MzBhNjMgPSBMLnBvcHVwKHsibWF4V2lkdGgiOiAiMTAwJSJ9KTsKCiAgICAgICAgCiAgICAgICAgICAgIHZhciBodG1sX2MxOTU5Nzc4NDVmMTRmZWZhOTkyMGRjNTg3MjZlMWE2ID0gJChgPGRpdiBpZD0iaHRtbF9jMTk1OTc3ODQ1ZjE0ZmVmYTk5MjBkYzU4NzI2ZTFhNiIgc3R5bGU9IndpZHRoOiAxMDAuMCU7IGhlaWdodDogMTAwLjAlOyI+RGF2aXN2aWxsZSwgQ2VudHJhbCBUb3JvbnRvPC9kaXY+YClbMF07CiAgICAgICAgICAgIHBvcHVwX2IxZWY0NjI3ZjE2YzQxNGQ4OGRiMzc5MDYxNTMwYTYzLnNldENvbnRlbnQoaHRtbF9jMTk1OTc3ODQ1ZjE0ZmVmYTk5MjBkYzU4NzI2ZTFhNik7CiAgICAgICAgCgogICAgICAgIGNpcmNsZV9tYXJrZXJfNDNiYmQ4NzE2M2E1NGEyNmExZTBlMGUyODQ4NjViOWYuYmluZFBvcHVwKHBvcHVwX2IxZWY0NjI3ZjE2YzQxNGQ4OGRiMzc5MDYxNTMwYTYzKQogICAgICAgIDsKCiAgICAgICAgCiAgICAKICAgIAogICAgICAgICAgICB2YXIgY2lyY2xlX21hcmtlcl8zZjdiYmMyZTkwMzM0YzhlYjVmZWQyNjZhMzQ3OTBkNCA9IEwuY2lyY2xlTWFya2VyKAogICAgICAgICAgICAgICAgWzQzLjY4OTU3NDMsIC03OS4zODMxNTk5MDAwMDAwMV0sCiAgICAgICAgICAgICAgICB7ImJ1YmJsaW5nTW91c2VFdmVudHMiOiB0cnVlLCAiY29sb3IiOiAiYmx1ZSIsICJkYXNoQXJyYXkiOiBudWxsLCAiZGFzaE9mZnNldCI6IG51bGwsICJmaWxsIjogdHJ1ZSwgImZpbGxDb2xvciI6ICIjMzE4NmNjIiwgImZpbGxPcGFjaXR5IjogMC43LCAiZmlsbFJ1bGUiOiAiZXZlbm9kZCIsICJsaW5lQ2FwIjogInJvdW5kIiwgImxpbmVKb2luIjogInJvdW5kIiwgIm9wYWNpdHkiOiAxLjAsICJyYWRpdXMiOiA1LCAic3Ryb2tlIjogdHJ1ZSwgIndlaWdodCI6IDN9CiAgICAgICAgICAgICkuYWRkVG8obWFwXzk0OWJlN2ZmYzBkYTQ0NjNiMGY4NTQ1YjU3ZDM4N2IyKTsKICAgICAgICAKICAgIAogICAgICAgIHZhciBwb3B1cF81NDhkYjA2ZDQzZTQ0MTYzODQ1OTFlZTdjZWJmY2EwYyA9IEwucG9wdXAoeyJtYXhXaWR0aCI6ICIxMDAlIn0pOwoKICAgICAgICAKICAgICAgICAgICAgdmFyIGh0bWxfMmRmZDJmOTljZmI5NDNmZmIyNTE3Y2I1NzJhOThmY2MgPSAkKGA8ZGl2IGlkPSJodG1sXzJkZmQyZjk5Y2ZiOTQzZmZiMjUxN2NiNTcyYTk4ZmNjIiBzdHlsZT0id2lkdGg6IDEwMC4wJTsgaGVpZ2h0OiAxMDAuMCU7Ij5TdW1tZXJoaWxsIEVhc3QsIE1vb3JlIFBhcmssIENlbnRyYWwgVG9yb250bzwvZGl2PmApWzBdOwogICAgICAgICAgICBwb3B1cF81NDhkYjA2ZDQzZTQ0MTYzODQ1OTFlZTdjZWJmY2EwYy5zZXRDb250ZW50KGh0bWxfMmRmZDJmOTljZmI5NDNmZmIyNTE3Y2I1NzJhOThmY2MpOwogICAgICAgIAoKICAgICAgICBjaXJjbGVfbWFya2VyXzNmN2JiYzJlOTAzMzRjOGViNWZlZDI2NmEzNDc5MGQ0LmJpbmRQb3B1cChwb3B1cF81NDhkYjA2ZDQzZTQ0MTYzODQ1OTFlZTdjZWJmY2EwYykKICAgICAgICA7CgogICAgICAgIAogICAgCiAgICAKICAgICAgICAgICAgdmFyIGNpcmNsZV9tYXJrZXJfMmQ3NWIwOTI3NDk2NDBmZDk3NDBlYmMyNDgwYzc1ZWUgPSBMLmNpcmNsZU1hcmtlcigKICAgICAgICAgICAgICAgIFs0My42ODY0MTIyOTk5OTk5OSwgLTc5LjQwMDA0OTNdLAogICAgICAgICAgICAgICAgeyJidWJibGluZ01vdXNlRXZlbnRzIjogdHJ1ZSwgImNvbG9yIjogImJsdWUiLCAiZGFzaEFycmF5IjogbnVsbCwgImRhc2hPZmZzZXQiOiBudWxsLCAiZmlsbCI6IHRydWUsICJmaWxsQ29sb3IiOiAiIzMxODZjYyIsICJmaWxsT3BhY2l0eSI6IDAuNywgImZpbGxSdWxlIjogImV2ZW5vZGQiLCAibGluZUNhcCI6ICJyb3VuZCIsICJsaW5lSm9pbiI6ICJyb3VuZCIsICJvcGFjaXR5IjogMS4wLCAicmFkaXVzIjogNSwgInN0cm9rZSI6IHRydWUsICJ3ZWlnaHQiOiAzfQogICAgICAgICAgICApLmFkZFRvKG1hcF85NDliZTdmZmMwZGE0NDYzYjBmODU0NWI1N2QzODdiMik7CiAgICAgICAgCiAgICAKICAgICAgICB2YXIgcG9wdXBfODQxZThlZjcyZTYyNGRlNGEyNzI1NTBkNmU2OWUwYTggPSBMLnBvcHVwKHsibWF4V2lkdGgiOiAiMTAwJSJ9KTsKCiAgICAgICAgCiAgICAgICAgICAgIHZhciBodG1sXzgwYjZjZTRmODk3YTQ1MzM4YmNmMjM3MTIwNjhiYTljID0gJChgPGRpdiBpZD0iaHRtbF84MGI2Y2U0Zjg5N2E0NTMzOGJjZjIzNzEyMDY4YmE5YyIgc3R5bGU9IndpZHRoOiAxMDAuMCU7IGhlaWdodDogMTAwLjAlOyI+Rm9yZXN0IEhpbGwgU0UsIFJhdGhuZWxseSwgU291dGggSGlsbCwgU3VtbWVyaGlsbCBXZXN0LCBEZWVyIFBhcmssIENlbnRyYWwgVG9yb250bzwvZGl2PmApWzBdOwogICAgICAgICAgICBwb3B1cF84NDFlOGVmNzJlNjI0ZGU0YTI3MjU1MGQ2ZTY5ZTBhOC5zZXRDb250ZW50KGh0bWxfODBiNmNlNGY4OTdhNDUzMzhiY2YyMzcxMjA2OGJhOWMpOwogICAgICAgIAoKICAgICAgICBjaXJjbGVfbWFya2VyXzJkNzViMDkyNzQ5NjQwZmQ5NzQwZWJjMjQ4MGM3NWVlLmJpbmRQb3B1cChwb3B1cF84NDFlOGVmNzJlNjI0ZGU0YTI3MjU1MGQ2ZTY5ZTBhOCkKICAgICAgICA7CgogICAgICAgIAogICAgCiAgICAKICAgICAgICAgICAgdmFyIGNpcmNsZV9tYXJrZXJfODY0NGFiMTg2YjA2NGEwMWE3Njc5NDViYjdmZDViMzggPSBMLmNpcmNsZU1hcmtlcigKICAgICAgICAgICAgICAgIFs0My42Nzk1NjI2LCAtNzkuMzc3NTI5NDAwMDAwMDFdLAogICAgICAgICAgICAgICAgeyJidWJibGluZ01vdXNlRXZlbnRzIjogdHJ1ZSwgImNvbG9yIjogImJsdWUiLCAiZGFzaEFycmF5IjogbnVsbCwgImRhc2hPZmZzZXQiOiBudWxsLCAiZmlsbCI6IHRydWUsICJmaWxsQ29sb3IiOiAiIzMxODZjYyIsICJmaWxsT3BhY2l0eSI6IDAuNywgImZpbGxSdWxlIjogImV2ZW5vZGQiLCAibGluZUNhcCI6ICJyb3VuZCIsICJsaW5lSm9pbiI6ICJyb3VuZCIsICJvcGFjaXR5IjogMS4wLCAicmFkaXVzIjogNSwgInN0cm9rZSI6IHRydWUsICJ3ZWlnaHQiOiAzfQogICAgICAgICAgICApLmFkZFRvKG1hcF85NDliZTdmZmMwZGE0NDYzYjBmODU0NWI1N2QzODdiMik7CiAgICAgICAgCiAgICAKICAgICAgICB2YXIgcG9wdXBfNTY1ZDFiM2I2ZDM2NDA3NTllMDYyODVkY2M4YmRiYTAgPSBMLnBvcHVwKHsibWF4V2lkdGgiOiAiMTAwJSJ9KTsKCiAgICAgICAgCiAgICAgICAgICAgIHZhciBodG1sX2FkN2EzZDA0OTViNTRlYjdhNjQ1MzcwOTlhMjgwMTYzID0gJChgPGRpdiBpZD0iaHRtbF9hZDdhM2QwNDk1YjU0ZWI3YTY0NTM3MDk5YTI4MDE2MyIgc3R5bGU9IndpZHRoOiAxMDAuMCU7IGhlaWdodDogMTAwLjAlOyI+Um9zZWRhbGUsIERvd250b3duIFRvcm9udG88L2Rpdj5gKVswXTsKICAgICAgICAgICAgcG9wdXBfNTY1ZDFiM2I2ZDM2NDA3NTllMDYyODVkY2M4YmRiYTAuc2V0Q29udGVudChodG1sX2FkN2EzZDA0OTViNTRlYjdhNjQ1MzcwOTlhMjgwMTYzKTsKICAgICAgICAKCiAgICAgICAgY2lyY2xlX21hcmtlcl84NjQ0YWIxODZiMDY0YTAxYTc2Nzk0NWJiN2ZkNWIzOC5iaW5kUG9wdXAocG9wdXBfNTY1ZDFiM2I2ZDM2NDA3NTllMDYyODVkY2M4YmRiYTApCiAgICAgICAgOwoKICAgICAgICAKICAgIAogICAgCiAgICAgICAgICAgIHZhciBjaXJjbGVfbWFya2VyXzhhODVjMGJiNzZjYjRlNmFhYTI1YjczOGVkNDNkOGMzID0gTC5jaXJjbGVNYXJrZXIoCiAgICAgICAgICAgICAgICBbNDMuNjY3OTY3LCAtNzkuMzY3Njc1M10sCiAgICAgICAgICAgICAgICB7ImJ1YmJsaW5nTW91c2VFdmVudHMiOiB0cnVlLCAiY29sb3IiOiAiYmx1ZSIsICJkYXNoQXJyYXkiOiBudWxsLCAiZGFzaE9mZnNldCI6IG51bGwsICJmaWxsIjogdHJ1ZSwgImZpbGxDb2xvciI6ICIjMzE4NmNjIiwgImZpbGxPcGFjaXR5IjogMC43LCAiZmlsbFJ1bGUiOiAiZXZlbm9kZCIsICJsaW5lQ2FwIjogInJvdW5kIiwgImxpbmVKb2luIjogInJvdW5kIiwgIm9wYWNpdHkiOiAxLjAsICJyYWRpdXMiOiA1LCAic3Ryb2tlIjogdHJ1ZSwgIndlaWdodCI6IDN9CiAgICAgICAgICAgICkuYWRkVG8obWFwXzk0OWJlN2ZmYzBkYTQ0NjNiMGY4NTQ1YjU3ZDM4N2IyKTsKICAgICAgICAKICAgIAogICAgICAgIHZhciBwb3B1cF8zMzNlMDQyN2MzMzQ0NzA4YmFlMmM1YTdkODEzZDEzNiA9IEwucG9wdXAoeyJtYXhXaWR0aCI6ICIxMDAlIn0pOwoKICAgICAgICAKICAgICAgICAgICAgdmFyIGh0bWxfNmJhMmE2YzkxZGM1NDA2NjkzOTZhOWQ1M2RmMDVlZmIgPSAkKGA8ZGl2IGlkPSJodG1sXzZiYTJhNmM5MWRjNTQwNjY5Mzk2YTlkNTNkZjA1ZWZiIiBzdHlsZT0id2lkdGg6IDEwMC4wJTsgaGVpZ2h0OiAxMDAuMCU7Ij5TdC4gSmFtZXMgVG93biwgQ2FiYmFnZXRvd24sIERvd250b3duIFRvcm9udG88L2Rpdj5gKVswXTsKICAgICAgICAgICAgcG9wdXBfMzMzZTA0MjdjMzM0NDcwOGJhZTJjNWE3ZDgxM2QxMzYuc2V0Q29udGVudChodG1sXzZiYTJhNmM5MWRjNTQwNjY5Mzk2YTlkNTNkZjA1ZWZiKTsKICAgICAgICAKCiAgICAgICAgY2lyY2xlX21hcmtlcl84YTg1YzBiYjc2Y2I0ZTZhYWEyNWI3MzhlZDQzZDhjMy5iaW5kUG9wdXAocG9wdXBfMzMzZTA0MjdjMzM0NDcwOGJhZTJjNWE3ZDgxM2QxMzYpCiAgICAgICAgOwoKICAgICAgICAKICAgIAogICAgCiAgICAgICAgICAgIHZhciBjaXJjbGVfbWFya2VyXzBmN2M5NTAzODFlYTRhODU5MTI1ODc0ZjY5OTk2MTIwID0gTC5jaXJjbGVNYXJrZXIoCiAgICAgICAgICAgICAgICBbNDMuNjY1ODU5OSwgLTc5LjM4MzE1OTkwMDAwMDAxXSwKICAgICAgICAgICAgICAgIHsiYnViYmxpbmdNb3VzZUV2ZW50cyI6IHRydWUsICJjb2xvciI6ICJibHVlIiwgImRhc2hBcnJheSI6IG51bGwsICJkYXNoT2Zmc2V0IjogbnVsbCwgImZpbGwiOiB0cnVlLCAiZmlsbENvbG9yIjogIiMzMTg2Y2MiLCAiZmlsbE9wYWNpdHkiOiAwLjcsICJmaWxsUnVsZSI6ICJldmVub2RkIiwgImxpbmVDYXAiOiAicm91bmQiLCAibGluZUpvaW4iOiAicm91bmQiLCAib3BhY2l0eSI6IDEuMCwgInJhZGl1cyI6IDUsICJzdHJva2UiOiB0cnVlLCAid2VpZ2h0IjogM30KICAgICAgICAgICAgKS5hZGRUbyhtYXBfOTQ5YmU3ZmZjMGRhNDQ2M2IwZjg1NDViNTdkMzg3YjIpOwogICAgICAgIAogICAgCiAgICAgICAgdmFyIHBvcHVwXzc2YWE1NGFhZmNhZTQ4ZTI4Mzk2NGQwMGE5MzM0OWU3ID0gTC5wb3B1cCh7Im1heFdpZHRoIjogIjEwMCUifSk7CgogICAgICAgIAogICAgICAgICAgICB2YXIgaHRtbF8zNGI1NzEyNWQ5ZWU0NDM2ODE1YjgzMWVhMDNiZTQzNSA9ICQoYDxkaXYgaWQ9Imh0bWxfMzRiNTcxMjVkOWVlNDQzNjgxNWI4MzFlYTAzYmU0MzUiIHN0eWxlPSJ3aWR0aDogMTAwLjAlOyBoZWlnaHQ6IDEwMC4wJTsiPkNodXJjaCBhbmQgV2VsbGVzbGV5LCBEb3dudG93biBUb3JvbnRvPC9kaXY+YClbMF07CiAgICAgICAgICAgIHBvcHVwXzc2YWE1NGFhZmNhZTQ4ZTI4Mzk2NGQwMGE5MzM0OWU3LnNldENvbnRlbnQoaHRtbF8zNGI1NzEyNWQ5ZWU0NDM2ODE1YjgzMWVhMDNiZTQzNSk7CiAgICAgICAgCgogICAgICAgIGNpcmNsZV9tYXJrZXJfMGY3Yzk1MDM4MWVhNGE4NTkxMjU4NzRmNjk5OTYxMjAuYmluZFBvcHVwKHBvcHVwXzc2YWE1NGFhZmNhZTQ4ZTI4Mzk2NGQwMGE5MzM0OWU3KQogICAgICAgIDsKCiAgICAgICAgCiAgICAKICAgIAogICAgICAgICAgICB2YXIgY2lyY2xlX21hcmtlcl9iMDhmMzc5YzE5OWM0ZmNhYmFmOTE4OTZiZTM3ZmNhZCA9IEwuY2lyY2xlTWFya2VyKAogICAgICAgICAgICAgICAgWzQzLjY1NDI1OTksIC03OS4zNjA2MzU5XSwKICAgICAgICAgICAgICAgIHsiYnViYmxpbmdNb3VzZUV2ZW50cyI6IHRydWUsICJjb2xvciI6ICJibHVlIiwgImRhc2hBcnJheSI6IG51bGwsICJkYXNoT2Zmc2V0IjogbnVsbCwgImZpbGwiOiB0cnVlLCAiZmlsbENvbG9yIjogIiMzMTg2Y2MiLCAiZmlsbE9wYWNpdHkiOiAwLjcsICJmaWxsUnVsZSI6ICJldmVub2RkIiwgImxpbmVDYXAiOiAicm91bmQiLCAibGluZUpvaW4iOiAicm91bmQiLCAib3BhY2l0eSI6IDEuMCwgInJhZGl1cyI6IDUsICJzdHJva2UiOiB0cnVlLCAid2VpZ2h0IjogM30KICAgICAgICAgICAgKS5hZGRUbyhtYXBfOTQ5YmU3ZmZjMGRhNDQ2M2IwZjg1NDViNTdkMzg3YjIpOwogICAgICAgIAogICAgCiAgICAgICAgdmFyIHBvcHVwXzFjNGFkNjZlMDQyNTQ2MGQ5ZDE5NTVhYzUzMWVlM2IyID0gTC5wb3B1cCh7Im1heFdpZHRoIjogIjEwMCUifSk7CgogICAgICAgIAogICAgICAgICAgICB2YXIgaHRtbF83MGZhNzFlNjc1MTU0MjhkOGE1YWEyNzZiNjJkYTZiNSA9ICQoYDxkaXYgaWQ9Imh0bWxfNzBmYTcxZTY3NTE1NDI4ZDhhNWFhMjc2YjYyZGE2YjUiIHN0eWxlPSJ3aWR0aDogMTAwLjAlOyBoZWlnaHQ6IDEwMC4wJTsiPkhhcmJvdXJmcm9udCwgUmVnZW50IFBhcmssIERvd250b3duIFRvcm9udG88L2Rpdj5gKVswXTsKICAgICAgICAgICAgcG9wdXBfMWM0YWQ2NmUwNDI1NDYwZDlkMTk1NWFjNTMxZWUzYjIuc2V0Q29udGVudChodG1sXzcwZmE3MWU2NzUxNTQyOGQ4YTVhYTI3NmI2MmRhNmI1KTsKICAgICAgICAKCiAgICAgICAgY2lyY2xlX21hcmtlcl9iMDhmMzc5YzE5OWM0ZmNhYmFmOTE4OTZiZTM3ZmNhZC5iaW5kUG9wdXAocG9wdXBfMWM0YWQ2NmUwNDI1NDYwZDlkMTk1NWFjNTMxZWUzYjIpCiAgICAgICAgOwoKICAgICAgICAKICAgIAogICAgCiAgICAgICAgICAgIHZhciBjaXJjbGVfbWFya2VyX2E2ZTY0NWYzOTUxNzQ1YzBhZjg2NTNmNjY5MzAwOTkyID0gTC5jaXJjbGVNYXJrZXIoCiAgICAgICAgICAgICAgICBbNDMuNjU3MTYxOCwgLTc5LjM3ODkzNzA5OTk5OTk5XSwKICAgICAgICAgICAgICAgIHsiYnViYmxpbmdNb3VzZUV2ZW50cyI6IHRydWUsICJjb2xvciI6ICJibHVlIiwgImRhc2hBcnJheSI6IG51bGwsICJkYXNoT2Zmc2V0IjogbnVsbCwgImZpbGwiOiB0cnVlLCAiZmlsbENvbG9yIjogIiMzMTg2Y2MiLCAiZmlsbE9wYWNpdHkiOiAwLjcsICJmaWxsUnVsZSI6ICJldmVub2RkIiwgImxpbmVDYXAiOiAicm91bmQiLCAibGluZUpvaW4iOiAicm91bmQiLCAib3BhY2l0eSI6IDEuMCwgInJhZGl1cyI6IDUsICJzdHJva2UiOiB0cnVlLCAid2VpZ2h0IjogM30KICAgICAgICAgICAgKS5hZGRUbyhtYXBfOTQ5YmU3ZmZjMGRhNDQ2M2IwZjg1NDViNTdkMzg3YjIpOwogICAgICAgIAogICAgCiAgICAgICAgdmFyIHBvcHVwXzZjNjIxNTIwZWQ2NjQzMzA5MTgwMTY5YWJiYTVjMjBhID0gTC5wb3B1cCh7Im1heFdpZHRoIjogIjEwMCUifSk7CgogICAgICAgIAogICAgICAgICAgICB2YXIgaHRtbF9iZGM1NWM2ODdmN2M0YTI2OGViNWEyNzZjOTNiNzNjYSA9ICQoYDxkaXYgaWQ9Imh0bWxfYmRjNTVjNjg3ZjdjNGEyNjhlYjVhMjc2YzkzYjczY2EiIHN0eWxlPSJ3aWR0aDogMTAwLjAlOyBoZWlnaHQ6IDEwMC4wJTsiPkdhcmRlbiBEaXN0cmljdCwgUnllcnNvbiwgRG93bnRvd24gVG9yb250bzwvZGl2PmApWzBdOwogICAgICAgICAgICBwb3B1cF82YzYyMTUyMGVkNjY0MzMwOTE4MDE2OWFiYmE1YzIwYS5zZXRDb250ZW50KGh0bWxfYmRjNTVjNjg3ZjdjNGEyNjhlYjVhMjc2YzkzYjczY2EpOwogICAgICAgIAoKICAgICAgICBjaXJjbGVfbWFya2VyX2E2ZTY0NWYzOTUxNzQ1YzBhZjg2NTNmNjY5MzAwOTkyLmJpbmRQb3B1cChwb3B1cF82YzYyMTUyMGVkNjY0MzMwOTE4MDE2OWFiYmE1YzIwYSkKICAgICAgICA7CgogICAgICAgIAogICAgCiAgICAKICAgICAgICAgICAgdmFyIGNpcmNsZV9tYXJrZXJfMjk5OWNiYWJjZGNkNGM0ZmIwZjBhYjBhZjI2Y2M5M2IgPSBMLmNpcmNsZU1hcmtlcigKICAgICAgICAgICAgICAgIFs0My42NTE0OTM5LCAtNzkuMzc1NDE3OV0sCiAgICAgICAgICAgICAgICB7ImJ1YmJsaW5nTW91c2VFdmVudHMiOiB0cnVlLCAiY29sb3IiOiAiYmx1ZSIsICJkYXNoQXJyYXkiOiBudWxsLCAiZGFzaE9mZnNldCI6IG51bGwsICJmaWxsIjogdHJ1ZSwgImZpbGxDb2xvciI6ICIjMzE4NmNjIiwgImZpbGxPcGFjaXR5IjogMC43LCAiZmlsbFJ1bGUiOiAiZXZlbm9kZCIsICJsaW5lQ2FwIjogInJvdW5kIiwgImxpbmVKb2luIjogInJvdW5kIiwgIm9wYWNpdHkiOiAxLjAsICJyYWRpdXMiOiA1LCAic3Ryb2tlIjogdHJ1ZSwgIndlaWdodCI6IDN9CiAgICAgICAgICAgICkuYWRkVG8obWFwXzk0OWJlN2ZmYzBkYTQ0NjNiMGY4NTQ1YjU3ZDM4N2IyKTsKICAgICAgICAKICAgIAogICAgICAgIHZhciBwb3B1cF9hNzc2Yzk1ODM3N2U0NTc0YTViZDQwNzc2ZWNjZmVhYSA9IEwucG9wdXAoeyJtYXhXaWR0aCI6ICIxMDAlIn0pOwoKICAgICAgICAKICAgICAgICAgICAgdmFyIGh0bWxfZWJiYTk0MWI3YTdiNDk0N2I2MmFiNzBhOWFmOWJiNTYgPSAkKGA8ZGl2IGlkPSJodG1sX2ViYmE5NDFiN2E3YjQ5NDdiNjJhYjcwYTlhZjliYjU2IiBzdHlsZT0id2lkdGg6IDEwMC4wJTsgaGVpZ2h0OiAxMDAuMCU7Ij5TdC4gSmFtZXMgVG93biwgRG93bnRvd24gVG9yb250bzwvZGl2PmApWzBdOwogICAgICAgICAgICBwb3B1cF9hNzc2Yzk1ODM3N2U0NTc0YTViZDQwNzc2ZWNjZmVhYS5zZXRDb250ZW50KGh0bWxfZWJiYTk0MWI3YTdiNDk0N2I2MmFiNzBhOWFmOWJiNTYpOwogICAgICAgIAoKICAgICAgICBjaXJjbGVfbWFya2VyXzI5OTljYmFiY2RjZDRjNGZiMGYwYWIwYWYyNmNjOTNiLmJpbmRQb3B1cChwb3B1cF9hNzc2Yzk1ODM3N2U0NTc0YTViZDQwNzc2ZWNjZmVhYSkKICAgICAgICA7CgogICAgICAgIAogICAgCiAgICAKICAgICAgICAgICAgdmFyIGNpcmNsZV9tYXJrZXJfMGQxYTI2ODlmZWZiNDQ0M2JmYTIzMWY3ZjA5MGNhNGYgPSBMLmNpcmNsZU1hcmtlcigKICAgICAgICAgICAgICAgIFs0My42NDQ3NzA3OTk5OTk5OTYsIC03OS4zNzMzMDY0XSwKICAgICAgICAgICAgICAgIHsiYnViYmxpbmdNb3VzZUV2ZW50cyI6IHRydWUsICJjb2xvciI6ICJibHVlIiwgImRhc2hBcnJheSI6IG51bGwsICJkYXNoT2Zmc2V0IjogbnVsbCwgImZpbGwiOiB0cnVlLCAiZmlsbENvbG9yIjogIiMzMTg2Y2MiLCAiZmlsbE9wYWNpdHkiOiAwLjcsICJmaWxsUnVsZSI6ICJldmVub2RkIiwgImxpbmVDYXAiOiAicm91bmQiLCAibGluZUpvaW4iOiAicm91bmQiLCAib3BhY2l0eSI6IDEuMCwgInJhZGl1cyI6IDUsICJzdHJva2UiOiB0cnVlLCAid2VpZ2h0IjogM30KICAgICAgICAgICAgKS5hZGRUbyhtYXBfOTQ5YmU3ZmZjMGRhNDQ2M2IwZjg1NDViNTdkMzg3YjIpOwogICAgICAgIAogICAgCiAgICAgICAgdmFyIHBvcHVwXzE3NDIxYWFlODRmYjQxYjQ5NDcxZjFmYzk0ZDliYzJhID0gTC5wb3B1cCh7Im1heFdpZHRoIjogIjEwMCUifSk7CgogICAgICAgIAogICAgICAgICAgICB2YXIgaHRtbF9kNGVjYjc3YzhlNDQ0ZTZhYjkwYzZkMDQwOTIxMjY5MCA9ICQoYDxkaXYgaWQ9Imh0bWxfZDRlY2I3N2M4ZTQ0NGU2YWI5MGM2ZDA0MDkyMTI2OTAiIHN0eWxlPSJ3aWR0aDogMTAwLjAlOyBoZWlnaHQ6IDEwMC4wJTsiPkJlcmN6eSBQYXJrLCBEb3dudG93biBUb3JvbnRvPC9kaXY+YClbMF07CiAgICAgICAgICAgIHBvcHVwXzE3NDIxYWFlODRmYjQxYjQ5NDcxZjFmYzk0ZDliYzJhLnNldENvbnRlbnQoaHRtbF9kNGVjYjc3YzhlNDQ0ZTZhYjkwYzZkMDQwOTIxMjY5MCk7CiAgICAgICAgCgogICAgICAgIGNpcmNsZV9tYXJrZXJfMGQxYTI2ODlmZWZiNDQ0M2JmYTIzMWY3ZjA5MGNhNGYuYmluZFBvcHVwKHBvcHVwXzE3NDIxYWFlODRmYjQxYjQ5NDcxZjFmYzk0ZDliYzJhKQogICAgICAgIDsKCiAgICAgICAgCiAgICAKICAgIAogICAgICAgICAgICB2YXIgY2lyY2xlX21hcmtlcl81ZGIzMTAwZDYwZmQ0MzE5YjEzYWFhNjkzOGQ0MjRmZSA9IEwuY2lyY2xlTWFya2VyKAogICAgICAgICAgICAgICAgWzQzLjY1Nzk1MjQsIC03OS4zODczODI2XSwKICAgICAgICAgICAgICAgIHsiYnViYmxpbmdNb3VzZUV2ZW50cyI6IHRydWUsICJjb2xvciI6ICJibHVlIiwgImRhc2hBcnJheSI6IG51bGwsICJkYXNoT2Zmc2V0IjogbnVsbCwgImZpbGwiOiB0cnVlLCAiZmlsbENvbG9yIjogIiMzMTg2Y2MiLCAiZmlsbE9wYWNpdHkiOiAwLjcsICJmaWxsUnVsZSI6ICJldmVub2RkIiwgImxpbmVDYXAiOiAicm91bmQiLCAibGluZUpvaW4iOiAicm91bmQiLCAib3BhY2l0eSI6IDEuMCwgInJhZGl1cyI6IDUsICJzdHJva2UiOiB0cnVlLCAid2VpZ2h0IjogM30KICAgICAgICAgICAgKS5hZGRUbyhtYXBfOTQ5YmU3ZmZjMGRhNDQ2M2IwZjg1NDViNTdkMzg3YjIpOwogICAgICAgIAogICAgCiAgICAgICAgdmFyIHBvcHVwXzhiNTE0ZjMwMWRiODQ0ODJhMTc3ZWI5Y2MyOTJjYjY3ID0gTC5wb3B1cCh7Im1heFdpZHRoIjogIjEwMCUifSk7CgogICAgICAgIAogICAgICAgICAgICB2YXIgaHRtbF9jNmQ0MmU0M2YyMDk0YzU5YmZkNDEyZTdhZWIyN2M3NCA9ICQoYDxkaXYgaWQ9Imh0bWxfYzZkNDJlNDNmMjA5NGM1OWJmZDQxMmU3YWViMjdjNzQiIHN0eWxlPSJ3aWR0aDogMTAwLjAlOyBoZWlnaHQ6IDEwMC4wJTsiPkNlbnRyYWwgQmF5IFN0cmVldCwgRG93bnRvd24gVG9yb250bzwvZGl2PmApWzBdOwogICAgICAgICAgICBwb3B1cF84YjUxNGYzMDFkYjg0NDgyYTE3N2ViOWNjMjkyY2I2Ny5zZXRDb250ZW50KGh0bWxfYzZkNDJlNDNmMjA5NGM1OWJmZDQxMmU3YWViMjdjNzQpOwogICAgICAgIAoKICAgICAgICBjaXJjbGVfbWFya2VyXzVkYjMxMDBkNjBmZDQzMTliMTNhYWE2OTM4ZDQyNGZlLmJpbmRQb3B1cChwb3B1cF84YjUxNGYzMDFkYjg0NDgyYTE3N2ViOWNjMjkyY2I2NykKICAgICAgICA7CgogICAgICAgIAogICAgCiAgICAKICAgICAgICAgICAgdmFyIGNpcmNsZV9tYXJrZXJfZTI2NDM4ZmJiODc2NDY0NzlkY2VlZjdjOWUxYTU5NzggPSBMLmNpcmNsZU1hcmtlcigKICAgICAgICAgICAgICAgIFs0My42NTA1NzEyMDAwMDAwMSwgLTc5LjM4NDU2NzVdLAogICAgICAgICAgICAgICAgeyJidWJibGluZ01vdXNlRXZlbnRzIjogdHJ1ZSwgImNvbG9yIjogImJsdWUiLCAiZGFzaEFycmF5IjogbnVsbCwgImRhc2hPZmZzZXQiOiBudWxsLCAiZmlsbCI6IHRydWUsICJmaWxsQ29sb3IiOiAiIzMxODZjYyIsICJmaWxsT3BhY2l0eSI6IDAuNywgImZpbGxSdWxlIjogImV2ZW5vZGQiLCAibGluZUNhcCI6ICJyb3VuZCIsICJsaW5lSm9pbiI6ICJyb3VuZCIsICJvcGFjaXR5IjogMS4wLCAicmFkaXVzIjogNSwgInN0cm9rZSI6IHRydWUsICJ3ZWlnaHQiOiAzfQogICAgICAgICAgICApLmFkZFRvKG1hcF85NDliZTdmZmMwZGE0NDYzYjBmODU0NWI1N2QzODdiMik7CiAgICAgICAgCiAgICAKICAgICAgICB2YXIgcG9wdXBfOWI0M2FiYTI0OWMzNDYxM2JhYjUzZTgxMGQ5YTY0YjQgPSBMLnBvcHVwKHsibWF4V2lkdGgiOiAiMTAwJSJ9KTsKCiAgICAgICAgCiAgICAgICAgICAgIHZhciBodG1sXzE0NjkzOWQwNGQ1YjQ0OGQ4ODQyOGNkOWUxZTRlNDY0ID0gJChgPGRpdiBpZD0iaHRtbF8xNDY5MzlkMDRkNWI0NDhkODg0MjhjZDllMWU0ZTQ2NCIgc3R5bGU9IndpZHRoOiAxMDAuMCU7IGhlaWdodDogMTAwLjAlOyI+QWRlbGFpZGUsIFJpY2htb25kLCBLaW5nLCBEb3dudG93biBUb3JvbnRvPC9kaXY+YClbMF07CiAgICAgICAgICAgIHBvcHVwXzliNDNhYmEyNDljMzQ2MTNiYWI1M2U4MTBkOWE2NGI0LnNldENvbnRlbnQoaHRtbF8xNDY5MzlkMDRkNWI0NDhkODg0MjhjZDllMWU0ZTQ2NCk7CiAgICAgICAgCgogICAgICAgIGNpcmNsZV9tYXJrZXJfZTI2NDM4ZmJiODc2NDY0NzlkY2VlZjdjOWUxYTU5NzguYmluZFBvcHVwKHBvcHVwXzliNDNhYmEyNDljMzQ2MTNiYWI1M2U4MTBkOWE2NGI0KQogICAgICAgIDsKCiAgICAgICAgCiAgICAKICAgIAogICAgICAgICAgICB2YXIgY2lyY2xlX21hcmtlcl80MjQ3ZmEwZTdmZTI0ZTAyYjkyMzRhMGU1MjNiMzEzMCA9IEwuY2lyY2xlTWFya2VyKAogICAgICAgICAgICAgICAgWzQzLjY0MDgxNTcsIC03OS4zODE3NTIyOTk5OTk5OV0sCiAgICAgICAgICAgICAgICB7ImJ1YmJsaW5nTW91c2VFdmVudHMiOiB0cnVlLCAiY29sb3IiOiAiYmx1ZSIsICJkYXNoQXJyYXkiOiBudWxsLCAiZGFzaE9mZnNldCI6IG51bGwsICJmaWxsIjogdHJ1ZSwgImZpbGxDb2xvciI6ICIjMzE4NmNjIiwgImZpbGxPcGFjaXR5IjogMC43LCAiZmlsbFJ1bGUiOiAiZXZlbm9kZCIsICJsaW5lQ2FwIjogInJvdW5kIiwgImxpbmVKb2luIjogInJvdW5kIiwgIm9wYWNpdHkiOiAxLjAsICJyYWRpdXMiOiA1LCAic3Ryb2tlIjogdHJ1ZSwgIndlaWdodCI6IDN9CiAgICAgICAgICAgICkuYWRkVG8obWFwXzk0OWJlN2ZmYzBkYTQ0NjNiMGY4NTQ1YjU3ZDM4N2IyKTsKICAgICAgICAKICAgIAogICAgICAgIHZhciBwb3B1cF85MDI2OTU5ZGQ2ZWQ0YmFkODNkMDJhZGMwNzgzNzRiMCA9IEwucG9wdXAoeyJtYXhXaWR0aCI6ICIxMDAlIn0pOwoKICAgICAgICAKICAgICAgICAgICAgdmFyIGh0bWxfOTNkOGViODI0NGM3NDRkY2I4YzM5YjcxMzdiMmY5NDYgPSAkKGA8ZGl2IGlkPSJodG1sXzkzZDhlYjgyNDRjNzQ0ZGNiOGMzOWI3MTM3YjJmOTQ2IiBzdHlsZT0id2lkdGg6IDEwMC4wJTsgaGVpZ2h0OiAxMDAuMCU7Ij5IYXJib3VyZnJvbnQgRWFzdCwgVW5pb24gU3RhdGlvbiwgVG9yb250byBJc2xhbmRzLCBEb3dudG93biBUb3JvbnRvPC9kaXY+YClbMF07CiAgICAgICAgICAgIHBvcHVwXzkwMjY5NTlkZDZlZDRiYWQ4M2QwMmFkYzA3ODM3NGIwLnNldENvbnRlbnQoaHRtbF85M2Q4ZWI4MjQ0Yzc0NGRjYjhjMzliNzEzN2IyZjk0Nik7CiAgICAgICAgCgogICAgICAgIGNpcmNsZV9tYXJrZXJfNDI0N2ZhMGU3ZmUyNGUwMmI5MjM0YTBlNTIzYjMxMzAuYmluZFBvcHVwKHBvcHVwXzkwMjY5NTlkZDZlZDRiYWQ4M2QwMmFkYzA3ODM3NGIwKQogICAgICAgIDsKCiAgICAgICAgCiAgICAKICAgIAogICAgICAgICAgICB2YXIgY2lyY2xlX21hcmtlcl85NjEyZjFlYzc5ZmQ0NGUxYWI4MDg5ZmIzNWIzNWM5OCA9IEwuY2lyY2xlTWFya2VyKAogICAgICAgICAgICAgICAgWzQzLjY0NzE3NjgsIC03OS4zODE1NzY0MDAwMDAwMV0sCiAgICAgICAgICAgICAgICB7ImJ1YmJsaW5nTW91c2VFdmVudHMiOiB0cnVlLCAiY29sb3IiOiAiYmx1ZSIsICJkYXNoQXJyYXkiOiBudWxsLCAiZGFzaE9mZnNldCI6IG51bGwsICJmaWxsIjogdHJ1ZSwgImZpbGxDb2xvciI6ICIjMzE4NmNjIiwgImZpbGxPcGFjaXR5IjogMC43LCAiZmlsbFJ1bGUiOiAiZXZlbm9kZCIsICJsaW5lQ2FwIjogInJvdW5kIiwgImxpbmVKb2luIjogInJvdW5kIiwgIm9wYWNpdHkiOiAxLjAsICJyYWRpdXMiOiA1LCAic3Ryb2tlIjogdHJ1ZSwgIndlaWdodCI6IDN9CiAgICAgICAgICAgICkuYWRkVG8obWFwXzk0OWJlN2ZmYzBkYTQ0NjNiMGY4NTQ1YjU3ZDM4N2IyKTsKICAgICAgICAKICAgIAogICAgICAgIHZhciBwb3B1cF83NzYwODA0NjIwNzA0OTRmYTg1ZDIwMDUwMmY1ODRjMCA9IEwucG9wdXAoeyJtYXhXaWR0aCI6ICIxMDAlIn0pOwoKICAgICAgICAKICAgICAgICAgICAgdmFyIGh0bWxfYjFkMThkY2QyN2Q0NGI5MDgwNjI2MDE1OGUxNWM0NTAgPSAkKGA8ZGl2IGlkPSJodG1sX2IxZDE4ZGNkMjdkNDRiOTA4MDYyNjAxNThlMTVjNDUwIiBzdHlsZT0id2lkdGg6IDEwMC4wJTsgaGVpZ2h0OiAxMDAuMCU7Ij5Ub3JvbnRvIERvbWluaW9uIENlbnRyZSwgRGVzaWduIEV4Y2hhbmdlLCBEb3dudG93biBUb3JvbnRvPC9kaXY+YClbMF07CiAgICAgICAgICAgIHBvcHVwXzc3NjA4MDQ2MjA3MDQ5NGZhODVkMjAwNTAyZjU4NGMwLnNldENvbnRlbnQoaHRtbF9iMWQxOGRjZDI3ZDQ0YjkwODA2MjYwMTU4ZTE1YzQ1MCk7CiAgICAgICAgCgogICAgICAgIGNpcmNsZV9tYXJrZXJfOTYxMmYxZWM3OWZkNDRlMWFiODA4OWZiMzViMzVjOTguYmluZFBvcHVwKHBvcHVwXzc3NjA4MDQ2MjA3MDQ5NGZhODVkMjAwNTAyZjU4NGMwKQogICAgICAgIDsKCiAgICAgICAgCiAgICAKICAgIAogICAgICAgICAgICB2YXIgY2lyY2xlX21hcmtlcl81MWM3OTFiNTJiYmQ0NWRmYTA4NmNjOTc2MGQ4NDU2NSA9IEwuY2lyY2xlTWFya2VyKAogICAgICAgICAgICAgICAgWzQzLjY0ODE5ODUsIC03OS4zNzk4MTY5MDAwMDAwMV0sCiAgICAgICAgICAgICAgICB7ImJ1YmJsaW5nTW91c2VFdmVudHMiOiB0cnVlLCAiY29sb3IiOiAiYmx1ZSIsICJkYXNoQXJyYXkiOiBudWxsLCAiZGFzaE9mZnNldCI6IG51bGwsICJmaWxsIjogdHJ1ZSwgImZpbGxDb2xvciI6ICIjMzE4NmNjIiwgImZpbGxPcGFjaXR5IjogMC43LCAiZmlsbFJ1bGUiOiAiZXZlbm9kZCIsICJsaW5lQ2FwIjogInJvdW5kIiwgImxpbmVKb2luIjogInJvdW5kIiwgIm9wYWNpdHkiOiAxLjAsICJyYWRpdXMiOiA1LCAic3Ryb2tlIjogdHJ1ZSwgIndlaWdodCI6IDN9CiAgICAgICAgICAgICkuYWRkVG8obWFwXzk0OWJlN2ZmYzBkYTQ0NjNiMGY4NTQ1YjU3ZDM4N2IyKTsKICAgICAgICAKICAgIAogICAgICAgIHZhciBwb3B1cF85MGYwYzljYzc1ZDU0NjI4YWIyNmU5OGUwNGZlNDQwMCA9IEwucG9wdXAoeyJtYXhXaWR0aCI6ICIxMDAlIn0pOwoKICAgICAgICAKICAgICAgICAgICAgdmFyIGh0bWxfMjdjZmM2MjE0ZjdmNGFhMTg0MzFkZTczMWU2YmZlZWIgPSAkKGA8ZGl2IGlkPSJodG1sXzI3Y2ZjNjIxNGY3ZjRhYTE4NDMxZGU3MzFlNmJmZWViIiBzdHlsZT0id2lkdGg6IDEwMC4wJTsgaGVpZ2h0OiAxMDAuMCU7Ij5WaWN0b3JpYSBIb3RlbCwgQ29tbWVyY2UgQ291cnQsIERvd250b3duIFRvcm9udG88L2Rpdj5gKVswXTsKICAgICAgICAgICAgcG9wdXBfOTBmMGM5Y2M3NWQ1NDYyOGFiMjZlOThlMDRmZTQ0MDAuc2V0Q29udGVudChodG1sXzI3Y2ZjNjIxNGY3ZjRhYTE4NDMxZGU3MzFlNmJmZWViKTsKICAgICAgICAKCiAgICAgICAgY2lyY2xlX21hcmtlcl81MWM3OTFiNTJiYmQ0NWRmYTA4NmNjOTc2MGQ4NDU2NS5iaW5kUG9wdXAocG9wdXBfOTBmMGM5Y2M3NWQ1NDYyOGFiMjZlOThlMDRmZTQ0MDApCiAgICAgICAgOwoKICAgICAgICAKICAgIAogICAgCiAgICAgICAgICAgIHZhciBjaXJjbGVfbWFya2VyXzFhMzc0YjcxNTM1NDQyNmY4YzJmNmU0M2VmOTQ4NTk4ID0gTC5jaXJjbGVNYXJrZXIoCiAgICAgICAgICAgICAgICBbNDMuNzExNjk0OCwgLTc5LjQxNjkzNTU5OTk5OTk5XSwKICAgICAgICAgICAgICAgIHsiYnViYmxpbmdNb3VzZUV2ZW50cyI6IHRydWUsICJjb2xvciI6ICJibHVlIiwgImRhc2hBcnJheSI6IG51bGwsICJkYXNoT2Zmc2V0IjogbnVsbCwgImZpbGwiOiB0cnVlLCAiZmlsbENvbG9yIjogIiMzMTg2Y2MiLCAiZmlsbE9wYWNpdHkiOiAwLjcsICJmaWxsUnVsZSI6ICJldmVub2RkIiwgImxpbmVDYXAiOiAicm91bmQiLCAibGluZUpvaW4iOiAicm91bmQiLCAib3BhY2l0eSI6IDEuMCwgInJhZGl1cyI6IDUsICJzdHJva2UiOiB0cnVlLCAid2VpZ2h0IjogM30KICAgICAgICAgICAgKS5hZGRUbyhtYXBfOTQ5YmU3ZmZjMGRhNDQ2M2IwZjg1NDViNTdkMzg3YjIpOwogICAgICAgIAogICAgCiAgICAgICAgdmFyIHBvcHVwXzg1MzQxMzMwZjI4YjRhZmQ5NzA2NzAzMjhlMDA0NWY2ID0gTC5wb3B1cCh7Im1heFdpZHRoIjogIjEwMCUifSk7CgogICAgICAgIAogICAgICAgICAgICB2YXIgaHRtbF9mZTBiZDRlMjQ3ZTU0MDQyODgzZjUyOTA0ZDAxM2QyYiA9ICQoYDxkaXYgaWQ9Imh0bWxfZmUwYmQ0ZTI0N2U1NDA0Mjg4M2Y1MjkwNGQwMTNkMmIiIHN0eWxlPSJ3aWR0aDogMTAwLjAlOyBoZWlnaHQ6IDEwMC4wJTsiPlJvc2VsYXduLCBDZW50cmFsIFRvcm9udG88L2Rpdj5gKVswXTsKICAgICAgICAgICAgcG9wdXBfODUzNDEzMzBmMjhiNGFmZDk3MDY3MDMyOGUwMDQ1ZjYuc2V0Q29udGVudChodG1sX2ZlMGJkNGUyNDdlNTQwNDI4ODNmNTI5MDRkMDEzZDJiKTsKICAgICAgICAKCiAgICAgICAgY2lyY2xlX21hcmtlcl8xYTM3NGI3MTUzNTQ0MjZmOGMyZjZlNDNlZjk0ODU5OC5iaW5kUG9wdXAocG9wdXBfODUzNDEzMzBmMjhiNGFmZDk3MDY3MDMyOGUwMDQ1ZjYpCiAgICAgICAgOwoKICAgICAgICAKICAgIAogICAgCiAgICAgICAgICAgIHZhciBjaXJjbGVfbWFya2VyX2RkYWVlNjhmOTMwMjQyNDY5NzAwZDEyMTA1NWJkNzM2ID0gTC5jaXJjbGVNYXJrZXIoCiAgICAgICAgICAgICAgICBbNDMuNjk2OTQ3NiwgLTc5LjQxMTMwNzIwMDAwMDAxXSwKICAgICAgICAgICAgICAgIHsiYnViYmxpbmdNb3VzZUV2ZW50cyI6IHRydWUsICJjb2xvciI6ICJibHVlIiwgImRhc2hBcnJheSI6IG51bGwsICJkYXNoT2Zmc2V0IjogbnVsbCwgImZpbGwiOiB0cnVlLCAiZmlsbENvbG9yIjogIiMzMTg2Y2MiLCAiZmlsbE9wYWNpdHkiOiAwLjcsICJmaWxsUnVsZSI6ICJldmVub2RkIiwgImxpbmVDYXAiOiAicm91bmQiLCAibGluZUpvaW4iOiAicm91bmQiLCAib3BhY2l0eSI6IDEuMCwgInJhZGl1cyI6IDUsICJzdHJva2UiOiB0cnVlLCAid2VpZ2h0IjogM30KICAgICAgICAgICAgKS5hZGRUbyhtYXBfOTQ5YmU3ZmZjMGRhNDQ2M2IwZjg1NDViNTdkMzg3YjIpOwogICAgICAgIAogICAgCiAgICAgICAgdmFyIHBvcHVwXzRlN2MwN2VkNzM3NDQxMThiOTA5ODE0ZTk5YjExOTdkID0gTC5wb3B1cCh7Im1heFdpZHRoIjogIjEwMCUifSk7CgogICAgICAgIAogICAgICAgICAgICB2YXIgaHRtbF80MDI1NzM1NDY3NzQ0NWQ2ODA0NWMzOTFkNWQ4NjA2MSA9ICQoYDxkaXYgaWQ9Imh0bWxfNDAyNTczNTQ2Nzc0NDVkNjgwNDVjMzkxZDVkODYwNjEiIHN0eWxlPSJ3aWR0aDogMTAwLjAlOyBoZWlnaHQ6IDEwMC4wJTsiPkZvcmVzdCBIaWxsIE5vcnRoLCBGb3Jlc3QgSGlsbCBXZXN0LCBDZW50cmFsIFRvcm9udG88L2Rpdj5gKVswXTsKICAgICAgICAgICAgcG9wdXBfNGU3YzA3ZWQ3Mzc0NDExOGI5MDk4MTRlOTliMTE5N2Quc2V0Q29udGVudChodG1sXzQwMjU3MzU0Njc3NDQ1ZDY4MDQ1YzM5MWQ1ZDg2MDYxKTsKICAgICAgICAKCiAgICAgICAgY2lyY2xlX21hcmtlcl9kZGFlZTY4ZjkzMDI0MjQ2OTcwMGQxMjEwNTViZDczNi5iaW5kUG9wdXAocG9wdXBfNGU3YzA3ZWQ3Mzc0NDExOGI5MDk4MTRlOTliMTE5N2QpCiAgICAgICAgOwoKICAgICAgICAKICAgIAogICAgCiAgICAgICAgICAgIHZhciBjaXJjbGVfbWFya2VyXzAyNGVmZjFkOTkyZTQxNTdhYmZkM2JhNzYwOTgxODcxID0gTC5jaXJjbGVNYXJrZXIoCiAgICAgICAgICAgICAgICBbNDMuNjcyNzA5NywgLTc5LjQwNTY3ODQwMDAwMDAxXSwKICAgICAgICAgICAgICAgIHsiYnViYmxpbmdNb3VzZUV2ZW50cyI6IHRydWUsICJjb2xvciI6ICJibHVlIiwgImRhc2hBcnJheSI6IG51bGwsICJkYXNoT2Zmc2V0IjogbnVsbCwgImZpbGwiOiB0cnVlLCAiZmlsbENvbG9yIjogIiMzMTg2Y2MiLCAiZmlsbE9wYWNpdHkiOiAwLjcsICJmaWxsUnVsZSI6ICJldmVub2RkIiwgImxpbmVDYXAiOiAicm91bmQiLCAibGluZUpvaW4iOiAicm91bmQiLCAib3BhY2l0eSI6IDEuMCwgInJhZGl1cyI6IDUsICJzdHJva2UiOiB0cnVlLCAid2VpZ2h0IjogM30KICAgICAgICAgICAgKS5hZGRUbyhtYXBfOTQ5YmU3ZmZjMGRhNDQ2M2IwZjg1NDViNTdkMzg3YjIpOwogICAgICAgIAogICAgCiAgICAgICAgdmFyIHBvcHVwX2Q0MjM1ZjZlMzhiYjQwMDZhZDIyNTIyM2FmOGM0ZTFhID0gTC5wb3B1cCh7Im1heFdpZHRoIjogIjEwMCUifSk7CgogICAgICAgIAogICAgICAgICAgICB2YXIgaHRtbF9hYmRkMmIxZWMxZGU0ODExYjRkNDkzMTU5ZGE4M2IwOSA9ICQoYDxkaXYgaWQ9Imh0bWxfYWJkZDJiMWVjMWRlNDgxMWI0ZDQ5MzE1OWRhODNiMDkiIHN0eWxlPSJ3aWR0aDogMTAwLjAlOyBoZWlnaHQ6IDEwMC4wJTsiPllvcmt2aWxsZSwgVGhlIEFubmV4LCBOb3J0aCBNaWR0b3duLCBDZW50cmFsIFRvcm9udG88L2Rpdj5gKVswXTsKICAgICAgICAgICAgcG9wdXBfZDQyMzVmNmUzOGJiNDAwNmFkMjI1MjIzYWY4YzRlMWEuc2V0Q29udGVudChodG1sX2FiZGQyYjFlYzFkZTQ4MTFiNGQ0OTMxNTlkYTgzYjA5KTsKICAgICAgICAKCiAgICAgICAgY2lyY2xlX21hcmtlcl8wMjRlZmYxZDk5MmU0MTU3YWJmZDNiYTc2MDk4MTg3MS5iaW5kUG9wdXAocG9wdXBfZDQyMzVmNmUzOGJiNDAwNmFkMjI1MjIzYWY4YzRlMWEpCiAgICAgICAgOwoKICAgICAgICAKICAgIAogICAgCiAgICAgICAgICAgIHZhciBjaXJjbGVfbWFya2VyXzlhM2Q0ZDU2NjJhZjQ1MDA4ZDlkMmVhNTAyM2U4MmJmID0gTC5jaXJjbGVNYXJrZXIoCiAgICAgICAgICAgICAgICBbNDMuNjYyNjk1NiwgLTc5LjQwMDA0OTNdLAogICAgICAgICAgICAgICAgeyJidWJibGluZ01vdXNlRXZlbnRzIjogdHJ1ZSwgImNvbG9yIjogImJsdWUiLCAiZGFzaEFycmF5IjogbnVsbCwgImRhc2hPZmZzZXQiOiBudWxsLCAiZmlsbCI6IHRydWUsICJmaWxsQ29sb3IiOiAiIzMxODZjYyIsICJmaWxsT3BhY2l0eSI6IDAuNywgImZpbGxSdWxlIjogImV2ZW5vZGQiLCAibGluZUNhcCI6ICJyb3VuZCIsICJsaW5lSm9pbiI6ICJyb3VuZCIsICJvcGFjaXR5IjogMS4wLCAicmFkaXVzIjogNSwgInN0cm9rZSI6IHRydWUsICJ3ZWlnaHQiOiAzfQogICAgICAgICAgICApLmFkZFRvKG1hcF85NDliZTdmZmMwZGE0NDYzYjBmODU0NWI1N2QzODdiMik7CiAgICAgICAgCiAgICAKICAgICAgICB2YXIgcG9wdXBfOWE5YzNlYWU5NzU1NDMyZmEzOTdlYjdkMGE4YTMxODcgPSBMLnBvcHVwKHsibWF4V2lkdGgiOiAiMTAwJSJ9KTsKCiAgICAgICAgCiAgICAgICAgICAgIHZhciBodG1sXzdmOWI2M2Y4MGI4NDQ3OGU4ZmMyZTIxZjQ3OWE5ZTkxID0gJChgPGRpdiBpZD0iaHRtbF83ZjliNjNmODBiODQ0NzhlOGZjMmUyMWY0NzlhOWU5MSIgc3R5bGU9IndpZHRoOiAxMDAuMCU7IGhlaWdodDogMTAwLjAlOyI+SGFyYm9yZCwgVW5pdmVyc2l0eSBvZiBUb3JvbnRvLCBEb3dudG93biBUb3JvbnRvPC9kaXY+YClbMF07CiAgICAgICAgICAgIHBvcHVwXzlhOWMzZWFlOTc1NTQzMmZhMzk3ZWI3ZDBhOGEzMTg3LnNldENvbnRlbnQoaHRtbF83ZjliNjNmODBiODQ0NzhlOGZjMmUyMWY0NzlhOWU5MSk7CiAgICAgICAgCgogICAgICAgIGNpcmNsZV9tYXJrZXJfOWEzZDRkNTY2MmFmNDUwMDhkOWQyZWE1MDIzZTgyYmYuYmluZFBvcHVwKHBvcHVwXzlhOWMzZWFlOTc1NTQzMmZhMzk3ZWI3ZDBhOGEzMTg3KQogICAgICAgIDsKCiAgICAgICAgCiAgICAKICAgIAogICAgICAgICAgICB2YXIgY2lyY2xlX21hcmtlcl8yMzI2MzYzZjY1MjQ0NGQ4YThlMGFjMWRjMzM1NzFhYyA9IEwuY2lyY2xlTWFya2VyKAogICAgICAgICAgICAgICAgWzQzLjY1MzIwNTcsIC03OS40MDAwNDkzXSwKICAgICAgICAgICAgICAgIHsiYnViYmxpbmdNb3VzZUV2ZW50cyI6IHRydWUsICJjb2xvciI6ICJibHVlIiwgImRhc2hBcnJheSI6IG51bGwsICJkYXNoT2Zmc2V0IjogbnVsbCwgImZpbGwiOiB0cnVlLCAiZmlsbENvbG9yIjogIiMzMTg2Y2MiLCAiZmlsbE9wYWNpdHkiOiAwLjcsICJmaWxsUnVsZSI6ICJldmVub2RkIiwgImxpbmVDYXAiOiAicm91bmQiLCAibGluZUpvaW4iOiAicm91bmQiLCAib3BhY2l0eSI6IDEuMCwgInJhZGl1cyI6IDUsICJzdHJva2UiOiB0cnVlLCAid2VpZ2h0IjogM30KICAgICAgICAgICAgKS5hZGRUbyhtYXBfOTQ5YmU3ZmZjMGRhNDQ2M2IwZjg1NDViNTdkMzg3YjIpOwogICAgICAgIAogICAgCiAgICAgICAgdmFyIHBvcHVwXzJjMGZhZmQxMTgwMjRiYzBhZDI2NmUzMjNmNTU4NDc5ID0gTC5wb3B1cCh7Im1heFdpZHRoIjogIjEwMCUifSk7CgogICAgICAgIAogICAgICAgICAgICB2YXIgaHRtbF9kMzFlMDliMThiZDU0MGYzODZlNDJkNWM3ZmRmMGVlNCA9ICQoYDxkaXYgaWQ9Imh0bWxfZDMxZTA5YjE4YmQ1NDBmMzg2ZTQyZDVjN2ZkZjBlZTQiIHN0eWxlPSJ3aWR0aDogMTAwLjAlOyBoZWlnaHQ6IDEwMC4wJTsiPktlbnNpbmd0b24gTWFya2V0LCBHcmFuZ2UgUGFyaywgQ2hpbmF0b3duLCBEb3dudG93biBUb3JvbnRvPC9kaXY+YClbMF07CiAgICAgICAgICAgIHBvcHVwXzJjMGZhZmQxMTgwMjRiYzBhZDI2NmUzMjNmNTU4NDc5LnNldENvbnRlbnQoaHRtbF9kMzFlMDliMThiZDU0MGYzODZlNDJkNWM3ZmRmMGVlNCk7CiAgICAgICAgCgogICAgICAgIGNpcmNsZV9tYXJrZXJfMjMyNjM2M2Y2NTI0NDRkOGE4ZTBhYzFkYzMzNTcxYWMuYmluZFBvcHVwKHBvcHVwXzJjMGZhZmQxMTgwMjRiYzBhZDI2NmUzMjNmNTU4NDc5KQogICAgICAgIDsKCiAgICAgICAgCiAgICAKICAgIAogICAgICAgICAgICB2YXIgY2lyY2xlX21hcmtlcl9kNTJlZGIxMGNlYzM0ZGVkYjgwZWZhNmNiM2JkN2VjNSA9IEwuY2lyY2xlTWFya2VyKAogICAgICAgICAgICAgICAgWzQzLjYyODk0NjcsIC03OS4zOTQ0MTk5XSwKICAgICAgICAgICAgICAgIHsiYnViYmxpbmdNb3VzZUV2ZW50cyI6IHRydWUsICJjb2xvciI6ICJibHVlIiwgImRhc2hBcnJheSI6IG51bGwsICJkYXNoT2Zmc2V0IjogbnVsbCwgImZpbGwiOiB0cnVlLCAiZmlsbENvbG9yIjogIiMzMTg2Y2MiLCAiZmlsbE9wYWNpdHkiOiAwLjcsICJmaWxsUnVsZSI6ICJldmVub2RkIiwgImxpbmVDYXAiOiAicm91bmQiLCAibGluZUpvaW4iOiAicm91bmQiLCAib3BhY2l0eSI6IDEuMCwgInJhZGl1cyI6IDUsICJzdHJva2UiOiB0cnVlLCAid2VpZ2h0IjogM30KICAgICAgICAgICAgKS5hZGRUbyhtYXBfOTQ5YmU3ZmZjMGRhNDQ2M2IwZjg1NDViNTdkMzg3YjIpOwogICAgICAgIAogICAgCiAgICAgICAgdmFyIHBvcHVwX2ZhMjE2Y2UxMWUwNjQ3YjQ5ZTRiMzBiNGQwOTUxNTE0ID0gTC5wb3B1cCh7Im1heFdpZHRoIjogIjEwMCUifSk7CgogICAgICAgIAogICAgICAgICAgICB2YXIgaHRtbF8wMDk5ZjEzZjk4MmI0YWRmOWRkMzBhYmFmMDZjY2UzNiA9ICQoYDxkaXYgaWQ9Imh0bWxfMDA5OWYxM2Y5ODJiNGFkZjlkZDMwYWJhZjA2Y2NlMzYiIHN0eWxlPSJ3aWR0aDogMTAwLjAlOyBoZWlnaHQ6IDEwMC4wJTsiPklzbGFuZCBhaXJwb3J0LCBTb3V0aCBOaWFnYXJhLCBDTiBUb3dlciwgUmFpbHdheSBMYW5kcywgSGFyYm91cmZyb250IFdlc3QsIEJhdGh1cnN0IFF1YXksIEtpbmcgYW5kIFNwYWRpbmEsIERvd250b3duIFRvcm9udG88L2Rpdj5gKVswXTsKICAgICAgICAgICAgcG9wdXBfZmEyMTZjZTExZTA2NDdiNDllNGIzMGI0ZDA5NTE1MTQuc2V0Q29udGVudChodG1sXzAwOTlmMTNmOTgyYjRhZGY5ZGQzMGFiYWYwNmNjZTM2KTsKICAgICAgICAKCiAgICAgICAgY2lyY2xlX21hcmtlcl9kNTJlZGIxMGNlYzM0ZGVkYjgwZWZhNmNiM2JkN2VjNS5iaW5kUG9wdXAocG9wdXBfZmEyMTZjZTExZTA2NDdiNDllNGIzMGI0ZDA5NTE1MTQpCiAgICAgICAgOwoKICAgICAgICAKICAgIAogICAgCiAgICAgICAgICAgIHZhciBjaXJjbGVfbWFya2VyXzIxZDE3NGNlNDE3MTQ1ZDM5NDgwNzQzNjZiYjhhY2M3ID0gTC5jaXJjbGVNYXJrZXIoCiAgICAgICAgICAgICAgICBbNDMuNjQ2NDM1MiwgLTc5LjM3NDg0NTk5OTk5OTk5XSwKICAgICAgICAgICAgICAgIHsiYnViYmxpbmdNb3VzZUV2ZW50cyI6IHRydWUsICJjb2xvciI6ICJibHVlIiwgImRhc2hBcnJheSI6IG51bGwsICJkYXNoT2Zmc2V0IjogbnVsbCwgImZpbGwiOiB0cnVlLCAiZmlsbENvbG9yIjogIiMzMTg2Y2MiLCAiZmlsbE9wYWNpdHkiOiAwLjcsICJmaWxsUnVsZSI6ICJldmVub2RkIiwgImxpbmVDYXAiOiAicm91bmQiLCAibGluZUpvaW4iOiAicm91bmQiLCAib3BhY2l0eSI6IDEuMCwgInJhZGl1cyI6IDUsICJzdHJva2UiOiB0cnVlLCAid2VpZ2h0IjogM30KICAgICAgICAgICAgKS5hZGRUbyhtYXBfOTQ5YmU3ZmZjMGRhNDQ2M2IwZjg1NDViNTdkMzg3YjIpOwogICAgICAgIAogICAgCiAgICAgICAgdmFyIHBvcHVwXzAxMDUyMmJmNTZkNzRhMGJhZTcxYTdkMmVhM2M5ZDVhID0gTC5wb3B1cCh7Im1heFdpZHRoIjogIjEwMCUifSk7CgogICAgICAgIAogICAgICAgICAgICB2YXIgaHRtbF9mYTdiMGMzMWYzOWY0OTkyYmZhNzQyZjhlNDQzMjc2YSA9ICQoYDxkaXYgaWQ9Imh0bWxfZmE3YjBjMzFmMzlmNDk5MmJmYTc0MmY4ZTQ0MzI3NmEiIHN0eWxlPSJ3aWR0aDogMTAwLjAlOyBoZWlnaHQ6IDEwMC4wJTsiPlN0biBBIFBPIEJveGVzIDI1IFRoZSBFc3BsYW5hZGUsIERvd250b3duIFRvcm9udG88L2Rpdj5gKVswXTsKICAgICAgICAgICAgcG9wdXBfMDEwNTIyYmY1NmQ3NGEwYmFlNzFhN2QyZWEzYzlkNWEuc2V0Q29udGVudChodG1sX2ZhN2IwYzMxZjM5ZjQ5OTJiZmE3NDJmOGU0NDMyNzZhKTsKICAgICAgICAKCiAgICAgICAgY2lyY2xlX21hcmtlcl8yMWQxNzRjZTQxNzE0NWQzOTQ4MDc0MzY2YmI4YWNjNy5iaW5kUG9wdXAocG9wdXBfMDEwNTIyYmY1NmQ3NGEwYmFlNzFhN2QyZWEzYzlkNWEpCiAgICAgICAgOwoKICAgICAgICAKICAgIAogICAgCiAgICAgICAgICAgIHZhciBjaXJjbGVfbWFya2VyX2VkYjczNDljZTJkMjQzMmZhZTJlY2RmNGQyZjFiMDkwID0gTC5jaXJjbGVNYXJrZXIoCiAgICAgICAgICAgICAgICBbNDMuNjQ4NDI5MiwgLTc5LjM4MjI4MDJdLAogICAgICAgICAgICAgICAgeyJidWJibGluZ01vdXNlRXZlbnRzIjogdHJ1ZSwgImNvbG9yIjogImJsdWUiLCAiZGFzaEFycmF5IjogbnVsbCwgImRhc2hPZmZzZXQiOiBudWxsLCAiZmlsbCI6IHRydWUsICJmaWxsQ29sb3IiOiAiIzMxODZjYyIsICJmaWxsT3BhY2l0eSI6IDAuNywgImZpbGxSdWxlIjogImV2ZW5vZGQiLCAibGluZUNhcCI6ICJyb3VuZCIsICJsaW5lSm9pbiI6ICJyb3VuZCIsICJvcGFjaXR5IjogMS4wLCAicmFkaXVzIjogNSwgInN0cm9rZSI6IHRydWUsICJ3ZWlnaHQiOiAzfQogICAgICAgICAgICApLmFkZFRvKG1hcF85NDliZTdmZmMwZGE0NDYzYjBmODU0NWI1N2QzODdiMik7CiAgICAgICAgCiAgICAKICAgICAgICB2YXIgcG9wdXBfZTI4N2E4OTRhMTdjNGNjMThhOTcwYmI3MzBkYTlmMTUgPSBMLnBvcHVwKHsibWF4V2lkdGgiOiAiMTAwJSJ9KTsKCiAgICAgICAgCiAgICAgICAgICAgIHZhciBodG1sX2FiZDYzMTIzNmQyZTQ3ZTY4OWUxMTA1MGE2MTU1NDY1ID0gJChgPGRpdiBpZD0iaHRtbF9hYmQ2MzEyMzZkMmU0N2U2ODllMTEwNTBhNjE1NTQ2NSIgc3R5bGU9IndpZHRoOiAxMDAuMCU7IGhlaWdodDogMTAwLjAlOyI+Rmlyc3QgQ2FuYWRpYW4gUGxhY2UsIFVuZGVyZ3JvdW5kIGNpdHksIERvd250b3duIFRvcm9udG88L2Rpdj5gKVswXTsKICAgICAgICAgICAgcG9wdXBfZTI4N2E4OTRhMTdjNGNjMThhOTcwYmI3MzBkYTlmMTUuc2V0Q29udGVudChodG1sX2FiZDYzMTIzNmQyZTQ3ZTY4OWUxMTA1MGE2MTU1NDY1KTsKICAgICAgICAKCiAgICAgICAgY2lyY2xlX21hcmtlcl9lZGI3MzQ5Y2UyZDI0MzJmYWUyZWNkZjRkMmYxYjA5MC5iaW5kUG9wdXAocG9wdXBfZTI4N2E4OTRhMTdjNGNjMThhOTcwYmI3MzBkYTlmMTUpCiAgICAgICAgOwoKICAgICAgICAKICAgIAogICAgCiAgICAgICAgICAgIHZhciBjaXJjbGVfbWFya2VyX2M1MjVmYzE3YTExOTQ5YjFiMjA3MWUzMTc3MWQyODhhID0gTC5jaXJjbGVNYXJrZXIoCiAgICAgICAgICAgICAgICBbNDMuNjY5NTQyLCAtNzkuNDIyNTYzN10sCiAgICAgICAgICAgICAgICB7ImJ1YmJsaW5nTW91c2VFdmVudHMiOiB0cnVlLCAiY29sb3IiOiAiYmx1ZSIsICJkYXNoQXJyYXkiOiBudWxsLCAiZGFzaE9mZnNldCI6IG51bGwsICJmaWxsIjogdHJ1ZSwgImZpbGxDb2xvciI6ICIjMzE4NmNjIiwgImZpbGxPcGFjaXR5IjogMC43LCAiZmlsbFJ1bGUiOiAiZXZlbm9kZCIsICJsaW5lQ2FwIjogInJvdW5kIiwgImxpbmVKb2luIjogInJvdW5kIiwgIm9wYWNpdHkiOiAxLjAsICJyYWRpdXMiOiA1LCAic3Ryb2tlIjogdHJ1ZSwgIndlaWdodCI6IDN9CiAgICAgICAgICAgICkuYWRkVG8obWFwXzk0OWJlN2ZmYzBkYTQ0NjNiMGY4NTQ1YjU3ZDM4N2IyKTsKICAgICAgICAKICAgIAogICAgICAgIHZhciBwb3B1cF80NmI3Y2Q1MjE1Njk0MDQzYWI3NWJjOWUyZWIyMWViNyA9IEwucG9wdXAoeyJtYXhXaWR0aCI6ICIxMDAlIn0pOwoKICAgICAgICAKICAgICAgICAgICAgdmFyIGh0bWxfZmQ2MTIzOWEwOTg3NDRmNzg0M2Q1Mjg3MTVjYjAzMTUgPSAkKGA8ZGl2IGlkPSJodG1sX2ZkNjEyMzlhMDk4NzQ0Zjc4NDNkNTI4NzE1Y2IwMzE1IiBzdHlsZT0id2lkdGg6IDEwMC4wJTsgaGVpZ2h0OiAxMDAuMCU7Ij5DaHJpc3RpZSwgRG93bnRvd24gVG9yb250bzwvZGl2PmApWzBdOwogICAgICAgICAgICBwb3B1cF80NmI3Y2Q1MjE1Njk0MDQzYWI3NWJjOWUyZWIyMWViNy5zZXRDb250ZW50KGh0bWxfZmQ2MTIzOWEwOTg3NDRmNzg0M2Q1Mjg3MTVjYjAzMTUpOwogICAgICAgIAoKICAgICAgICBjaXJjbGVfbWFya2VyX2M1MjVmYzE3YTExOTQ5YjFiMjA3MWUzMTc3MWQyODhhLmJpbmRQb3B1cChwb3B1cF80NmI3Y2Q1MjE1Njk0MDQzYWI3NWJjOWUyZWIyMWViNykKICAgICAgICA7CgogICAgICAgIAogICAgCiAgICAKICAgICAgICAgICAgdmFyIGNpcmNsZV9tYXJrZXJfNTIwNWZhNzQyMjczNGFlMGEyZTk3NjI1MjdhYmIzNzAgPSBMLmNpcmNsZU1hcmtlcigKICAgICAgICAgICAgICAgIFs0My42NjkwMDUxMDAwMDAwMSwgLTc5LjQ0MjI1OTNdLAogICAgICAgICAgICAgICAgeyJidWJibGluZ01vdXNlRXZlbnRzIjogdHJ1ZSwgImNvbG9yIjogImJsdWUiLCAiZGFzaEFycmF5IjogbnVsbCwgImRhc2hPZmZzZXQiOiBudWxsLCAiZmlsbCI6IHRydWUsICJmaWxsQ29sb3IiOiAiIzMxODZjYyIsICJmaWxsT3BhY2l0eSI6IDAuNywgImZpbGxSdWxlIjogImV2ZW5vZGQiLCAibGluZUNhcCI6ICJyb3VuZCIsICJsaW5lSm9pbiI6ICJyb3VuZCIsICJvcGFjaXR5IjogMS4wLCAicmFkaXVzIjogNSwgInN0cm9rZSI6IHRydWUsICJ3ZWlnaHQiOiAzfQogICAgICAgICAgICApLmFkZFRvKG1hcF85NDliZTdmZmMwZGE0NDYzYjBmODU0NWI1N2QzODdiMik7CiAgICAgICAgCiAgICAKICAgICAgICB2YXIgcG9wdXBfNzRiOGY2ODg2MDEzNDVjNmJiMmY3NjU0ZTAxOTAzMzkgPSBMLnBvcHVwKHsibWF4V2lkdGgiOiAiMTAwJSJ9KTsKCiAgICAgICAgCiAgICAgICAgICAgIHZhciBodG1sXzRmYzRlNmQxOWI4MDQxYmViODA2Y2JmYjJhYTM1YmZmID0gJChgPGRpdiBpZD0iaHRtbF80ZmM0ZTZkMTliODA0MWJlYjgwNmNiZmIyYWEzNWJmZiIgc3R5bGU9IndpZHRoOiAxMDAuMCU7IGhlaWdodDogMTAwLjAlOyI+RG92ZXJjb3VydCBWaWxsYWdlLCBEdWZmZXJpbiwgV2VzdCBUb3JvbnRvPC9kaXY+YClbMF07CiAgICAgICAgICAgIHBvcHVwXzc0YjhmNjg4NjAxMzQ1YzZiYjJmNzY1NGUwMTkwMzM5LnNldENvbnRlbnQoaHRtbF80ZmM0ZTZkMTliODA0MWJlYjgwNmNiZmIyYWEzNWJmZik7CiAgICAgICAgCgogICAgICAgIGNpcmNsZV9tYXJrZXJfNTIwNWZhNzQyMjczNGFlMGEyZTk3NjI1MjdhYmIzNzAuYmluZFBvcHVwKHBvcHVwXzc0YjhmNjg4NjAxMzQ1YzZiYjJmNzY1NGUwMTkwMzM5KQogICAgICAgIDsKCiAgICAgICAgCiAgICAKICAgIAogICAgICAgICAgICB2YXIgY2lyY2xlX21hcmtlcl85ZDA4MDI1MDJiZTA0YzQzYjdiMGFjZWJmYTRiYWUxNyA9IEwuY2lyY2xlTWFya2VyKAogICAgICAgICAgICAgICAgWzQzLjY0NzkyNjcwMDAwMDAwNiwgLTc5LjQxOTc0OTddLAogICAgICAgICAgICAgICAgeyJidWJibGluZ01vdXNlRXZlbnRzIjogdHJ1ZSwgImNvbG9yIjogImJsdWUiLCAiZGFzaEFycmF5IjogbnVsbCwgImRhc2hPZmZzZXQiOiBudWxsLCAiZmlsbCI6IHRydWUsICJmaWxsQ29sb3IiOiAiIzMxODZjYyIsICJmaWxsT3BhY2l0eSI6IDAuNywgImZpbGxSdWxlIjogImV2ZW5vZGQiLCAibGluZUNhcCI6ICJyb3VuZCIsICJsaW5lSm9pbiI6ICJyb3VuZCIsICJvcGFjaXR5IjogMS4wLCAicmFkaXVzIjogNSwgInN0cm9rZSI6IHRydWUsICJ3ZWlnaHQiOiAzfQogICAgICAgICAgICApLmFkZFRvKG1hcF85NDliZTdmZmMwZGE0NDYzYjBmODU0NWI1N2QzODdiMik7CiAgICAgICAgCiAgICAKICAgICAgICB2YXIgcG9wdXBfZjYyODE1OWFhNjRjNGE3NDk5YWRjYjgzYTdlYTg1Y2QgPSBMLnBvcHVwKHsibWF4V2lkdGgiOiAiMTAwJSJ9KTsKCiAgICAgICAgCiAgICAgICAgICAgIHZhciBodG1sXzQyODllNzFkYjBjYzQ5MDZiMDk5MjljMzAxNGNkNzJiID0gJChgPGRpdiBpZD0iaHRtbF80Mjg5ZTcxZGIwY2M0OTA2YjA5OTI5YzMwMTRjZDcyYiIgc3R5bGU9IndpZHRoOiAxMDAuMCU7IGhlaWdodDogMTAwLjAlOyI+VHJpbml0eSwgTGl0dGxlIFBvcnR1Z2FsLCBXZXN0IFRvcm9udG88L2Rpdj5gKVswXTsKICAgICAgICAgICAgcG9wdXBfZjYyODE1OWFhNjRjNGE3NDk5YWRjYjgzYTdlYTg1Y2Quc2V0Q29udGVudChodG1sXzQyODllNzFkYjBjYzQ5MDZiMDk5MjljMzAxNGNkNzJiKTsKICAgICAgICAKCiAgICAgICAgY2lyY2xlX21hcmtlcl85ZDA4MDI1MDJiZTA0YzQzYjdiMGFjZWJmYTRiYWUxNy5iaW5kUG9wdXAocG9wdXBfZjYyODE1OWFhNjRjNGE3NDk5YWRjYjgzYTdlYTg1Y2QpCiAgICAgICAgOwoKICAgICAgICAKICAgIAogICAgCiAgICAgICAgICAgIHZhciBjaXJjbGVfbWFya2VyX2Q4M2RlMjY5YWIzMDRlNjg4ZmY1YjYwYTJlNDEzNjY1ID0gTC5jaXJjbGVNYXJrZXIoCiAgICAgICAgICAgICAgICBbNDMuNjM2ODQ3MiwgLTc5LjQyODE5MTQwMDAwMDAyXSwKICAgICAgICAgICAgICAgIHsiYnViYmxpbmdNb3VzZUV2ZW50cyI6IHRydWUsICJjb2xvciI6ICJibHVlIiwgImRhc2hBcnJheSI6IG51bGwsICJkYXNoT2Zmc2V0IjogbnVsbCwgImZpbGwiOiB0cnVlLCAiZmlsbENvbG9yIjogIiMzMTg2Y2MiLCAiZmlsbE9wYWNpdHkiOiAwLjcsICJmaWxsUnVsZSI6ICJldmVub2RkIiwgImxpbmVDYXAiOiAicm91bmQiLCAibGluZUpvaW4iOiAicm91bmQiLCAib3BhY2l0eSI6IDEuMCwgInJhZGl1cyI6IDUsICJzdHJva2UiOiB0cnVlLCAid2VpZ2h0IjogM30KICAgICAgICAgICAgKS5hZGRUbyhtYXBfOTQ5YmU3ZmZjMGRhNDQ2M2IwZjg1NDViNTdkMzg3YjIpOwogICAgICAgIAogICAgCiAgICAgICAgdmFyIHBvcHVwXzMyZjllYmYxMDAwYzRjOTM5YTY1NDE4NzJiYjk1YmFmID0gTC5wb3B1cCh7Im1heFdpZHRoIjogIjEwMCUifSk7CgogICAgICAgIAogICAgICAgICAgICB2YXIgaHRtbF84ZDkwN2IyYjc2ODY0MDIyOGUzMzM2ZDdkYjJiZjMzMCA9ICQoYDxkaXYgaWQ9Imh0bWxfOGQ5MDdiMmI3Njg2NDAyMjhlMzMzNmQ3ZGIyYmYzMzAiIHN0eWxlPSJ3aWR0aDogMTAwLjAlOyBoZWlnaHQ6IDEwMC4wJTsiPkJyb2NrdG9uLCBQYXJrZGFsZSBWaWxsYWdlLCBFeGhpYml0aW9uIFBsYWNlLCBXZXN0IFRvcm9udG88L2Rpdj5gKVswXTsKICAgICAgICAgICAgcG9wdXBfMzJmOWViZjEwMDBjNGM5MzlhNjU0MTg3MmJiOTViYWYuc2V0Q29udGVudChodG1sXzhkOTA3YjJiNzY4NjQwMjI4ZTMzMzZkN2RiMmJmMzMwKTsKICAgICAgICAKCiAgICAgICAgY2lyY2xlX21hcmtlcl9kODNkZTI2OWFiMzA0ZTY4OGZmNWI2MGEyZTQxMzY2NS5iaW5kUG9wdXAocG9wdXBfMzJmOWViZjEwMDBjNGM5MzlhNjU0MTg3MmJiOTViYWYpCiAgICAgICAgOwoKICAgICAgICAKICAgIAogICAgCiAgICAgICAgICAgIHZhciBjaXJjbGVfbWFya2VyXzQ1YjIyOGZlZDViNzRlODBhNWVkNTllMTFlNWMwZDkzID0gTC5jaXJjbGVNYXJrZXIoCiAgICAgICAgICAgICAgICBbNDMuNjYxNjA4MywgLTc5LjQ2NDc2MzI5OTk5OTk5XSwKICAgICAgICAgICAgICAgIHsiYnViYmxpbmdNb3VzZUV2ZW50cyI6IHRydWUsICJjb2xvciI6ICJibHVlIiwgImRhc2hBcnJheSI6IG51bGwsICJkYXNoT2Zmc2V0IjogbnVsbCwgImZpbGwiOiB0cnVlLCAiZmlsbENvbG9yIjogIiMzMTg2Y2MiLCAiZmlsbE9wYWNpdHkiOiAwLjcsICJmaWxsUnVsZSI6ICJldmVub2RkIiwgImxpbmVDYXAiOiAicm91bmQiLCAibGluZUpvaW4iOiAicm91bmQiLCAib3BhY2l0eSI6IDEuMCwgInJhZGl1cyI6IDUsICJzdHJva2UiOiB0cnVlLCAid2VpZ2h0IjogM30KICAgICAgICAgICAgKS5hZGRUbyhtYXBfOTQ5YmU3ZmZjMGRhNDQ2M2IwZjg1NDViNTdkMzg3YjIpOwogICAgICAgIAogICAgCiAgICAgICAgdmFyIHBvcHVwXzdmMDIwYzkwZGE2MDQzYmM5Njg1NzllZTc2ZTNhYjQ5ID0gTC5wb3B1cCh7Im1heFdpZHRoIjogIjEwMCUifSk7CgogICAgICAgIAogICAgICAgICAgICB2YXIgaHRtbF82N2M5MDBkYmE0YjM0ZDYyYTNjZmUxMmQ3NmIzZmU1NiA9ICQoYDxkaXYgaWQ9Imh0bWxfNjdjOTAwZGJhNGIzNGQ2MmEzY2ZlMTJkNzZiM2ZlNTYiIHN0eWxlPSJ3aWR0aDogMTAwLjAlOyBoZWlnaHQ6IDEwMC4wJTsiPkhpZ2ggUGFyaywgVGhlIEp1bmN0aW9uIFNvdXRoLCBXZXN0IFRvcm9udG88L2Rpdj5gKVswXTsKICAgICAgICAgICAgcG9wdXBfN2YwMjBjOTBkYTYwNDNiYzk2ODU3OWVlNzZlM2FiNDkuc2V0Q29udGVudChodG1sXzY3YzkwMGRiYTRiMzRkNjJhM2NmZTEyZDc2YjNmZTU2KTsKICAgICAgICAKCiAgICAgICAgY2lyY2xlX21hcmtlcl80NWIyMjhmZWQ1Yjc0ZTgwYTVlZDU5ZTExZTVjMGQ5My5iaW5kUG9wdXAocG9wdXBfN2YwMjBjOTBkYTYwNDNiYzk2ODU3OWVlNzZlM2FiNDkpCiAgICAgICAgOwoKICAgICAgICAKICAgIAogICAgCiAgICAgICAgICAgIHZhciBjaXJjbGVfbWFya2VyXzI2NTBmNjBjMDliYzRjNTRiNjk3YWFlMjk0ZjkzNzNmID0gTC5jaXJjbGVNYXJrZXIoCiAgICAgICAgICAgICAgICBbNDMuNjQ4OTU5NywgLTc5LjQ1NjMyNV0sCiAgICAgICAgICAgICAgICB7ImJ1YmJsaW5nTW91c2VFdmVudHMiOiB0cnVlLCAiY29sb3IiOiAiYmx1ZSIsICJkYXNoQXJyYXkiOiBudWxsLCAiZGFzaE9mZnNldCI6IG51bGwsICJmaWxsIjogdHJ1ZSwgImZpbGxDb2xvciI6ICIjMzE4NmNjIiwgImZpbGxPcGFjaXR5IjogMC43LCAiZmlsbFJ1bGUiOiAiZXZlbm9kZCIsICJsaW5lQ2FwIjogInJvdW5kIiwgImxpbmVKb2luIjogInJvdW5kIiwgIm9wYWNpdHkiOiAxLjAsICJyYWRpdXMiOiA1LCAic3Ryb2tlIjogdHJ1ZSwgIndlaWdodCI6IDN9CiAgICAgICAgICAgICkuYWRkVG8obWFwXzk0OWJlN2ZmYzBkYTQ0NjNiMGY4NTQ1YjU3ZDM4N2IyKTsKICAgICAgICAKICAgIAogICAgICAgIHZhciBwb3B1cF9hMmM5YWVkOTAyYzI0YzI5OTg4N2Y4MGJkMjg5MGQ1NyA9IEwucG9wdXAoeyJtYXhXaWR0aCI6ICIxMDAlIn0pOwoKICAgICAgICAKICAgICAgICAgICAgdmFyIGh0bWxfZjgyZWVlNDY3NDVkNDEyNTg4MmIzMTA4MjNmYWY1ZTkgPSAkKGA8ZGl2IGlkPSJodG1sX2Y4MmVlZTQ2NzQ1ZDQxMjU4ODJiMzEwODIzZmFmNWU5IiBzdHlsZT0id2lkdGg6IDEwMC4wJTsgaGVpZ2h0OiAxMDAuMCU7Ij5Sb25jZXN2YWxsZXMsIFBhcmtkYWxlLCBXZXN0IFRvcm9udG88L2Rpdj5gKVswXTsKICAgICAgICAgICAgcG9wdXBfYTJjOWFlZDkwMmMyNGMyOTk4ODdmODBiZDI4OTBkNTcuc2V0Q29udGVudChodG1sX2Y4MmVlZTQ2NzQ1ZDQxMjU4ODJiMzEwODIzZmFmNWU5KTsKICAgICAgICAKCiAgICAgICAgY2lyY2xlX21hcmtlcl8yNjUwZjYwYzA5YmM0YzU0YjY5N2FhZTI5NGY5MzczZi5iaW5kUG9wdXAocG9wdXBfYTJjOWFlZDkwMmMyNGMyOTk4ODdmODBiZDI4OTBkNTcpCiAgICAgICAgOwoKICAgICAgICAKICAgIAogICAgCiAgICAgICAgICAgIHZhciBjaXJjbGVfbWFya2VyX2IxODczNDgyOGQ2NDQ4OTE5YTRlODY0NGMzOTFlNWJkID0gTC5jaXJjbGVNYXJrZXIoCiAgICAgICAgICAgICAgICBbNDMuNjUxNTcwNiwgLTc5LjQ4NDQ0OTldLAogICAgICAgICAgICAgICAgeyJidWJibGluZ01vdXNlRXZlbnRzIjogdHJ1ZSwgImNvbG9yIjogImJsdWUiLCAiZGFzaEFycmF5IjogbnVsbCwgImRhc2hPZmZzZXQiOiBudWxsLCAiZmlsbCI6IHRydWUsICJmaWxsQ29sb3IiOiAiIzMxODZjYyIsICJmaWxsT3BhY2l0eSI6IDAuNywgImZpbGxSdWxlIjogImV2ZW5vZGQiLCAibGluZUNhcCI6ICJyb3VuZCIsICJsaW5lSm9pbiI6ICJyb3VuZCIsICJvcGFjaXR5IjogMS4wLCAicmFkaXVzIjogNSwgInN0cm9rZSI6IHRydWUsICJ3ZWlnaHQiOiAzfQogICAgICAgICAgICApLmFkZFRvKG1hcF85NDliZTdmZmMwZGE0NDYzYjBmODU0NWI1N2QzODdiMik7CiAgICAgICAgCiAgICAKICAgICAgICB2YXIgcG9wdXBfMGMxYzZmYTIxZGVmNGYyNDkzNGYzN2YxYmJmMDY3NzcgPSBMLnBvcHVwKHsibWF4V2lkdGgiOiAiMTAwJSJ9KTsKCiAgICAgICAgCiAgICAgICAgICAgIHZhciBodG1sX2Q2ZDI0Mzk3ZDdiNjQ0ZTJiMDQ3YTQ2NmQzMzVmNDhhID0gJChgPGRpdiBpZD0iaHRtbF9kNmQyNDM5N2Q3YjY0NGUyYjA0N2E0NjZkMzM1ZjQ4YSIgc3R5bGU9IndpZHRoOiAxMDAuMCU7IGhlaWdodDogMTAwLjAlOyI+UnVubnltZWRlLCBTd2Fuc2VhLCBXZXN0IFRvcm9udG88L2Rpdj5gKVswXTsKICAgICAgICAgICAgcG9wdXBfMGMxYzZmYTIxZGVmNGYyNDkzNGYzN2YxYmJmMDY3Nzcuc2V0Q29udGVudChodG1sX2Q2ZDI0Mzk3ZDdiNjQ0ZTJiMDQ3YTQ2NmQzMzVmNDhhKTsKICAgICAgICAKCiAgICAgICAgY2lyY2xlX21hcmtlcl9iMTg3MzQ4MjhkNjQ0ODkxOWE0ZTg2NDRjMzkxZTViZC5iaW5kUG9wdXAocG9wdXBfMGMxYzZmYTIxZGVmNGYyNDkzNGYzN2YxYmJmMDY3NzcpCiAgICAgICAgOwoKICAgICAgICAKICAgIAogICAgCiAgICAgICAgICAgIHZhciBjaXJjbGVfbWFya2VyXzBkMjRiY2JmYTAyMDRlYjdhMTA5MDhlZjc0OWQ0ZTllID0gTC5jaXJjbGVNYXJrZXIoCiAgICAgICAgICAgICAgICBbNDMuNjYyNzQzOSwgLTc5LjMyMTU1OF0sCiAgICAgICAgICAgICAgICB7ImJ1YmJsaW5nTW91c2VFdmVudHMiOiB0cnVlLCAiY29sb3IiOiAiYmx1ZSIsICJkYXNoQXJyYXkiOiBudWxsLCAiZGFzaE9mZnNldCI6IG51bGwsICJmaWxsIjogdHJ1ZSwgImZpbGxDb2xvciI6ICIjMzE4NmNjIiwgImZpbGxPcGFjaXR5IjogMC43LCAiZmlsbFJ1bGUiOiAiZXZlbm9kZCIsICJsaW5lQ2FwIjogInJvdW5kIiwgImxpbmVKb2luIjogInJvdW5kIiwgIm9wYWNpdHkiOiAxLjAsICJyYWRpdXMiOiA1LCAic3Ryb2tlIjogdHJ1ZSwgIndlaWdodCI6IDN9CiAgICAgICAgICAgICkuYWRkVG8obWFwXzk0OWJlN2ZmYzBkYTQ0NjNiMGY4NTQ1YjU3ZDM4N2IyKTsKICAgICAgICAKICAgIAogICAgICAgIHZhciBwb3B1cF9iOGQ2NjcyMmM5YjQ0MTk0YTRjYjgxY2IxOTkzYTE3YiA9IEwucG9wdXAoeyJtYXhXaWR0aCI6ICIxMDAlIn0pOwoKICAgICAgICAKICAgICAgICAgICAgdmFyIGh0bWxfNmU3MTk5NTdkNGU1NDQ1MmI2M2NiMjg5Y2FlZWQ1ZWMgPSAkKGA8ZGl2IGlkPSJodG1sXzZlNzE5OTU3ZDRlNTQ0NTJiNjNjYjI4OWNhZWVkNWVjIiBzdHlsZT0id2lkdGg6IDEwMC4wJTsgaGVpZ2h0OiAxMDAuMCU7Ij5CdXNpbmVzcyBSZXBseSBNYWlsIFByb2Nlc3NpbmcgQ2VudHJlIDk2OSBFYXN0ZXJuLCBFYXN0IFRvcm9udG88L2Rpdj5gKVswXTsKICAgICAgICAgICAgcG9wdXBfYjhkNjY3MjJjOWI0NDE5NGE0Y2I4MWNiMTk5M2ExN2Iuc2V0Q29udGVudChodG1sXzZlNzE5OTU3ZDRlNTQ0NTJiNjNjYjI4OWNhZWVkNWVjKTsKICAgICAgICAKCiAgICAgICAgY2lyY2xlX21hcmtlcl8wZDI0YmNiZmEwMjA0ZWI3YTEwOTA4ZWY3NDlkNGU5ZS5iaW5kUG9wdXAocG9wdXBfYjhkNjY3MjJjOWI0NDE5NGE0Y2I4MWNiMTk5M2ExN2IpCiAgICAgICAgOwoKICAgICAgICAKICAgIAo8L3NjcmlwdD4=\" style=\"position:absolute;width:100%;height:100%;left:0;top:0;border:none !important;\" allowfullscreen webkitallowfullscreen mozallowfullscreen></iframe></div></div>"
      ],
      "text/plain": [
       "<folium.folium.Map at 0x7f99b8367710>"
      ]
     },
     "execution_count": 37,
     "metadata": {},
     "output_type": "execute_result"
    }
   ],
   "source": [
    "# create map of New York using latitude and longitude values\n",
    "map_toronto_filtered = folium.Map(location=[latitude, longitude], zoom_start=11)\n",
    "\n",
    "# add markers to map\n",
    "for lat, lng, borough, neighborhood in zip(toronto_data['Latitude'], toronto_data['Longitude'], toronto_data['Borough'], toronto_data['Neighborhood']):\n",
    "    label = '{}, {}'.format(neighborhood, borough)\n",
    "    label = folium.Popup(label, parse_html=True)\n",
    "    folium.CircleMarker(\n",
    "        [lat, lng],\n",
    "        radius=5,\n",
    "        popup=label,\n",
    "        color='blue',\n",
    "        fill=True,\n",
    "        fill_color='#3186cc',\n",
    "        fill_opacity=0.7,\n",
    "        parse_html=False).add_to(map_toronto_filtered)  \n",
    "    \n",
    "map_toronto_filtered"
   ]
  },
  {
   "cell_type": "markdown",
   "metadata": {},
   "source": [
    "#### Let's look at venues with foursquare to the locations we have"
   ]
  },
  {
   "cell_type": "code",
   "execution_count": 15,
   "metadata": {},
   "outputs": [],
   "source": [
    "# @hidden cell\n",
    "CLIENT_ID = '5LAMV3DNDHBER3VMUROMJNYRCJ5S35VSIB5BTJKJW2KHVG55' # your Foursquare ID\n",
    "CLIENT_SECRET = '3D5FLKFOOA41T5XPDDIZTLLWTPIJWAMVQIU3AS5POKUEV1BW' # your Foursquare Secret\n",
    "VERSION = '20180605' # Foursquare API version"
   ]
  },
  {
   "cell_type": "code",
   "execution_count": 16,
   "metadata": {},
   "outputs": [],
   "source": [
    "# some variables we need for the below functions\n",
    "\n",
    "LIMIT = 100 # limit of number of venues returned by Foursquare API\n",
    "radius = 500 # define radius"
   ]
  },
  {
   "cell_type": "markdown",
   "metadata": {},
   "source": [
    "#### Function to get venues to process all the neighborhoods in Toronto"
   ]
  },
  {
   "cell_type": "code",
   "execution_count": 17,
   "metadata": {},
   "outputs": [],
   "source": [
    "def getNearbyVenues(names, latitudes, longitudes, radius=500):\n",
    "    \n",
    "    venues_list=[]\n",
    "    for name, lat, lng in zip(names, latitudes, longitudes):\n",
    "        print(name)\n",
    "            \n",
    "        # create the API request URL\n",
    "        url = 'https://api.foursquare.com/v2/venues/explore?&client_id={}&client_secret={}&v={}&ll={},{}&radius={}&limit={}'.format(\n",
    "            CLIENT_ID, \n",
    "            CLIENT_SECRET, \n",
    "            VERSION, \n",
    "            lat, \n",
    "            lng, \n",
    "            radius, \n",
    "            LIMIT)\n",
    "            \n",
    "        # make the GET request\n",
    "        results = requests.get(url).json()[\"response\"]['groups'][0]['items']\n",
    "        \n",
    "        # return only relevant information for each nearby venue\n",
    "        venues_list.append([(\n",
    "            name, \n",
    "            lat, \n",
    "            lng, \n",
    "            v['venue']['name'], \n",
    "            v['venue']['location']['lat'], \n",
    "            v['venue']['location']['lng'],  \n",
    "            v['venue']['categories'][0]['name']) for v in results])\n",
    "\n",
    "    nearby_venues = pd.DataFrame([item for venue_list in venues_list for item in venue_list])\n",
    "    nearby_venues.columns = ['Neighborhood', \n",
    "                  'Neighborhood Latitude', \n",
    "                  'Neighborhood Longitude', \n",
    "                  'Venue', \n",
    "                  'Venue Latitude', \n",
    "                  'Venue Longitude', \n",
    "                  'Venue Category']\n",
    "    \n",
    "    return(nearby_venues)"
   ]
  },
  {
   "cell_type": "code",
   "execution_count": 18,
   "metadata": {
    "collapsed": true
   },
   "outputs": [
    {
     "name": "stdout",
     "output_type": "stream",
     "text": [
      "The Beaches\n",
      "Riverdale, The Danforth West\n",
      "The Beaches West, India Bazaar\n",
      "Studio District\n",
      "Lawrence Park\n",
      "Davisville North\n",
      "North Toronto West\n",
      "Davisville\n",
      "Summerhill East, Moore Park\n",
      "Forest Hill SE, Rathnelly, South Hill, Summerhill West, Deer Park\n",
      "Rosedale\n",
      "St. James Town, Cabbagetown\n",
      "Church and Wellesley\n",
      "Harbourfront, Regent Park\n",
      "Garden District, Ryerson\n",
      "St. James Town\n",
      "Berczy Park\n",
      "Central Bay Street\n",
      "Adelaide, Richmond, King\n",
      "Harbourfront East, Union Station, Toronto Islands\n",
      "Toronto Dominion Centre, Design Exchange\n",
      "Victoria Hotel, Commerce Court\n",
      "Roselawn\n",
      "Forest Hill North, Forest Hill West\n",
      "Yorkville, The Annex, North Midtown\n",
      "Harbord, University of Toronto\n",
      "Kensington Market, Grange Park, Chinatown\n",
      "Island airport, South Niagara, CN Tower, Railway Lands, Harbourfront West, Bathurst Quay, King and Spadina\n",
      "Stn A PO Boxes 25 The Esplanade\n",
      "First Canadian Place, Underground city\n",
      "Christie\n",
      "Dovercourt Village, Dufferin\n",
      "Trinity, Little Portugal\n",
      "Brockton, Parkdale Village, Exhibition Place\n",
      "High Park, The Junction South\n",
      "Roncesvalles, Parkdale\n",
      "Runnymede, Swansea\n",
      "Business Reply Mail Processing Centre 969 Eastern\n"
     ]
    }
   ],
   "source": [
    "#Apply the function\n",
    "toronto_venues = getNearbyVenues(names=toronto_data ['Neighborhood'],\n",
    "                                   latitudes=toronto_data ['Latitude'],\n",
    "                                   longitudes=toronto_data['Longitude'])"
   ]
  },
  {
   "cell_type": "markdown",
   "metadata": {},
   "source": [
    "#### So we got 1700 records returned with 7 columns"
   ]
  },
  {
   "cell_type": "code",
   "execution_count": 19,
   "metadata": {},
   "outputs": [
    {
     "name": "stdout",
     "output_type": "stream",
     "text": [
      "(1705, 7)\n"
     ]
    },
    {
     "data": {
      "text/html": [
       "<div>\n",
       "<style scoped>\n",
       "    .dataframe tbody tr th:only-of-type {\n",
       "        vertical-align: middle;\n",
       "    }\n",
       "\n",
       "    .dataframe tbody tr th {\n",
       "        vertical-align: top;\n",
       "    }\n",
       "\n",
       "    .dataframe thead th {\n",
       "        text-align: right;\n",
       "    }\n",
       "</style>\n",
       "<table border=\"1\" class=\"dataframe\">\n",
       "  <thead>\n",
       "    <tr style=\"text-align: right;\">\n",
       "      <th></th>\n",
       "      <th>Neighborhood</th>\n",
       "      <th>Neighborhood Latitude</th>\n",
       "      <th>Neighborhood Longitude</th>\n",
       "      <th>Venue</th>\n",
       "      <th>Venue Latitude</th>\n",
       "      <th>Venue Longitude</th>\n",
       "      <th>Venue Category</th>\n",
       "    </tr>\n",
       "  </thead>\n",
       "  <tbody>\n",
       "    <tr>\n",
       "      <th>0</th>\n",
       "      <td>The Beaches</td>\n",
       "      <td>43.676357</td>\n",
       "      <td>-79.293031</td>\n",
       "      <td>Glen Manor Ravine</td>\n",
       "      <td>43.676821</td>\n",
       "      <td>-79.293942</td>\n",
       "      <td>Trail</td>\n",
       "    </tr>\n",
       "    <tr>\n",
       "      <th>1</th>\n",
       "      <td>The Beaches</td>\n",
       "      <td>43.676357</td>\n",
       "      <td>-79.293031</td>\n",
       "      <td>The Big Carrot Natural Food Market</td>\n",
       "      <td>43.678879</td>\n",
       "      <td>-79.297734</td>\n",
       "      <td>Health Food Store</td>\n",
       "    </tr>\n",
       "    <tr>\n",
       "      <th>2</th>\n",
       "      <td>The Beaches</td>\n",
       "      <td>43.676357</td>\n",
       "      <td>-79.293031</td>\n",
       "      <td>Grover Pub and Grub</td>\n",
       "      <td>43.679181</td>\n",
       "      <td>-79.297215</td>\n",
       "      <td>Pub</td>\n",
       "    </tr>\n",
       "    <tr>\n",
       "      <th>3</th>\n",
       "      <td>The Beaches</td>\n",
       "      <td>43.676357</td>\n",
       "      <td>-79.293031</td>\n",
       "      <td>Upper Beaches</td>\n",
       "      <td>43.680563</td>\n",
       "      <td>-79.292869</td>\n",
       "      <td>Neighborhood</td>\n",
       "    </tr>\n",
       "    <tr>\n",
       "      <th>4</th>\n",
       "      <td>Riverdale, The Danforth West</td>\n",
       "      <td>43.679557</td>\n",
       "      <td>-79.352188</td>\n",
       "      <td>Pantheon</td>\n",
       "      <td>43.677621</td>\n",
       "      <td>-79.351434</td>\n",
       "      <td>Greek Restaurant</td>\n",
       "    </tr>\n",
       "  </tbody>\n",
       "</table>\n",
       "</div>"
      ],
      "text/plain": [
       "                   Neighborhood  Neighborhood Latitude  \\\n",
       "0                   The Beaches              43.676357   \n",
       "1                   The Beaches              43.676357   \n",
       "2                   The Beaches              43.676357   \n",
       "3                   The Beaches              43.676357   \n",
       "4  Riverdale, The Danforth West              43.679557   \n",
       "\n",
       "   Neighborhood Longitude                               Venue  Venue Latitude  \\\n",
       "0              -79.293031                   Glen Manor Ravine       43.676821   \n",
       "1              -79.293031  The Big Carrot Natural Food Market       43.678879   \n",
       "2              -79.293031                 Grover Pub and Grub       43.679181   \n",
       "3              -79.293031                       Upper Beaches       43.680563   \n",
       "4              -79.352188                            Pantheon       43.677621   \n",
       "\n",
       "   Venue Longitude     Venue Category  \n",
       "0       -79.293942              Trail  \n",
       "1       -79.297734  Health Food Store  \n",
       "2       -79.297215                Pub  \n",
       "3       -79.292869       Neighborhood  \n",
       "4       -79.351434   Greek Restaurant  "
      ]
     },
     "execution_count": 19,
     "metadata": {},
     "output_type": "execute_result"
    }
   ],
   "source": [
    "print(toronto_venues.shape)\n",
    "toronto_venues.head()"
   ]
  },
  {
   "cell_type": "markdown",
   "metadata": {},
   "source": [
    "#### We continue to analyse the neighborhoods"
   ]
  },
  {
   "cell_type": "code",
   "execution_count": 20,
   "metadata": {},
   "outputs": [
    {
     "data": {
      "text/html": [
       "<div>\n",
       "<style scoped>\n",
       "    .dataframe tbody tr th:only-of-type {\n",
       "        vertical-align: middle;\n",
       "    }\n",
       "\n",
       "    .dataframe tbody tr th {\n",
       "        vertical-align: top;\n",
       "    }\n",
       "\n",
       "    .dataframe thead th {\n",
       "        text-align: right;\n",
       "    }\n",
       "</style>\n",
       "<table border=\"1\" class=\"dataframe\">\n",
       "  <thead>\n",
       "    <tr style=\"text-align: right;\">\n",
       "      <th></th>\n",
       "      <th>Yoga Studio</th>\n",
       "      <th>Afghan Restaurant</th>\n",
       "      <th>Airport</th>\n",
       "      <th>Airport Food Court</th>\n",
       "      <th>Airport Gate</th>\n",
       "      <th>Airport Lounge</th>\n",
       "      <th>Airport Service</th>\n",
       "      <th>Airport Terminal</th>\n",
       "      <th>American Restaurant</th>\n",
       "      <th>Antique Shop</th>\n",
       "      <th>...</th>\n",
       "      <th>Theme Restaurant</th>\n",
       "      <th>Thrift / Vintage Store</th>\n",
       "      <th>Toy / Game Store</th>\n",
       "      <th>Trail</th>\n",
       "      <th>Train Station</th>\n",
       "      <th>Vegetarian / Vegan Restaurant</th>\n",
       "      <th>Video Game Store</th>\n",
       "      <th>Vietnamese Restaurant</th>\n",
       "      <th>Wine Bar</th>\n",
       "      <th>Wings Joint</th>\n",
       "    </tr>\n",
       "  </thead>\n",
       "  <tbody>\n",
       "    <tr>\n",
       "      <th>0</th>\n",
       "      <td>0</td>\n",
       "      <td>0</td>\n",
       "      <td>0</td>\n",
       "      <td>0</td>\n",
       "      <td>0</td>\n",
       "      <td>0</td>\n",
       "      <td>0</td>\n",
       "      <td>0</td>\n",
       "      <td>0</td>\n",
       "      <td>0</td>\n",
       "      <td>...</td>\n",
       "      <td>0</td>\n",
       "      <td>0</td>\n",
       "      <td>0</td>\n",
       "      <td>1</td>\n",
       "      <td>0</td>\n",
       "      <td>0</td>\n",
       "      <td>0</td>\n",
       "      <td>0</td>\n",
       "      <td>0</td>\n",
       "      <td>0</td>\n",
       "    </tr>\n",
       "    <tr>\n",
       "      <th>1</th>\n",
       "      <td>0</td>\n",
       "      <td>0</td>\n",
       "      <td>0</td>\n",
       "      <td>0</td>\n",
       "      <td>0</td>\n",
       "      <td>0</td>\n",
       "      <td>0</td>\n",
       "      <td>0</td>\n",
       "      <td>0</td>\n",
       "      <td>0</td>\n",
       "      <td>...</td>\n",
       "      <td>0</td>\n",
       "      <td>0</td>\n",
       "      <td>0</td>\n",
       "      <td>0</td>\n",
       "      <td>0</td>\n",
       "      <td>0</td>\n",
       "      <td>0</td>\n",
       "      <td>0</td>\n",
       "      <td>0</td>\n",
       "      <td>0</td>\n",
       "    </tr>\n",
       "    <tr>\n",
       "      <th>2</th>\n",
       "      <td>0</td>\n",
       "      <td>0</td>\n",
       "      <td>0</td>\n",
       "      <td>0</td>\n",
       "      <td>0</td>\n",
       "      <td>0</td>\n",
       "      <td>0</td>\n",
       "      <td>0</td>\n",
       "      <td>0</td>\n",
       "      <td>0</td>\n",
       "      <td>...</td>\n",
       "      <td>0</td>\n",
       "      <td>0</td>\n",
       "      <td>0</td>\n",
       "      <td>0</td>\n",
       "      <td>0</td>\n",
       "      <td>0</td>\n",
       "      <td>0</td>\n",
       "      <td>0</td>\n",
       "      <td>0</td>\n",
       "      <td>0</td>\n",
       "    </tr>\n",
       "    <tr>\n",
       "      <th>3</th>\n",
       "      <td>0</td>\n",
       "      <td>0</td>\n",
       "      <td>0</td>\n",
       "      <td>0</td>\n",
       "      <td>0</td>\n",
       "      <td>0</td>\n",
       "      <td>0</td>\n",
       "      <td>0</td>\n",
       "      <td>0</td>\n",
       "      <td>0</td>\n",
       "      <td>...</td>\n",
       "      <td>0</td>\n",
       "      <td>0</td>\n",
       "      <td>0</td>\n",
       "      <td>0</td>\n",
       "      <td>0</td>\n",
       "      <td>0</td>\n",
       "      <td>0</td>\n",
       "      <td>0</td>\n",
       "      <td>0</td>\n",
       "      <td>0</td>\n",
       "    </tr>\n",
       "    <tr>\n",
       "      <th>4</th>\n",
       "      <td>0</td>\n",
       "      <td>0</td>\n",
       "      <td>0</td>\n",
       "      <td>0</td>\n",
       "      <td>0</td>\n",
       "      <td>0</td>\n",
       "      <td>0</td>\n",
       "      <td>0</td>\n",
       "      <td>0</td>\n",
       "      <td>0</td>\n",
       "      <td>...</td>\n",
       "      <td>0</td>\n",
       "      <td>0</td>\n",
       "      <td>0</td>\n",
       "      <td>0</td>\n",
       "      <td>0</td>\n",
       "      <td>0</td>\n",
       "      <td>0</td>\n",
       "      <td>0</td>\n",
       "      <td>0</td>\n",
       "      <td>0</td>\n",
       "    </tr>\n",
       "  </tbody>\n",
       "</table>\n",
       "<p>5 rows × 234 columns</p>\n",
       "</div>"
      ],
      "text/plain": [
       "   Yoga Studio  Afghan Restaurant  Airport  Airport Food Court  Airport Gate  \\\n",
       "0            0                  0        0                   0             0   \n",
       "1            0                  0        0                   0             0   \n",
       "2            0                  0        0                   0             0   \n",
       "3            0                  0        0                   0             0   \n",
       "4            0                  0        0                   0             0   \n",
       "\n",
       "   Airport Lounge  Airport Service  Airport Terminal  American Restaurant  \\\n",
       "0               0                0                 0                    0   \n",
       "1               0                0                 0                    0   \n",
       "2               0                0                 0                    0   \n",
       "3               0                0                 0                    0   \n",
       "4               0                0                 0                    0   \n",
       "\n",
       "   Antique Shop  ...  Theme Restaurant  Thrift / Vintage Store  \\\n",
       "0             0  ...                 0                       0   \n",
       "1             0  ...                 0                       0   \n",
       "2             0  ...                 0                       0   \n",
       "3             0  ...                 0                       0   \n",
       "4             0  ...                 0                       0   \n",
       "\n",
       "   Toy / Game Store  Trail  Train Station  Vegetarian / Vegan Restaurant  \\\n",
       "0                 0      1              0                              0   \n",
       "1                 0      0              0                              0   \n",
       "2                 0      0              0                              0   \n",
       "3                 0      0              0                              0   \n",
       "4                 0      0              0                              0   \n",
       "\n",
       "   Video Game Store  Vietnamese Restaurant  Wine Bar  Wings Joint  \n",
       "0                 0                      0         0            0  \n",
       "1                 0                      0         0            0  \n",
       "2                 0                      0         0            0  \n",
       "3                 0                      0         0            0  \n",
       "4                 0                      0         0            0  \n",
       "\n",
       "[5 rows x 234 columns]"
      ]
     },
     "execution_count": 20,
     "metadata": {},
     "output_type": "execute_result"
    }
   ],
   "source": [
    "# one hot encoding\n",
    "toronto_onehot = pd.get_dummies(toronto_venues[['Venue Category']], prefix=\"\", prefix_sep=\"\")\n",
    "\n",
    "# add neighborhood column back to dataframe\n",
    "toronto_onehot['Neighborhood'] = toronto_venues['Neighborhood'] \n",
    "\n",
    "# move neighborhood column to the first column\n",
    "fixed_columns = [toronto_onehot.columns[-1]] + list(toronto_onehot.columns[:-1])\n",
    "toronto_onehot = toronto_onehot[fixed_columns]\n",
    "\n",
    "toronto_onehot.head()"
   ]
  },
  {
   "cell_type": "code",
   "execution_count": 21,
   "metadata": {},
   "outputs": [
    {
     "data": {
      "text/plain": [
       "(1705, 234)"
      ]
     },
     "execution_count": 21,
     "metadata": {},
     "output_type": "execute_result"
    }
   ],
   "source": [
    "toronto_onehot.shape"
   ]
  },
  {
   "cell_type": "markdown",
   "metadata": {},
   "source": [
    "#### So got the categories converted to numerical values and transposed them into columns. We have 1700 records with 234 Venues categories\n",
    "\n",
    "##### We group them by Neigborhood  and that will leave us with 38 neighborhoods with 234 venue categories"
   ]
  },
  {
   "cell_type": "code",
   "execution_count": 22,
   "metadata": {},
   "outputs": [
    {
     "data": {
      "text/plain": [
       "(38, 234)"
      ]
     },
     "execution_count": 22,
     "metadata": {},
     "output_type": "execute_result"
    }
   ],
   "source": [
    "toronto_grouped = toronto_onehot.groupby('Neighborhood').mean().reset_index()\n",
    "toronto_grouped.shape"
   ]
  },
  {
   "cell_type": "markdown",
   "metadata": {},
   "source": [
    "#### That is a lot to process so we will get the top 10 venues for each neighborhood"
   ]
  },
  {
   "cell_type": "code",
   "execution_count": 23,
   "metadata": {},
   "outputs": [],
   "source": [
    "def return_most_common_venues(row, num_top_venues):\n",
    "    row_categories = row.iloc[1:]\n",
    "    row_categories_sorted = row_categories.sort_values(ascending=False)\n",
    "    return row_categories_sorted.index.values[0:num_top_venues]"
   ]
  },
  {
   "cell_type": "code",
   "execution_count": 24,
   "metadata": {},
   "outputs": [
    {
     "data": {
      "text/html": [
       "<div>\n",
       "<style scoped>\n",
       "    .dataframe tbody tr th:only-of-type {\n",
       "        vertical-align: middle;\n",
       "    }\n",
       "\n",
       "    .dataframe tbody tr th {\n",
       "        vertical-align: top;\n",
       "    }\n",
       "\n",
       "    .dataframe thead th {\n",
       "        text-align: right;\n",
       "    }\n",
       "</style>\n",
       "<table border=\"1\" class=\"dataframe\">\n",
       "  <thead>\n",
       "    <tr style=\"text-align: right;\">\n",
       "      <th></th>\n",
       "      <th>Neighborhood</th>\n",
       "      <th>1st Most Common Venue</th>\n",
       "      <th>2nd Most Common Venue</th>\n",
       "      <th>3rd Most Common Venue</th>\n",
       "      <th>4th Most Common Venue</th>\n",
       "      <th>5th Most Common Venue</th>\n",
       "      <th>6th Most Common Venue</th>\n",
       "      <th>7th Most Common Venue</th>\n",
       "      <th>8th Most Common Venue</th>\n",
       "      <th>9th Most Common Venue</th>\n",
       "      <th>10th Most Common Venue</th>\n",
       "    </tr>\n",
       "  </thead>\n",
       "  <tbody>\n",
       "    <tr>\n",
       "      <th>0</th>\n",
       "      <td>Adelaide, Richmond, King</td>\n",
       "      <td>Coffee Shop</td>\n",
       "      <td>Café</td>\n",
       "      <td>Bar</td>\n",
       "      <td>Steakhouse</td>\n",
       "      <td>Cosmetics Shop</td>\n",
       "      <td>Thai Restaurant</td>\n",
       "      <td>Restaurant</td>\n",
       "      <td>Hotel</td>\n",
       "      <td>Burger Joint</td>\n",
       "      <td>Asian Restaurant</td>\n",
       "    </tr>\n",
       "    <tr>\n",
       "      <th>1</th>\n",
       "      <td>Berczy Park</td>\n",
       "      <td>Coffee Shop</td>\n",
       "      <td>Cocktail Bar</td>\n",
       "      <td>Farmers Market</td>\n",
       "      <td>Beer Bar</td>\n",
       "      <td>Bakery</td>\n",
       "      <td>Steakhouse</td>\n",
       "      <td>Cheese Shop</td>\n",
       "      <td>Café</td>\n",
       "      <td>Seafood Restaurant</td>\n",
       "      <td>Italian Restaurant</td>\n",
       "    </tr>\n",
       "    <tr>\n",
       "      <th>2</th>\n",
       "      <td>Brockton, Parkdale Village, Exhibition Place</td>\n",
       "      <td>Coffee Shop</td>\n",
       "      <td>Café</td>\n",
       "      <td>Breakfast Spot</td>\n",
       "      <td>Grocery Store</td>\n",
       "      <td>Intersection</td>\n",
       "      <td>Convenience Store</td>\n",
       "      <td>Pet Store</td>\n",
       "      <td>Gym</td>\n",
       "      <td>Climbing Gym</td>\n",
       "      <td>Caribbean Restaurant</td>\n",
       "    </tr>\n",
       "  </tbody>\n",
       "</table>\n",
       "</div>"
      ],
      "text/plain": [
       "                                   Neighborhood 1st Most Common Venue  \\\n",
       "0                      Adelaide, Richmond, King           Coffee Shop   \n",
       "1                                   Berczy Park           Coffee Shop   \n",
       "2  Brockton, Parkdale Village, Exhibition Place           Coffee Shop   \n",
       "\n",
       "  2nd Most Common Venue 3rd Most Common Venue 4th Most Common Venue  \\\n",
       "0                  Café                   Bar            Steakhouse   \n",
       "1          Cocktail Bar        Farmers Market              Beer Bar   \n",
       "2                  Café        Breakfast Spot         Grocery Store   \n",
       "\n",
       "  5th Most Common Venue 6th Most Common Venue 7th Most Common Venue  \\\n",
       "0        Cosmetics Shop       Thai Restaurant            Restaurant   \n",
       "1                Bakery            Steakhouse           Cheese Shop   \n",
       "2          Intersection     Convenience Store             Pet Store   \n",
       "\n",
       "  8th Most Common Venue 9th Most Common Venue 10th Most Common Venue  \n",
       "0                 Hotel          Burger Joint       Asian Restaurant  \n",
       "1                  Café    Seafood Restaurant     Italian Restaurant  \n",
       "2                   Gym          Climbing Gym   Caribbean Restaurant  "
      ]
     },
     "execution_count": 24,
     "metadata": {},
     "output_type": "execute_result"
    }
   ],
   "source": [
    "num_top_venues = 10\n",
    "\n",
    "indicators = ['st', 'nd', 'rd']\n",
    "\n",
    "# create columns according to number of top venues\n",
    "columns = ['Neighborhood']\n",
    "for ind in np.arange(num_top_venues):\n",
    "    try:\n",
    "        columns.append('{}{} Most Common Venue'.format(ind+1, indicators[ind]))\n",
    "    except:\n",
    "        columns.append('{}th Most Common Venue'.format(ind+1))\n",
    "\n",
    "# create a new dataframe\n",
    "neighborhoods_venues_sorted = pd.DataFrame(columns=columns)\n",
    "neighborhoods_venues_sorted['Neighborhood'] = toronto_grouped['Neighborhood']\n",
    "\n",
    "for ind in np.arange(toronto_grouped.shape[0]):\n",
    "    neighborhoods_venues_sorted.iloc[ind, 1:] = return_most_common_venues(toronto_grouped.iloc[ind, :], num_top_venues)\n",
    "\n",
    "neighborhoods_venues_sorted.head(3)"
   ]
  },
  {
   "cell_type": "markdown",
   "metadata": {},
   "source": [
    "#### We will now cluster the neighborhood with *k*-means into 5 clusters"
   ]
  },
  {
   "cell_type": "code",
   "execution_count": 25,
   "metadata": {},
   "outputs": [
    {
     "data": {
      "text/plain": [
       "array([0, 0, 0, 0, 0, 0, 0, 0, 0, 0], dtype=int32)"
      ]
     },
     "execution_count": 25,
     "metadata": {},
     "output_type": "execute_result"
    }
   ],
   "source": [
    "# set number of clusters\n",
    "kclusters = 5\n",
    "\n",
    "toronto_grouped_clustering = toronto_grouped.drop('Neighborhood', 1)\n",
    "\n",
    "# run k-means clustering\n",
    "kmeans = KMeans(n_clusters=kclusters, random_state=0).fit(toronto_grouped_clustering)\n",
    "\n",
    "# check cluster labels generated for each row in the dataframe\n",
    "kmeans.labels_[0:10] "
   ]
  },
  {
   "cell_type": "code",
   "execution_count": 26,
   "metadata": {},
   "outputs": [],
   "source": [
    "kmeans_labels = kmeans.labels_"
   ]
  },
  {
   "cell_type": "markdown",
   "metadata": {},
   "source": [
    "#### Let's add the clusters back to the neighborhoods and venues"
   ]
  },
  {
   "cell_type": "code",
   "execution_count": 27,
   "metadata": {},
   "outputs": [
    {
     "data": {
      "text/html": [
       "<div>\n",
       "<style scoped>\n",
       "    .dataframe tbody tr th:only-of-type {\n",
       "        vertical-align: middle;\n",
       "    }\n",
       "\n",
       "    .dataframe tbody tr th {\n",
       "        vertical-align: top;\n",
       "    }\n",
       "\n",
       "    .dataframe thead th {\n",
       "        text-align: right;\n",
       "    }\n",
       "</style>\n",
       "<table border=\"1\" class=\"dataframe\">\n",
       "  <thead>\n",
       "    <tr style=\"text-align: right;\">\n",
       "      <th></th>\n",
       "      <th>PostalCode</th>\n",
       "      <th>Borough</th>\n",
       "      <th>Neighborhood</th>\n",
       "      <th>Latitude</th>\n",
       "      <th>Longitude</th>\n",
       "      <th>Cluster Labels</th>\n",
       "      <th>1st Most Common Venue</th>\n",
       "      <th>2nd Most Common Venue</th>\n",
       "      <th>3rd Most Common Venue</th>\n",
       "      <th>4th Most Common Venue</th>\n",
       "      <th>5th Most Common Venue</th>\n",
       "      <th>6th Most Common Venue</th>\n",
       "      <th>7th Most Common Venue</th>\n",
       "      <th>8th Most Common Venue</th>\n",
       "      <th>9th Most Common Venue</th>\n",
       "      <th>10th Most Common Venue</th>\n",
       "    </tr>\n",
       "  </thead>\n",
       "  <tbody>\n",
       "    <tr>\n",
       "      <th>0</th>\n",
       "      <td>M4E</td>\n",
       "      <td>East Toronto</td>\n",
       "      <td>The Beaches</td>\n",
       "      <td>43.676357</td>\n",
       "      <td>-79.293031</td>\n",
       "      <td>0</td>\n",
       "      <td>Health Food Store</td>\n",
       "      <td>Trail</td>\n",
       "      <td>Pub</td>\n",
       "      <td>Dessert Shop</td>\n",
       "      <td>Falafel Restaurant</td>\n",
       "      <td>Event Space</td>\n",
       "      <td>Ethiopian Restaurant</td>\n",
       "      <td>Electronics Store</td>\n",
       "      <td>Eastern European Restaurant</td>\n",
       "      <td>Dumpling Restaurant</td>\n",
       "    </tr>\n",
       "    <tr>\n",
       "      <th>1</th>\n",
       "      <td>M4K</td>\n",
       "      <td>East Toronto</td>\n",
       "      <td>Riverdale, The Danforth West</td>\n",
       "      <td>43.679557</td>\n",
       "      <td>-79.352188</td>\n",
       "      <td>0</td>\n",
       "      <td>Greek Restaurant</td>\n",
       "      <td>Coffee Shop</td>\n",
       "      <td>Italian Restaurant</td>\n",
       "      <td>Furniture / Home Store</td>\n",
       "      <td>Ice Cream Shop</td>\n",
       "      <td>Caribbean Restaurant</td>\n",
       "      <td>Bookstore</td>\n",
       "      <td>Brewery</td>\n",
       "      <td>Bubble Tea Shop</td>\n",
       "      <td>Burger Joint</td>\n",
       "    </tr>\n",
       "    <tr>\n",
       "      <th>2</th>\n",
       "      <td>M4L</td>\n",
       "      <td>East Toronto</td>\n",
       "      <td>The Beaches West, India Bazaar</td>\n",
       "      <td>43.668999</td>\n",
       "      <td>-79.315572</td>\n",
       "      <td>0</td>\n",
       "      <td>Park</td>\n",
       "      <td>Movie Theater</td>\n",
       "      <td>Liquor Store</td>\n",
       "      <td>Board Shop</td>\n",
       "      <td>Sandwich Place</td>\n",
       "      <td>Burger Joint</td>\n",
       "      <td>Fast Food Restaurant</td>\n",
       "      <td>Burrito Place</td>\n",
       "      <td>Fish &amp; Chips Shop</td>\n",
       "      <td>Steakhouse</td>\n",
       "    </tr>\n",
       "    <tr>\n",
       "      <th>3</th>\n",
       "      <td>M4M</td>\n",
       "      <td>East Toronto</td>\n",
       "      <td>Studio District</td>\n",
       "      <td>43.659526</td>\n",
       "      <td>-79.340923</td>\n",
       "      <td>0</td>\n",
       "      <td>Café</td>\n",
       "      <td>Coffee Shop</td>\n",
       "      <td>American Restaurant</td>\n",
       "      <td>Italian Restaurant</td>\n",
       "      <td>Bakery</td>\n",
       "      <td>Seafood Restaurant</td>\n",
       "      <td>Latin American Restaurant</td>\n",
       "      <td>Coworking Space</td>\n",
       "      <td>Bookstore</td>\n",
       "      <td>Diner</td>\n",
       "    </tr>\n",
       "    <tr>\n",
       "      <th>4</th>\n",
       "      <td>M4N</td>\n",
       "      <td>Central Toronto</td>\n",
       "      <td>Lawrence Park</td>\n",
       "      <td>43.728020</td>\n",
       "      <td>-79.388790</td>\n",
       "      <td>4</td>\n",
       "      <td>Park</td>\n",
       "      <td>Jewelry Store</td>\n",
       "      <td>Swim School</td>\n",
       "      <td>Bus Line</td>\n",
       "      <td>Wings Joint</td>\n",
       "      <td>Discount Store</td>\n",
       "      <td>Falafel Restaurant</td>\n",
       "      <td>Event Space</td>\n",
       "      <td>Ethiopian Restaurant</td>\n",
       "      <td>Electronics Store</td>\n",
       "    </tr>\n",
       "  </tbody>\n",
       "</table>\n",
       "</div>"
      ],
      "text/plain": [
       "  PostalCode          Borough                    Neighborhood   Latitude  \\\n",
       "0        M4E     East Toronto                     The Beaches  43.676357   \n",
       "1        M4K     East Toronto    Riverdale, The Danforth West  43.679557   \n",
       "2        M4L     East Toronto  The Beaches West, India Bazaar  43.668999   \n",
       "3        M4M     East Toronto                 Studio District  43.659526   \n",
       "4        M4N  Central Toronto                   Lawrence Park  43.728020   \n",
       "\n",
       "   Longitude  Cluster Labels 1st Most Common Venue 2nd Most Common Venue  \\\n",
       "0 -79.293031               0     Health Food Store                 Trail   \n",
       "1 -79.352188               0      Greek Restaurant           Coffee Shop   \n",
       "2 -79.315572               0                  Park         Movie Theater   \n",
       "3 -79.340923               0                  Café           Coffee Shop   \n",
       "4 -79.388790               4                  Park         Jewelry Store   \n",
       "\n",
       "  3rd Most Common Venue   4th Most Common Venue 5th Most Common Venue  \\\n",
       "0                   Pub            Dessert Shop    Falafel Restaurant   \n",
       "1    Italian Restaurant  Furniture / Home Store        Ice Cream Shop   \n",
       "2          Liquor Store              Board Shop        Sandwich Place   \n",
       "3   American Restaurant      Italian Restaurant                Bakery   \n",
       "4           Swim School                Bus Line           Wings Joint   \n",
       "\n",
       "  6th Most Common Venue      7th Most Common Venue 8th Most Common Venue  \\\n",
       "0           Event Space       Ethiopian Restaurant     Electronics Store   \n",
       "1  Caribbean Restaurant                  Bookstore               Brewery   \n",
       "2          Burger Joint       Fast Food Restaurant         Burrito Place   \n",
       "3    Seafood Restaurant  Latin American Restaurant       Coworking Space   \n",
       "4        Discount Store         Falafel Restaurant           Event Space   \n",
       "\n",
       "         9th Most Common Venue 10th Most Common Venue  \n",
       "0  Eastern European Restaurant    Dumpling Restaurant  \n",
       "1              Bubble Tea Shop           Burger Joint  \n",
       "2            Fish & Chips Shop             Steakhouse  \n",
       "3                    Bookstore                  Diner  \n",
       "4         Ethiopian Restaurant      Electronics Store  "
      ]
     },
     "execution_count": 27,
     "metadata": {},
     "output_type": "execute_result"
    }
   ],
   "source": [
    "# add clustering labels\n",
    "neighborhoods_venues_sorted.insert(0, 'Cluster Labels', kmeans_labels)\n",
    "\n",
    "toronto_merged = toronto_data\n",
    "\n",
    "# merge toronto_grouped with toronto_data to add latitude/longitude for each neighborhood\n",
    "toronto_merged = toronto_merged.join(neighborhoods_venues_sorted.set_index('Neighborhood'), on='Neighborhood')\n",
    "\n",
    "toronto_merged.head()"
   ]
  },
  {
   "cell_type": "markdown",
   "metadata": {},
   "source": [
    "##### Finally, let's visualize the resulting clusters"
   ]
  },
  {
   "cell_type": "code",
   "execution_count": 28,
   "metadata": {},
   "outputs": [
    {
     "data": {
      "text/html": [
       "<div style=\"width:100%;\"><div style=\"position:relative;width:100%;height:0;padding-bottom:60%;\"><iframe src=\"data:text/html;charset=utf-8;base64,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\" style=\"position:absolute;width:100%;height:100%;left:0;top:0;border:none !important;\" allowfullscreen webkitallowfullscreen mozallowfullscreen></iframe></div></div>"
      ],
      "text/plain": [
       "<folium.folium.Map at 0x7f99b995cfd0>"
      ]
     },
     "execution_count": 28,
     "metadata": {},
     "output_type": "execute_result"
    }
   ],
   "source": [
    "# create map\n",
    "map_clusters = folium.Map(location=[latitude, longitude], zoom_start=12)\n",
    "\n",
    "# set color scheme for the clusters\n",
    "x = np.arange(kclusters)\n",
    "ys = [i + x + (i*x)**2 for i in range(kclusters)]\n",
    "colors_array = cm.rainbow(np.linspace(0, 1, len(ys)))\n",
    "rainbow = [colors.rgb2hex(i) for i in colors_array]\n",
    "\n",
    "# add markers to the map\n",
    "markers_colors = []\n",
    "for lat, lon, poi, cluster in zip(toronto_merged['Latitude'], toronto_merged['Longitude'], toronto_merged['Neighborhood'], toronto_merged['Cluster Labels']):\n",
    "    label = folium.Popup(str(poi) + ' Cluster ' + str(cluster), parse_html=True)\n",
    "    folium.CircleMarker(\n",
    "        [lat, lon],\n",
    "        radius=5,\n",
    "        popup=label,\n",
    "        color=rainbow[cluster-1],\n",
    "        fill=True,\n",
    "        fill_color=rainbow[cluster-1],\n",
    "        fill_opacity=0.7).add_to(map_clusters)\n",
    "       \n",
    "map_clusters"
   ]
  },
  {
   "cell_type": "markdown",
   "metadata": {},
   "source": [
    "#### The question then is what do the clusters represent. What is in those various clusters so we can name them better than Cluster 0-4\n",
    "\n",
    "##### We will filter the toronto_merged frame into their respective variable so we analyse further"
   ]
  },
  {
   "cell_type": "code",
   "execution_count": 29,
   "metadata": {},
   "outputs": [],
   "source": [
    "label_0 = toronto_merged.loc[toronto_merged['Cluster Labels'] == 0, toronto_merged.columns[[1] + list(range(5, toronto_merged.shape[1]))]]\n",
    "label_1 = toronto_merged.loc[toronto_merged['Cluster Labels'] == 1, toronto_merged.columns[[1] + list(range(5, toronto_merged.shape[1]))]]\n",
    "label_2 = toronto_merged.loc[toronto_merged['Cluster Labels'] == 2, toronto_merged.columns[[1] + list(range(5, toronto_merged.shape[1]))]]\n",
    "label_3 = toronto_merged.loc[toronto_merged['Cluster Labels'] == 3, toronto_merged.columns[[1] + list(range(5, toronto_merged.shape[1]))]]\n",
    "label_4 = toronto_merged.loc[toronto_merged['Cluster Labels'] == 4, toronto_merged.columns[[1] + list(range(5, toronto_merged.shape[1]))]]"
   ]
  },
  {
   "cell_type": "markdown",
   "metadata": {},
   "source": [
    "#### I'm not exactly sure how to find the common ground in the various clusters"
   ]
  },
  {
   "cell_type": "code",
   "execution_count": 30,
   "metadata": {},
   "outputs": [],
   "source": [
    "venues_columns = neighborhoods_venues_sorted.columns\n",
    "venues_columns = venues_columns.drop(['Cluster Labels','Neighborhood'])"
   ]
  },
  {
   "cell_type": "code",
   "execution_count": 39,
   "metadata": {},
   "outputs": [
    {
     "data": {
      "text/html": [
       "<div>\n",
       "<style scoped>\n",
       "    .dataframe tbody tr th:only-of-type {\n",
       "        vertical-align: middle;\n",
       "    }\n",
       "\n",
       "    .dataframe tbody tr th {\n",
       "        vertical-align: top;\n",
       "    }\n",
       "\n",
       "    .dataframe thead th {\n",
       "        text-align: right;\n",
       "    }\n",
       "</style>\n",
       "<table border=\"1\" class=\"dataframe\">\n",
       "  <thead>\n",
       "    <tr style=\"text-align: right;\">\n",
       "      <th></th>\n",
       "      <th>Borough</th>\n",
       "      <th>Cluster Labels</th>\n",
       "      <th>1st Most Common Venue</th>\n",
       "      <th>2nd Most Common Venue</th>\n",
       "      <th>3rd Most Common Venue</th>\n",
       "      <th>4th Most Common Venue</th>\n",
       "      <th>5th Most Common Venue</th>\n",
       "      <th>6th Most Common Venue</th>\n",
       "      <th>7th Most Common Venue</th>\n",
       "      <th>8th Most Common Venue</th>\n",
       "      <th>9th Most Common Venue</th>\n",
       "      <th>10th Most Common Venue</th>\n",
       "    </tr>\n",
       "  </thead>\n",
       "  <tbody>\n",
       "    <tr>\n",
       "      <th>22</th>\n",
       "      <td>Central Toronto</td>\n",
       "      <td>1</td>\n",
       "      <td>Garden</td>\n",
       "      <td>Dessert Shop</td>\n",
       "      <td>Falafel Restaurant</td>\n",
       "      <td>Event Space</td>\n",
       "      <td>Ethiopian Restaurant</td>\n",
       "      <td>Electronics Store</td>\n",
       "      <td>Eastern European Restaurant</td>\n",
       "      <td>Dumpling Restaurant</td>\n",
       "      <td>Donut Shop</td>\n",
       "      <td>Doner Restaurant</td>\n",
       "    </tr>\n",
       "  </tbody>\n",
       "</table>\n",
       "</div>"
      ],
      "text/plain": [
       "            Borough  Cluster Labels 1st Most Common Venue  \\\n",
       "22  Central Toronto               1                Garden   \n",
       "\n",
       "   2nd Most Common Venue 3rd Most Common Venue 4th Most Common Venue  \\\n",
       "22          Dessert Shop    Falafel Restaurant           Event Space   \n",
       "\n",
       "   5th Most Common Venue 6th Most Common Venue        7th Most Common Venue  \\\n",
       "22  Ethiopian Restaurant     Electronics Store  Eastern European Restaurant   \n",
       "\n",
       "   8th Most Common Venue 9th Most Common Venue 10th Most Common Venue  \n",
       "22   Dumpling Restaurant            Donut Shop       Doner Restaurant  "
      ]
     },
     "execution_count": 39,
     "metadata": {},
     "output_type": "execute_result"
    }
   ],
   "source": [
    "label_1.head()"
   ]
  },
  {
   "cell_type": "code",
   "execution_count": 40,
   "metadata": {},
   "outputs": [
    {
     "data": {
      "text/html": [
       "<div>\n",
       "<style scoped>\n",
       "    .dataframe tbody tr th:only-of-type {\n",
       "        vertical-align: middle;\n",
       "    }\n",
       "\n",
       "    .dataframe tbody tr th {\n",
       "        vertical-align: top;\n",
       "    }\n",
       "\n",
       "    .dataframe thead th {\n",
       "        text-align: right;\n",
       "    }\n",
       "</style>\n",
       "<table border=\"1\" class=\"dataframe\">\n",
       "  <thead>\n",
       "    <tr style=\"text-align: right;\">\n",
       "      <th></th>\n",
       "      <th>Borough</th>\n",
       "      <th>Cluster Labels</th>\n",
       "      <th>1st Most Common Venue</th>\n",
       "      <th>2nd Most Common Venue</th>\n",
       "      <th>3rd Most Common Venue</th>\n",
       "      <th>4th Most Common Venue</th>\n",
       "      <th>5th Most Common Venue</th>\n",
       "      <th>6th Most Common Venue</th>\n",
       "      <th>7th Most Common Venue</th>\n",
       "      <th>8th Most Common Venue</th>\n",
       "      <th>9th Most Common Venue</th>\n",
       "      <th>10th Most Common Venue</th>\n",
       "    </tr>\n",
       "  </thead>\n",
       "  <tbody>\n",
       "    <tr>\n",
       "      <th>4</th>\n",
       "      <td>Central Toronto</td>\n",
       "      <td>4</td>\n",
       "      <td>Park</td>\n",
       "      <td>Jewelry Store</td>\n",
       "      <td>Swim School</td>\n",
       "      <td>Bus Line</td>\n",
       "      <td>Wings Joint</td>\n",
       "      <td>Discount Store</td>\n",
       "      <td>Falafel Restaurant</td>\n",
       "      <td>Event Space</td>\n",
       "      <td>Ethiopian Restaurant</td>\n",
       "      <td>Electronics Store</td>\n",
       "    </tr>\n",
       "  </tbody>\n",
       "</table>\n",
       "</div>"
      ],
      "text/plain": [
       "           Borough  Cluster Labels 1st Most Common Venue  \\\n",
       "4  Central Toronto               4                  Park   \n",
       "\n",
       "  2nd Most Common Venue 3rd Most Common Venue 4th Most Common Venue  \\\n",
       "4         Jewelry Store           Swim School              Bus Line   \n",
       "\n",
       "  5th Most Common Venue 6th Most Common Venue 7th Most Common Venue  \\\n",
       "4           Wings Joint        Discount Store    Falafel Restaurant   \n",
       "\n",
       "  8th Most Common Venue 9th Most Common Venue 10th Most Common Venue  \n",
       "4           Event Space  Ethiopian Restaurant      Electronics Store  "
      ]
     },
     "execution_count": 40,
     "metadata": {},
     "output_type": "execute_result"
    }
   ],
   "source": [
    "label_4 # park"
   ]
  },
  {
   "cell_type": "code",
   "execution_count": 46,
   "metadata": {},
   "outputs": [
    {
     "name": "stdout",
     "output_type": "stream",
     "text": [
      "[NbConvertApp] WARNING | pattern 'file' matched no files\n",
      "This application is used to convert notebook files (*.ipynb) to various other\n",
      "formats.\n",
      "\n",
      "WARNING: THE COMMANDLINE INTERFACE MAY CHANGE IN FUTURE RELEASES.\n",
      "\n",
      "Options\n",
      "-------\n",
      "\n",
      "Arguments that take values are actually convenience aliases to full\n",
      "Configurables, whose aliases are listed on the help line. For more information\n",
      "on full configurables, see '--help-all'.\n",
      "\n",
      "--debug\n",
      "    set log level to logging.DEBUG (maximize logging output)\n",
      "--generate-config\n",
      "    generate default config file\n",
      "-y\n",
      "    Answer yes to any questions instead of prompting.\n",
      "--execute\n",
      "    Execute the notebook prior to export.\n",
      "--allow-errors\n",
      "    Continue notebook execution even if one of the cells throws an error and include the error message in the cell output (the default behaviour is to abort conversion). This flag is only relevant if '--execute' was specified, too.\n",
      "--stdin\n",
      "    read a single notebook file from stdin. Write the resulting notebook with default basename 'notebook.*'\n",
      "--stdout\n",
      "    Write notebook output to stdout instead of files.\n",
      "--inplace\n",
      "    Run nbconvert in place, overwriting the existing notebook (only \n",
      "    relevant when converting to notebook format)\n",
      "--clear-output\n",
      "    Clear output of current file and save in place, \n",
      "    overwriting the existing notebook.\n",
      "--no-prompt\n",
      "    Exclude input and output prompts from converted document.\n",
      "--no-input\n",
      "    Exclude input cells and output prompts from converted document. \n",
      "    This mode is ideal for generating code-free reports.\n",
      "--log-level=<Enum> (Application.log_level)\n",
      "    Default: 30\n",
      "    Choices: (0, 10, 20, 30, 40, 50, 'DEBUG', 'INFO', 'WARN', 'ERROR', 'CRITICAL')\n",
      "    Set the log level by value or name.\n",
      "--config=<Unicode> (JupyterApp.config_file)\n",
      "    Default: ''\n",
      "    Full path of a config file.\n",
      "--to=<Unicode> (NbConvertApp.export_format)\n",
      "    Default: 'html'\n",
      "    The export format to be used, either one of the built-in formats\n",
      "    ['asciidoc', 'custom', 'html', 'html_ch', 'html_embed', 'html_toc',\n",
      "    'html_with_lenvs', 'html_with_toclenvs', 'latex', 'latex_with_lenvs',\n",
      "    'markdown', 'notebook', 'pdf', 'python', 'rst', 'script', 'selectLanguage',\n",
      "    'slides', 'slides_with_lenvs'] or a dotted object name that represents the\n",
      "    import path for an `Exporter` class\n",
      "--template=<Unicode> (TemplateExporter.template_file)\n",
      "    Default: ''\n",
      "    Name of the template file to use\n",
      "--writer=<DottedObjectName> (NbConvertApp.writer_class)\n",
      "    Default: 'FilesWriter'\n",
      "    Writer class used to write the  results of the conversion\n",
      "--post=<DottedOrNone> (NbConvertApp.postprocessor_class)\n",
      "    Default: ''\n",
      "    PostProcessor class used to write the results of the conversion\n",
      "--output=<Unicode> (NbConvertApp.output_base)\n",
      "    Default: ''\n",
      "    overwrite base name use for output files. can only be used when converting\n",
      "    one notebook at a time.\n",
      "--output-dir=<Unicode> (FilesWriter.build_directory)\n",
      "    Default: ''\n",
      "    Directory to write output(s) to. Defaults to output to the directory of each\n",
      "    notebook. To recover previous default behaviour (outputting to the current\n",
      "    working directory) use . as the flag value.\n",
      "--reveal-prefix=<Unicode> (SlidesExporter.reveal_url_prefix)\n",
      "    Default: ''\n",
      "    The URL prefix for reveal.js (version 3.x). This defaults to the reveal CDN,\n",
      "    but can be any url pointing to a copy  of reveal.js.\n",
      "    For speaker notes to work, this must be a relative path to a local  copy of\n",
      "    reveal.js: e.g., \"reveal.js\".\n",
      "    If a relative path is given, it must be a subdirectory of the current\n",
      "    directory (from which the server is run).\n",
      "    See the usage documentation\n",
      "    (https://nbconvert.readthedocs.io/en/latest/usage.html#reveal-js-html-\n",
      "    slideshow) for more details.\n",
      "--nbformat=<Enum> (NotebookExporter.nbformat_version)\n",
      "    Default: 4\n",
      "    Choices: [1, 2, 3, 4]\n",
      "    The nbformat version to write. Use this to downgrade notebooks.\n",
      "\n",
      "To see all available configurables, use `--help-all`\n",
      "\n",
      "Examples\n",
      "--------\n",
      "\n",
      "    The simplest way to use nbconvert is\n",
      "    \n",
      "    > jupyter nbconvert mynotebook.ipynb\n",
      "    \n",
      "    which will convert mynotebook.ipynb to the default format (probably HTML).\n",
      "    \n",
      "    You can specify the export format with `--to`.\n",
      "    Options include ['asciidoc', 'custom', 'html', 'html_ch', 'html_embed', 'html_toc', 'html_with_lenvs', 'html_with_toclenvs', 'latex', 'latex_with_lenvs', 'markdown', 'notebook', 'pdf', 'python', 'rst', 'script', 'selectLanguage', 'slides', 'slides_with_lenvs'].\n",
      "    \n",
      "    > jupyter nbconvert --to latex mynotebook.ipynb\n",
      "    \n",
      "    Both HTML and LaTeX support multiple output templates. LaTeX includes\n",
      "    'base', 'article' and 'report'.  HTML includes 'basic' and 'full'. You\n",
      "    can specify the flavor of the format used.\n",
      "    \n",
      "    > jupyter nbconvert --to html --template basic mynotebook.ipynb\n",
      "    \n",
      "    You can also pipe the output to stdout, rather than a file\n",
      "    \n",
      "    > jupyter nbconvert mynotebook.ipynb --stdout\n",
      "    \n",
      "    PDF is generated via latex\n",
      "    \n",
      "    > jupyter nbconvert mynotebook.ipynb --to pdf\n",
      "    \n",
      "    You can get (and serve) a Reveal.js-powered slideshow\n",
      "    \n",
      "    > jupyter nbconvert myslides.ipynb --to slides --post serve\n",
      "    \n",
      "    Multiple notebooks can be given at the command line in a couple of \n",
      "    different ways:\n",
      "    \n",
      "    > jupyter nbconvert notebook*.ipynb\n",
      "    > jupyter nbconvert notebook1.ipynb notebook2.ipynb\n",
      "    \n",
      "    or you can specify the notebooks list in a config file, containing::\n",
      "    \n",
      "        c.NbConvertApp.notebooks = [\"my_notebook.ipynb\"]\n",
      "    \n",
      "    > jupyter nbconvert --config mycfg.py\n",
      "\n"
     ]
    }
   ],
   "source": [
    "file = 'Segmenting And Clustering Neighborhoods in Toronto Part 3 (Clustering).ipynb'\n",
    "!jupyter nbconvert file --to pdf\n",
    "\n",
    "!jupyter nbconvert Decorators.ipynb --to html"
   ]
  },
  {
   "cell_type": "code",
   "execution_count": null,
   "metadata": {},
   "outputs": [],
   "source": []
  }
 ],
 "metadata": {
  "kernelspec": {
   "display_name": "Python 3",
   "language": "python",
   "name": "python3"
  },
  "language_info": {
   "codemirror_mode": {
    "name": "ipython",
    "version": 3
   },
   "file_extension": ".py",
   "mimetype": "text/x-python",
   "name": "python",
   "nbconvert_exporter": "python",
   "pygments_lexer": "ipython3",
   "version": "3.7.3"
  }
 },
 "nbformat": 4,
 "nbformat_minor": 2
}
